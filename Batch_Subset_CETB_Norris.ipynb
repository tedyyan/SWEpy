{
 "cells": [
  {
   "cell_type": "markdown",
   "metadata": {},
   "source": [
    "# Using NCO utilities ncks and ncrcat to subset CETB files by location and concatenate by time series\n",
    "\n",
    "To begin, you need to know the map coordinates of the spatial subset you want.\n",
    "\n",
    "You can use various utilities to do this, we have written the python package cetbtools.ease2conv to help with it.\n",
    "\n",
    "For this example, I want the upper left quadrant of the EASE2_N25km grid, which is bounded by\n",
    "the upper left corner of the grid and the North Pole at the center of the grid."
   ]
  },
  {
   "cell_type": "markdown",
   "metadata": {},
   "source": [
    "# There are Three Stages of Files: \n",
    "## - Web Scraped \n",
    "    - These are raw netCDF files with much more information than just Tb data \n",
    "## - Subsetted \n",
    "    - These are geographically subsetted to the North Slope of Alaska and only contain arrays of Tb information \n",
    "## - Concatenated\n",
    "    - These are essentially time cubes of Tb matrices stored in netCDF files (contain entire year)\n",
    "## - LongFile\n",
    "    - Consists of many years concatenated together, this is a complete dataset "
   ]
  },
  {
   "cell_type": "code",
   "execution_count": null,
   "metadata": {},
   "outputs": [],
   "source": [
    "#%cd /Users/williamnorris/SWE_TB/data"
   ]
  },
  {
   "cell_type": "code",
   "execution_count": 1,
   "metadata": {},
   "outputs": [
    {
     "name": "stdout",
     "output_type": "stream",
     "text": [
      "Populating the interactive namespace from numpy and matplotlib\n"
     ]
    }
   ],
   "source": [
    "%pylab notebook\n",
    "import netCDF4\n",
    "from netCDF4 import Dataset\n",
    "import matplotlib.pyplot as plt\n",
    "import numpy as np\n",
    "from cetbtools.ease2conv import Ease2Transform\n",
    "import subprocess\n",
    "from subprocess import call\n",
    "import shlex\n",
    "import os\n",
    "import sys\n",
    "import glob"
   ]
  },
  {
   "cell_type": "code",
   "execution_count": 2,
   "metadata": {},
   "outputs": [
    {
     "data": {
      "text/plain": [
       "'/Users/williamnorris/SWE_TB'"
      ]
     },
     "execution_count": 2,
     "metadata": {},
     "output_type": "execute_result"
    }
   ],
   "source": [
    "path = os.getcwd()\n",
    "path"
   ]
  },
  {
   "cell_type": "markdown",
   "metadata": {},
   "source": [
    "## Get Coordinates"
   ]
  },
  {
   "cell_type": "markdown",
   "metadata": {},
   "source": [
    "#### Convert lat/lon coordinates to EASE Grid 2.0 coordinates \n",
    "- Important to remember EASE Grid is oriented from the Pole, so it will look inverted \n",
    "- This subset includes the entirety of the brooks range and the North Slope \n",
    "![title](North_Slope_Subset.png)"
   ]
  },
  {
   "cell_type": "code",
   "execution_count": 3,
   "metadata": {
    "scrolled": true
   },
   "outputs": [
    {
     "name": "stdout",
     "output_type": "stream",
     "text": [
      "1062.91625534 1125.40805254\n",
      "-1963074.67159 2353648.4041\n"
     ]
    }
   ],
   "source": [
    "# Upper Left of North slope \n",
    "N6 = Ease2Transform(\"EASE2_N6.25km\")\n",
    "lat, lon = 62.27, -140.17\n",
    "row, col = N6.geographic_to_grid(lat, lon)\n",
    "x, y = N6.grid_to_map(row, col)\n",
    "print row,col\n",
    "print x, y"
   ]
  },
  {
   "cell_type": "code",
   "execution_count": 4,
   "metadata": {},
   "outputs": [
    {
     "name": "stdout",
     "output_type": "stream",
     "text": [
      "1156.75516773 1369.42297793\n",
      "-437981.387918 1767155.20168\n"
     ]
    }
   ],
   "source": [
    "# Lower right of North Slope \n",
    "lat, lon =73.64, -166.08\n",
    "row, col = N6.geographic_to_grid(lat, lon)\n",
    "x, y = N6.grid_to_map(row, col)\n",
    "print row,col\n",
    "print x, y"
   ]
  },
  {
   "cell_type": "markdown",
   "metadata": {},
   "source": [
    "So these min/max values for x and y can be passed to ncks to subset the TB variable from a CETB file with:\n",
    "\n",
    "cmd = '/anaconda/envs/ipykernel_py2/bin/ncks -d x,-1963074.67,-437981.38 -d y,1767155.2,2353648.4 -v TB ' + infile + \" \" + outfile"
   ]
  },
  {
   "cell_type": "markdown",
   "metadata": {},
   "source": [
    "## Make List of Files"
   ]
  },
  {
   "cell_type": "code",
   "execution_count": 20,
   "metadata": {},
   "outputs": [],
   "source": [
    "#%cd wget\n",
    "os.chdir(path + '/data/wget')"
   ]
  },
  {
   "cell_type": "code",
   "execution_count": 21,
   "metadata": {},
   "outputs": [],
   "source": [
    "# Make a list of the files to concatenate together for 19H\n",
    "list19 = sort(glob.glob(\"*19H-M-SIR*\"))\n",
    "\n",
    "# Make list for the 37GHz\n",
    "list37 = sort(glob.glob(\"*37H-M-SIR*\"))"
   ]
  },
  {
   "cell_type": "markdown",
   "metadata": {},
   "source": [
    "## Subset Files to Geo Location \n",
    "### Enter paths of file locations and destinations"
   ]
  },
  {
   "cell_type": "code",
   "execution_count": 22,
   "metadata": {},
   "outputs": [],
   "source": [
    "os.chdir(path)\n",
    "wget = path + \"/data/wget/\"\n",
    "#wget37 = path + \"/37GHz_Wget/\"\n",
    "path19 = path + \"/data/Subsetted_19H/\"\n",
    "path37 = path + \"/data/Subsetted_37H/\""
   ]
  },
  {
   "cell_type": "code",
   "execution_count": 24,
   "metadata": {},
   "outputs": [
    {
     "name": "stdout",
     "output_type": "stream",
     "text": [
      "Next in : NSIDC-0630-EASE2_N6.25km-F19_SSMIS-2015001-19H-M-SIR-CSU-v1.2.nc\n",
      "Next out: /Users/williamnorris/SWE_TB/data/Subsetted_19H/NSIDC-0630-EASE2_N6.25km-F19_SSMIS-2015001-19H-M-SIR-CSU-v1.2.nc\n",
      "Done\n",
      "Next in : NSIDC-0630-EASE2_N6.25km-F19_SSMIS-2015002-19H-M-SIR-CSU-v1.2.nc\n",
      "Next out: /Users/williamnorris/SWE_TB/data/Subsetted_19H/NSIDC-0630-EASE2_N6.25km-F19_SSMIS-2015002-19H-M-SIR-CSU-v1.2.nc\n",
      "Done\n",
      "Next in : NSIDC-0630-EASE2_N6.25km-F19_SSMIS-2015003-19H-M-SIR-CSU-v1.2.nc\n",
      "Next out: /Users/williamnorris/SWE_TB/data/Subsetted_19H/NSIDC-0630-EASE2_N6.25km-F19_SSMIS-2015003-19H-M-SIR-CSU-v1.2.nc\n",
      "Done\n",
      "Next in : NSIDC-0630-EASE2_N6.25km-F19_SSMIS-2015004-19H-M-SIR-CSU-v1.2.nc\n",
      "Next out: /Users/williamnorris/SWE_TB/data/Subsetted_19H/NSIDC-0630-EASE2_N6.25km-F19_SSMIS-2015004-19H-M-SIR-CSU-v1.2.nc\n",
      "Done\n",
      "Next in : NSIDC-0630-EASE2_N6.25km-F19_SSMIS-2015005-19H-M-SIR-CSU-v1.2.nc\n",
      "Next out: /Users/williamnorris/SWE_TB/data/Subsetted_19H/NSIDC-0630-EASE2_N6.25km-F19_SSMIS-2015005-19H-M-SIR-CSU-v1.2.nc\n",
      "Done\n",
      "Next in : NSIDC-0630-EASE2_N6.25km-F19_SSMIS-2015006-19H-M-SIR-CSU-v1.2.nc\n",
      "Next out: /Users/williamnorris/SWE_TB/data/Subsetted_19H/NSIDC-0630-EASE2_N6.25km-F19_SSMIS-2015006-19H-M-SIR-CSU-v1.2.nc\n",
      "Done\n",
      "Next in: /Users/williamnorris/SWE_TB/data/wget/NSIDC-0630-EASE2_N3.125km-F19_SSMIS-2015001-37H-M-SIR-CSU-v1.2.nc\n",
      "Next out: /Users/williamnorris/SWE_TB/data/Subsetted_37H/NSIDC-0630-EASE2_N3.125km-F19_SSMIS-2015001-37H-M-SIR-CSU-v1.2.nc\n",
      "Done\n",
      "Next in: /Users/williamnorris/SWE_TB/data/wget/NSIDC-0630-EASE2_N3.125km-F19_SSMIS-2015002-37H-M-SIR-CSU-v1.2.nc\n",
      "Next out: /Users/williamnorris/SWE_TB/data/Subsetted_37H/NSIDC-0630-EASE2_N3.125km-F19_SSMIS-2015002-37H-M-SIR-CSU-v1.2.nc\n",
      "Done\n",
      "Next in: /Users/williamnorris/SWE_TB/data/wget/NSIDC-0630-EASE2_N3.125km-F19_SSMIS-2015003-37H-M-SIR-CSU-v1.2.nc\n",
      "Next out: /Users/williamnorris/SWE_TB/data/Subsetted_37H/NSIDC-0630-EASE2_N3.125km-F19_SSMIS-2015003-37H-M-SIR-CSU-v1.2.nc\n",
      "Done\n",
      "Next in: /Users/williamnorris/SWE_TB/data/wget/NSIDC-0630-EASE2_N3.125km-F19_SSMIS-2015004-37H-M-SIR-CSU-v1.2.nc\n",
      "Next out: /Users/williamnorris/SWE_TB/data/Subsetted_37H/NSIDC-0630-EASE2_N3.125km-F19_SSMIS-2015004-37H-M-SIR-CSU-v1.2.nc\n",
      "Done\n",
      "Next in: /Users/williamnorris/SWE_TB/data/wget/NSIDC-0630-EASE2_N3.125km-F19_SSMIS-2015005-37H-M-SIR-CSU-v1.2.nc\n",
      "Next out: /Users/williamnorris/SWE_TB/data/Subsetted_37H/NSIDC-0630-EASE2_N3.125km-F19_SSMIS-2015005-37H-M-SIR-CSU-v1.2.nc\n",
      "Done\n"
     ]
    }
   ],
   "source": [
    "# for loop to take each file in the list and subset it's location \n",
    "for file in list19:\n",
    "    outfile = path19 + file\n",
    "    infile = wget + file\n",
    "    cmd = '/anaconda3/envs/python2/bin/ncks -d x,-1963074.67,-437981.38 -d y,1767155.2,2353648.4 -v TB ' + infile + \" \" + outfile\n",
    "    print(\"Next in : %s\" % file)\n",
    "    print(\"Next out: %s\" % outfile)\n",
    "    # print(\"next unl out: %s\" % unlfile)\n",
    "    subprocess.call(shlex.split(cmd), shell = False)\n",
    "    os.remove(infile)\n",
    "    print(\"Done\")\n",
    "\n",
    "    \n",
    "for file in list37: \n",
    "    outfile = path37 + file \n",
    "    infile = wget + file\n",
    "    cmd = '/anaconda3/envs/python2/bin/ncks -d x,-1963074.67,-437981.38 -d y,1767155.2,2353648.4 -v TB ' + infile + \" \" + outfile\n",
    "    print(\"Next in: %s\" % infile)\n",
    "    print(\"Next out: %s\" % outfile)\n",
    "    subprocess.call(shlex.split(cmd), shell = False)\n",
    "    os.remove(infile)\n",
    "    print(\"Done\")   "
   ]
  },
  {
   "cell_type": "markdown",
   "metadata": {},
   "source": [
    "## Concatenate each year of files together "
   ]
  },
  {
   "cell_type": "markdown",
   "metadata": {},
   "source": [
    "### Keep in mind the 19H files are 6.25km pixels and the 37H are 3.25km pixels"
   ]
  },
  {
   "cell_type": "code",
   "execution_count": 25,
   "metadata": {
    "scrolled": true
   },
   "outputs": [
    {
     "name": "stdout",
     "output_type": "stream",
     "text": [
      "ncrcat: INFO/WARNING Multi-file concatenator encountered packing attribute scale_factor for variable TB. NCO copies the packing attributes from the first file to the output file. The packing attributes from the remaining files must match exactly those in the first file or data from subsequent files will not unpack correctly. Be sure all input files share the same packing attributes. If in doubt, unpack (with ncpdq -U) the input files, then concatenate them, then pack the result (with ncpdq). This message is printed only once per invocation.\n",
      "ncrcat: INFO/WARNING Multi-file concatenator encountered packing attribute scale_factor for variable TB. NCO copies the packing attributes from the first file to the output file. The packing attributes from the remaining files must match exactly those in the first file or data from subsequent files will not unpack correctly. Be sure all input files share the same packing attributes. If in doubt, unpack (with ncpdq -U) the input files, then concatenate them, then pack the result (with ncpdq). This message is printed only once per invocation.\n"
     ]
    }
   ],
   "source": [
    "os.chdir(path)\n",
    "os.chdir(path + '/data' + '/Subsetted_19H')\n",
    "#%cd Subsetted_19H\n",
    "# Concatenate 19GHz files:\n",
    "!/anaconda3/envs/python2/bin/ncrcat NSIDC*nc -O all_days_2015_19H_F19.nc\n",
    "#%cd ..\n",
    "\n",
    "os.chdir(path + '/data' + '/Subsetted_37H')\n",
    "#%cd Subsetted_37H\n",
    "# Concatenate 37GHz files: \n",
    "!/anaconda3/envs/python2/bin/ncrcat NSIDC*nc -O all_days_2015_37H_F19.nc\n",
    "#%cd .."
   ]
  },
  {
   "cell_type": "code",
   "execution_count": 26,
   "metadata": {},
   "outputs": [],
   "source": [
    "# To remove all the excess files in the directory \n",
    "# Only use when done with individual files!!!\n",
    "os.chdir(path + '/data' + '/Subsetted_19H')\n",
    "#%cd Subsetted_19H\n",
    "filelist = glob.glob('NSIDC*')\n",
    "for f in filelist:\n",
    "    os.remove(f)\n",
    "#%cd ..\n",
    "    \n",
    "os.chdir(path + '/data' + '/Subsetted_37H')\n",
    "#%cd Subsetted_37H\n",
    "filelist = glob.glob('NSIDC*')\n",
    "for f in filelist:\n",
    "    os.remove(f)\n",
    "#%cd .."
   ]
  },
  {
   "cell_type": "markdown",
   "metadata": {},
   "source": [
    "## Make Long File Out of Each Year's File"
   ]
  },
  {
   "cell_type": "code",
   "execution_count": null,
   "metadata": {},
   "outputs": [],
   "source": [
    "# Make Long File with multiple satellite sensors for 2000-2008\n",
    "%cd /Users/williamnorris/SWE_Clean/19H_Concatenated\n",
    "!/anaconda/envs/python2/bin/ncrcat all*nc -O /Users/williamnorris/SWE_Clean/LongFile/all_days_19H "
   ]
  },
  {
   "cell_type": "code",
   "execution_count": 3,
   "metadata": {},
   "outputs": [
    {
     "name": "stdout",
     "output_type": "stream",
     "text": [
      "/bin/sh: /anaconda3/envs/gis/bin/ncrcat: No such file or directory\r\n"
     ]
    }
   ],
   "source": [
    "#%cd /Users/williamnorris/SWE_Clean/37H_Concatenated\n",
    "!/anaconda3/envs/gis/bin/ncrcat all*nc -O /Users/williamnorris/SWE_Clean/LongFile/all_days_37H "
   ]
  },
  {
   "cell_type": "code",
   "execution_count": null,
   "metadata": {},
   "outputs": [],
   "source": []
  }
 ],
 "metadata": {
  "anaconda-cloud": {},
  "kernelspec": {
   "display_name": "Python 3",
   "language": "python",
   "name": "python3"
  },
  "language_info": {
   "codemirror_mode": {
    "name": "ipython",
    "version": 3
   },
   "file_extension": ".py",
   "mimetype": "text/x-python",
   "name": "python",
   "nbconvert_exporter": "python",
   "pygments_lexer": "ipython3",
   "version": "3.6.4"
  }
 },
 "nbformat": 4,
 "nbformat_minor": 1
}

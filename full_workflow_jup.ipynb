{
 "cells": [
  {
   "cell_type": "code",
   "execution_count": 1,
   "metadata": {},
   "outputs": [],
   "source": [
    "import os\n",
    "import datetime\n",
    "from swepy.swepy import swepy\n",
    "path = os.getcwd()"
   ]
  },
  {
   "cell_type": "markdown",
   "metadata": {},
   "source": [
    "## Input Study Area"
   ]
  },
  {
   "cell_type": "code",
   "execution_count": 2,
   "metadata": {},
   "outputs": [],
   "source": [
    "# greenland\n",
    "lat_lon_ul = [82, -54] \n",
    "lat_lon_lr = [80, -30]\n",
    "\n",
    "# alaska\n",
    "#lat_lon_ul = [66,-148]\n",
    "#lat_lon_lr = [71, -166]\n",
    "\n",
    "#antarctica\n",
    "#lat_lon_lr = [-80, 9]\n",
    "#lat_lon_ul = [-69, -16]\n",
    "\n",
    "# colorado \n",
    "#lat_lon_lr = [37, -102]\n",
    "#lat_lon_ul = [40, -109]\n",
    "\n",
    "# Generate list of dates\n",
    "start = datetime.date(1998, 1, 1)\n",
    "end = datetime.date(2000, 1, 1)\n",
    "\n",
    "username= 'wino6687'\n",
    "password = 'Desmo12@'"
   ]
  },
  {
   "cell_type": "code",
   "execution_count": 3,
   "metadata": {},
   "outputs": [],
   "source": [
    "swep = swepy(path, start, end, lat_lon_ul, lat_lon_lr, username, password)"
   ]
  },
  {
   "cell_type": "code",
   "execution_count": null,
   "metadata": {},
   "outputs": [
    {
     "name": "stderr",
     "output_type": "stream",
     "text": [
      " 19%|█▉        | 19/100 [00:22<01:35,  1.18s/it]"
     ]
    }
   ],
   "source": [
    "swep.scrape_all()"
   ]
  },
  {
   "cell_type": "code",
   "execution_count": null,
   "metadata": {},
   "outputs": [],
   "source": [
    "swep.concatenate(swep.subset(swep.scrape()))"
   ]
  },
  {
   "cell_type": "code",
   "execution_count": null,
   "metadata": {
    "scrolled": false
   },
   "outputs": [],
   "source": [
    "token = 'pk.eyJ1Ijoid2lubzY2ODciLCJhIjoiY2pmNzRzNW13MDh2ZTQwa2ZubHZ1Zm05MCJ9.0RphwnTycCcs9xmAtpBsug'\n",
    "swep.plot_a_day(token)"
   ]
  },
  {
   "cell_type": "code",
   "execution_count": null,
   "metadata": {},
   "outputs": [],
   "source": []
  },
  {
   "cell_type": "code",
   "execution_count": null,
   "metadata": {},
   "outputs": [],
   "source": []
  },
  {
   "cell_type": "code",
   "execution_count": null,
   "metadata": {},
   "outputs": [],
   "source": []
  },
  {
   "cell_type": "code",
   "execution_count": null,
   "metadata": {},
   "outputs": [],
   "source": []
  },
  {
   "cell_type": "code",
   "execution_count": null,
   "metadata": {},
   "outputs": [],
   "source": []
  },
  {
   "cell_type": "code",
   "execution_count": null,
   "metadata": {},
   "outputs": [],
   "source": []
  }
 ],
 "metadata": {
  "kernelspec": {
   "display_name": "Python (swepy_env)",
   "language": "python",
   "name": "swepy_env"
  },
  "language_info": {
   "codemirror_mode": {
    "name": "ipython",
    "version": 3
   },
   "file_extension": ".py",
   "mimetype": "text/x-python",
   "name": "python",
   "nbconvert_exporter": "python",
   "pygments_lexer": "ipython3",
   "version": "3.6.5"
  }
 },
 "nbformat": 4,
 "nbformat_minor": 2
}

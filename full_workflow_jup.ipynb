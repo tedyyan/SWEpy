{
 "cells": [
  {
   "cell_type": "code",
   "execution_count": 6,
   "metadata": {},
   "outputs": [],
   "source": [
    "import os\n",
    "import datetime\n",
    "from swepy.swepy import swepy\n",
    "path = os.getcwd()"
   ]
  },
  {
   "cell_type": "markdown",
   "metadata": {},
   "source": [
    "## Input Study Area"
   ]
  },
  {
   "cell_type": "code",
   "execution_count": 7,
   "metadata": {},
   "outputs": [],
   "source": [
    "# greenland\n",
    "#lat_lon_ul = [82, -54] \n",
    "#lat_lon_lr = [80, -30]\n",
    "\n",
    "# alaska\n",
    "lat_lon_ul = [66,-145]\n",
    "lat_lon_lr = [73, -166]\n",
    "\n",
    "#antarctica\n",
    "#lat_lon_lr = [-80, 9]\n",
    "#lat_lon_ul = [-69, -16]\n",
    "\n",
    "# colorado \n",
    "#lat_lon_lr = [37, -102]\n",
    "#lat_lon_ul = [40, -109]\n",
    "\n",
    "# no subset\n",
    "#lat_lon_lr = \"N\"\n",
    "#lat_lon_ul = \"N\"\n",
    "\n",
    "# Generate list of dates\n",
    "start = datetime.date(1993, 1, 1)\n",
    "end = datetime.date(2016, 12, 31)\n",
    "\n",
    "username= ''\n",
    "password = ''"
   ]
  },
  {
   "cell_type": "code",
   "execution_count": 3,
   "metadata": {},
   "outputs": [],
   "source": [
    "swep = swepy(path, start, end, lat_lon_ul, lat_lon_lr, username, password, high_res = True)"
   ]
  },
  {
   "cell_type": "code",
   "execution_count": null,
   "metadata": {},
   "outputs": [
    {
     "name": "stderr",
     "output_type": "stream",
     "text": [
      "100%|██████████| 100/100 [02:21<00:00,  1.41s/it]\n",
      "100%|██████████| 100/100 [00:13<00:00,  7.36it/s]\n",
      "100%|██████████| 100/100 [00:14<00:00,  6.89it/s]\n",
      "100%|██████████| 100/100 [04:06<00:00,  2.47s/it]\n",
      "100%|██████████| 100/100 [00:13<00:00,  7.41it/s]\n",
      "100%|██████████| 100/100 [00:15<00:00,  6.49it/s]\n",
      "100%|██████████| 100/100 [04:24<00:00,  2.65s/it]\n",
      "100%|██████████| 100/100 [00:12<00:00,  7.81it/s]\n",
      "100%|██████████| 100/100 [00:15<00:00,  6.35it/s]\n",
      "100%|██████████| 100/100 [04:33<00:00,  2.74s/it]\n",
      "100%|██████████| 100/100 [00:12<00:00,  7.75it/s]\n",
      "100%|██████████| 100/100 [00:14<00:00,  6.79it/s]\n",
      "100%|██████████| 100/100 [03:36<00:00,  2.16s/it]\n",
      "100%|██████████| 100/100 [00:12<00:00,  7.90it/s]\n",
      " 82%|████████▏ | 82/100 [00:11<00:02,  6.95it/s]"
     ]
    }
   ],
   "source": [
    "swep.scrape_all()\n",
    "#swep.concatenate(swep.scrape())"
   ]
  },
  {
   "cell_type": "code",
   "execution_count": null,
   "metadata": {},
   "outputs": [],
   "source": [
    "#swep.concatenate(swep.subset(swep.scrape()))"
   ]
  },
  {
   "cell_type": "code",
   "execution_count": null,
   "metadata": {
    "scrolled": false
   },
   "outputs": [],
   "source": [
    "token = 'pk.eyJ1Ijoid2lubzY2ODciLCJhIjoiY2pmNzRzNW13MDh2ZTQwa2ZubHZ1Zm05MCJ9.0RphwnTycCcs9xmAtpBsug'\n",
    "swep.plot_a_day(token)"
   ]
  },
  {
   "cell_type": "code",
   "execution_count": 5,
   "metadata": {},
   "outputs": [],
   "source": [
    "swep.clean_dirs()"
   ]
  },
  {
   "cell_type": "code",
   "execution_count": null,
   "metadata": {},
   "outputs": [],
   "source": []
  },
  {
   "cell_type": "code",
   "execution_count": null,
   "metadata": {},
   "outputs": [],
   "source": []
  }
 ],
 "metadata": {
  "kernelspec": {
   "display_name": "Python (swepy_env)",
   "language": "python",
   "name": "swepy_env"
  },
  "language_info": {
   "codemirror_mode": {
    "name": "ipython",
    "version": 3
   },
   "file_extension": ".py",
   "mimetype": "text/x-python",
   "name": "python",
   "nbconvert_exporter": "python",
   "pygments_lexer": "ipython3",
   "version": "3.6.5"
  }
 },
 "nbformat": 4,
 "nbformat_minor": 2
}

{
 "cells": [
  {
   "cell_type": "code",
   "execution_count": 1,
   "metadata": {},
   "outputs": [],
   "source": [
    "import os\n",
    "import datetime\n",
    "from swepy.swepy import swepy"
   ]
  },
  {
   "cell_type": "code",
   "execution_count": 3,
   "metadata": {},
   "outputs": [],
   "source": [
    "from swepy.process import process"
   ]
  },
  {
   "cell_type": "code",
   "execution_count": null,
   "metadata": {},
   "outputs": [],
   "source": []
  },
  {
   "cell_type": "markdown",
   "metadata": {},
   "source": [
    "## Input Study Area"
   ]
  },
  {
   "cell_type": "code",
   "execution_count": 4,
   "metadata": {},
   "outputs": [],
   "source": [
    "# alaska\n",
    "lat_lon_ul = [66,-145]\n",
    "lat_lon_lr = [73,-166]\n",
    "\n",
    "# start and end dates \n",
    "start = datetime.date(2005, 1, 1)\n",
    "end = datetime.date(2005, 1, 1)"
   ]
  },
  {
   "cell_type": "code",
   "execution_count": 5,
   "metadata": {},
   "outputs": [
    {
     "name": "stdout",
     "output_type": "stream",
     "text": [
      "Logging you into Earth Data...\n",
      "Success!\n"
     ]
    }
   ],
   "source": [
    "swep = swepy(os.getcwd(), start=start, end=end,ul = lat_lon_ul, lr = lat_lon_lr, username = 'wino6687', password = 'Desmo12@', high_res=False)"
   ]
  },
  {
   "cell_type": "code",
   "execution_count": 6,
   "metadata": {},
   "outputs": [
    {
     "name": "stderr",
     "output_type": "stream",
     "text": [
      "100%|██████████| 1/1 [00:00<00:00,  1.76it/s]\n",
      "100%|██████████| 1/1 [00:00<00:00,  9.19it/s]\n",
      "100%|██████████| 1/1 [00:00<00:00, 16.96it/s]\n"
     ]
    }
   ],
   "source": [
    "tup = swep.scrape_all()"
   ]
  },
  {
   "cell_type": "code",
   "execution_count": null,
   "metadata": {},
   "outputs": [],
   "source": [
    "import swepy.process as process"
   ]
  },
  {
   "cell_type": "code",
   "execution_count": 8,
   "metadata": {},
   "outputs": [],
   "source": [
    "tb19, tb37 = process.get_array(tup[0], tup[1])"
   ]
  },
  {
   "cell_type": "code",
   "execution_count": null,
   "metadata": {},
   "outputs": [],
   "source": []
  },
  {
   "cell_type": "code",
   "execution_count": null,
   "metadata": {},
   "outputs": [],
   "source": []
  },
  {
   "cell_type": "code",
   "execution_count": null,
   "metadata": {},
   "outputs": [],
   "source": []
  },
  {
   "cell_type": "code",
   "execution_count": null,
   "metadata": {},
   "outputs": [],
   "source": []
  },
  {
   "cell_type": "code",
   "execution_count": null,
   "metadata": {},
   "outputs": [],
   "source": []
  },
  {
   "cell_type": "code",
   "execution_count": null,
   "metadata": {},
   "outputs": [],
   "source": []
  },
  {
   "cell_type": "code",
   "execution_count": null,
   "metadata": {},
   "outputs": [],
   "source": []
  },
  {
   "cell_type": "code",
   "execution_count": null,
   "metadata": {},
   "outputs": [],
   "source": [
    "import cartopy.crs as ccrs\n",
    "geod = ccrs.Geodetic()\n",
    "e2n = ccrs.LambertAzimuthalEqualArea(central_latitude=90.0)"
   ]
  },
  {
   "cell_type": "code",
   "execution_count": null,
   "metadata": {},
   "outputs": [],
   "source": [
    "UR_corner = [9, -80]\n",
    "UL_corner = [-16, -69] \n",
    "x, y = e2n.transform_point(\n",
    "    x = UR_corner[0],\n",
    "    y = UR_corner[1],\n",
    "    src_crs = geod)\n",
    "print(x, y)"
   ]
  },
  {
   "cell_type": "code",
   "execution_count": null,
   "metadata": {},
   "outputs": [],
   "source": [
    "x,y = e2n.transform_point(x = UL_corner[0],\n",
    "                         y = UL_corner[1],\n",
    "                         src_crs = geod)\n",
    "print(x,y)"
   ]
  },
  {
   "cell_type": "code",
   "execution_count": null,
   "metadata": {},
   "outputs": [],
   "source": [
    "\n",
    "%matplotlib notebook\n",
    "import cartopy.crs as ccrs\n",
    "import matplotlib.pyplot as plt"
   ]
  },
  {
   "cell_type": "code",
   "execution_count": null,
   "metadata": {},
   "outputs": [],
   "source": [
    "plt.figure()\n",
    "\n",
    "e2n_full_extent = [-9000000., 9000000., -9000000., 9000000.] # Full extent, in projected coords: [ULx, LRx, ULy, LRy]\n",
    "ax = plt.axes(projection=e2n)\n",
    "ax.set_extent(e2n_full_extent, crs=e2n) # you have to tell it what projection to use to interpret the extent\n",
    "ax.gridlines(color='gray', linestyle='--')\n",
    "ax.coastlines()\n",
    "\n",
    "plt.tight_layout()\n",
    "plt.show()"
   ]
  },
  {
   "cell_type": "markdown",
   "metadata": {},
   "source": []
  },
  {
   "cell_type": "code",
   "execution_count": null,
   "metadata": {},
   "outputs": [],
   "source": [
    "form netCDF4 import Dataset"
   ]
  },
  {
   "cell_type": "code",
   "execution_count": null,
   "metadata": {},
   "outputs": [],
   "source": [
    "file = '/Users/williamnorris/SWEpy/tests/data/MEASURES/NSIDC-0630.001/2010.01.01/NSIDC-0630-EASE2_N3.125km-F17_SSMIS-2010001-37H-M-SIR-CSU-v1.3.nc'\n"
   ]
  },
  {
   "cell_type": "code",
   "execution_count": null,
   "metadata": {},
   "outputs": [],
   "source": []
  },
  {
   "cell_type": "code",
   "execution_count": null,
   "metadata": {},
   "outputs": [],
   "source": [
    "# alaska\n",
    "#lat_lon_ul = [-145,66]\n",
    "#lat_lon_lr = [-166,73]\n",
    "\n",
    "#antarctica\n",
    "#lat_lon_lr = [-80, 9]\n",
    "#lat_lon_ul = [-69, -16]\n",
    "\n",
    "# colorado \n",
    "#lat_lon_lr = [37, -102]\n",
    "#lat_lon_ul = [40, -109]\n",
    "\n",
    "# no subset\n",
    "#lat_lon_lr = \"N\"\n",
    "#lat_lon_ul = \"N\"\n",
    "\n",
    "# overlapping grid (should break)\n",
    "#lat_lon_lr = [-145,60]\n",
    "#lat_lon_ul = [-166, 72]\n",
    "# Generate list of dates"
   ]
  },
  {
   "cell_type": "code",
   "execution_count": null,
   "metadata": {},
   "outputs": [],
   "source": []
  }
 ],
 "metadata": {
  "kernelspec": {
   "display_name": "swepy yml",
   "language": "python",
   "name": "swepy_env"
  },
  "language_info": {
   "codemirror_mode": {
    "name": "ipython",
    "version": 3
   },
   "file_extension": ".py",
   "mimetype": "text/x-python",
   "name": "python",
   "nbconvert_exporter": "python",
   "pygments_lexer": "ipython3",
   "version": "3.6.7"
  }
 },
 "nbformat": 4,
 "nbformat_minor": 2
}

{
 "cells": [
  {
   "cell_type": "code",
<<<<<<< HEAD
   "execution_count": 11,
=======
   "execution_count": 1,
>>>>>>> my-saved-work
   "metadata": {},
   "outputs": [],
   "source": [
    "import os\n",
    "import datetime\n",
<<<<<<< HEAD
    "from swepy.swepy import swepy\n",
    "from swepy import process"
=======
    "from swepy.swepy import swepy"
>>>>>>> my-saved-work
   ]
  },
  {
   "cell_type": "code",
<<<<<<< HEAD
   "execution_count": 10,
   "metadata": {},
   "outputs": [
    {
     "data": {
      "text/plain": [
       "<module 'swepy.process.process' from '/Users/williamnorris/Earthlab/SWEpy/swepy/process/process.py'>"
      ]
     },
     "execution_count": 10,
     "metadata": {},
     "output_type": "execute_result"
    }
   ],
=======
   "execution_count": 2,
   "metadata": {},
   "outputs": [],
   "source": [
    "from swepy.process import process"
   ]
  },
  {
   "cell_type": "code",
   "execution_count": null,
   "metadata": {},
   "outputs": [],
>>>>>>> my-saved-work
   "source": []
  },
  {
   "cell_type": "markdown",
   "metadata": {},
   "source": [
    "## Input Study Area"
   ]
  },
  {
   "cell_type": "code",
<<<<<<< HEAD
   "execution_count": 2,
=======
   "execution_count": 3,
>>>>>>> my-saved-work
   "metadata": {},
   "outputs": [],
   "source": [
    "# alaska\n",
    "lat_lon_ul = [66,-145]\n",
    "lat_lon_lr = [73,-166]\n",
    "\n",
<<<<<<< HEAD
    "# colorado \n",
    "#lat_lon_lr = [37, -102]\n",
    "#lat_lon_ul = [40, -109]\n",
    "\n",
    "# no subset\n",
    "#lat_lon_lr = \"N\"\n",
    "#lat_lon_ul = \"N\"\n",
    "\n",
    "# Generate list of dates\n",
    "start = datetime.date(2010, 1, 1)\n",
    "end = datetime.date(2010, 1, 1)\n",
    "\n",
    "username= ''\n",
    "password = ''"
=======
    "# start and end dates \n",
    "start = datetime.date(2005, 1, 1)\n",
    "end = datetime.date(2005, 1, 1)"
>>>>>>> my-saved-work
   ]
  },
  {
   "cell_type": "code",
   "execution_count": 4,
   "metadata": {},
   "outputs": [
    {
     "name": "stdout",
     "output_type": "stream",
     "text": [
      "Logging you into Earth Data...\n",
      "Success!\n"
     ]
    }
   ],
   "source": [
<<<<<<< HEAD
    "swep = swepy(os.getcwd(), start, end, lat_lon_ul, lat_lon_lr, username, password, high_res = True)"
=======
    "swep = swepy(os.getcwd(), start=start, end=end,ul = lat_lon_ul, lr = lat_lon_lr, username = '', password = '', high_res=False)"
>>>>>>> my-saved-work
   ]
  },
  {
   "cell_type": "code",
<<<<<<< HEAD
   "execution_count": 7,
=======
   "execution_count": 5,
>>>>>>> my-saved-work
   "metadata": {},
   "outputs": [
    {
     "name": "stderr",
     "output_type": "stream",
     "text": [
<<<<<<< HEAD
      "100%|██████████| 1/1 [00:16<00:00, 16.16s/it]\n",
      "100%|██████████| 1/1 [00:00<00:00, 12.21it/s]\n",
      "100%|██████████| 1/1 [00:00<00:00, 11.47it/s]\n"
=======
      "100%|██████████| 1/1 [00:00<00:00,  2.01it/s]\n",
      "100%|██████████| 1/1 [00:00<00:00,  8.82it/s]\n",
      "100%|██████████| 1/1 [00:00<00:00, 15.47it/s]\n"
>>>>>>> my-saved-work
     ]
    }
   ],
   "source": [
<<<<<<< HEAD
    "tup = swep.scrape_all()\n",
    "#swep.concatenate(swep.scrape())"
=======
    "tup = swep.scrape_all()"
>>>>>>> my-saved-work
   ]
  },
  {
   "cell_type": "code",
<<<<<<< HEAD
   "execution_count": 8,
=======
   "execution_count": 6,
   "metadata": {},
   "outputs": [],
   "source": [
    "tb19, tb37 = process.get_array(tup[0], tup[1])"
   ]
  },
  {
   "cell_type": "code",
   "execution_count": 7,
   "metadata": {},
   "outputs": [
    {
     "data": {
      "text/plain": [
       "numpy.ma.core.MaskedArray"
      ]
     },
     "execution_count": 7,
     "metadata": {},
     "output_type": "execute_result"
    }
   ],
   "source": [
    "type(tb19)"
   ]
  },
  {
   "cell_type": "code",
   "execution_count": null,
   "metadata": {},
   "outputs": [],
   "source": []
  },
  {
   "cell_type": "code",
   "execution_count": null,
   "metadata": {},
   "outputs": [],
   "source": []
  },
  {
   "cell_type": "code",
   "execution_count": null,
   "metadata": {},
   "outputs": [],
   "source": []
  },
  {
   "cell_type": "code",
   "execution_count": null,
   "metadata": {},
   "outputs": [],
   "source": []
  },
  {
   "cell_type": "code",
   "execution_count": null,
   "metadata": {},
   "outputs": [],
   "source": []
  },
  {
   "cell_type": "code",
   "execution_count": null,
   "metadata": {},
   "outputs": [],
   "source": []
  },
  {
   "cell_type": "code",
   "execution_count": null,
   "metadata": {},
   "outputs": [],
   "source": [
    "import cartopy.crs as ccrs\n",
    "geod = ccrs.Geodetic()\n",
    "e2n = ccrs.LambertAzimuthalEqualArea(central_latitude=90.0)"
   ]
  },
  {
   "cell_type": "code",
   "execution_count": null,
   "metadata": {},
   "outputs": [],
   "source": [
    "UR_corner = [9, -80]\n",
    "UL_corner = [-16, -69] \n",
    "x, y = e2n.transform_point(\n",
    "    x = UR_corner[0],\n",
    "    y = UR_corner[1],\n",
    "    src_crs = geod)\n",
    "print(x, y)"
   ]
  },
  {
   "cell_type": "code",
   "execution_count": null,
   "metadata": {},
   "outputs": [],
   "source": [
    "x,y = e2n.transform_point(x = UL_corner[0],\n",
    "                         y = UL_corner[1],\n",
    "                         src_crs = geod)\n",
    "print(x,y)"
   ]
  },
  {
   "cell_type": "code",
   "execution_count": null,
   "metadata": {},
   "outputs": [],
   "source": [
    "\n",
    "%matplotlib notebook\n",
    "import cartopy.crs as ccrs\n",
    "import matplotlib.pyplot as plt"
   ]
  },
  {
   "cell_type": "code",
   "execution_count": null,
   "metadata": {},
   "outputs": [],
   "source": [
    "plt.figure()\n",
    "\n",
    "e2n_full_extent = [-9000000., 9000000., -9000000., 9000000.] # Full extent, in projected coords: [ULx, LRx, ULy, LRy]\n",
    "ax = plt.axes(projection=e2n)\n",
    "ax.set_extent(e2n_full_extent, crs=e2n) # you have to tell it what projection to use to interpret the extent\n",
    "ax.gridlines(color='gray', linestyle='--')\n",
    "ax.coastlines()\n",
    "\n",
    "plt.tight_layout()\n",
    "plt.show()"
   ]
  },
  {
   "cell_type": "markdown",
   "metadata": {},
   "source": []
  },
  {
   "cell_type": "code",
   "execution_count": null,
   "metadata": {},
   "outputs": [],
   "source": [
    "form netCDF4 import Dataset"
   ]
  },
  {
   "cell_type": "code",
   "execution_count": null,
>>>>>>> my-saved-work
   "metadata": {},
   "outputs": [
    {
     "ename": "AttributeError",
     "evalue": "module 'swepy.process' has no attribute 'get_array'",
     "output_type": "error",
     "traceback": [
      "\u001b[0;31m---------------------------------------------------------------------------\u001b[0m",
      "\u001b[0;31mAttributeError\u001b[0m                            Traceback (most recent call last)",
      "\u001b[0;32m<ipython-input-8-076b71cb3eb7>\u001b[0m in \u001b[0;36m<module>\u001b[0;34m\u001b[0m\n\u001b[0;32m----> 1\u001b[0;31m \u001b[0mtb19\u001b[0m\u001b[0;34m,\u001b[0m \u001b[0mtb37\u001b[0m \u001b[0;34m=\u001b[0m \u001b[0mprocess\u001b[0m\u001b[0;34m.\u001b[0m\u001b[0mget_array\u001b[0m\u001b[0;34m(\u001b[0m\u001b[0mtup\u001b[0m\u001b[0;34m[\u001b[0m\u001b[0;36m0\u001b[0m\u001b[0;34m]\u001b[0m\u001b[0;34m,\u001b[0m \u001b[0mtup\u001b[0m\u001b[0;34m[\u001b[0m\u001b[0;36m1\u001b[0m\u001b[0;34m]\u001b[0m\u001b[0;34m)\u001b[0m\u001b[0;34m\u001b[0m\u001b[0;34m\u001b[0m\u001b[0m\n\u001b[0m",
      "\u001b[0;31mAttributeError\u001b[0m: module 'swepy.process' has no attribute 'get_array'"
     ]
    }
   ],
   "source": [
<<<<<<< HEAD
    "tb19, tb37 = process.get_array(tup[0], tup[1])"
=======
    "file = '/Users/williamnorris/SWEpy/tests/data/MEASURES/NSIDC-0630.001/2010.01.01/NSIDC-0630-EASE2_N3.125km-F17_SSMIS-2010001-37H-M-SIR-CSU-v1.3.nc'\n"
>>>>>>> my-saved-work
   ]
  },
  {
   "cell_type": "code",
   "execution_count": null,
   "metadata": {},
   "outputs": [],
   "source": []
  },
  {
   "cell_type": "code",
   "execution_count": null,
   "metadata": {},
   "outputs": [],
   "source": [
    "# alaska\n",
    "#lat_lon_ul = [-145,66]\n",
    "#lat_lon_lr = [-166,73]\n",
    "\n",
    "#antarctica\n",
    "#lat_lon_lr = [-80, 9]\n",
    "#lat_lon_ul = [-69, -16]\n",
    "\n",
    "# colorado \n",
    "#lat_lon_lr = [37, -102]\n",
    "#lat_lon_ul = [40, -109]\n",
    "\n",
    "# no subset\n",
    "#lat_lon_lr = \"N\"\n",
    "#lat_lon_ul = \"N\"\n",
    "\n",
    "# overlapping grid (should break)\n",
    "#lat_lon_lr = [-145,60]\n",
    "#lat_lon_ul = [-166, 72]\n",
    "# Generate list of dates"
   ]
  },
  {
   "cell_type": "code",
   "execution_count": null,
   "metadata": {},
   "outputs": [],
   "source": []
  }
 ],
 "metadata": {
  "kernelspec": {
   "display_name": "swepy yml",
   "language": "python",
   "name": "swepy_env"
  },
  "language_info": {
   "codemirror_mode": {
    "name": "ipython",
    "version": 3
   },
   "file_extension": ".py",
   "mimetype": "text/x-python",
   "name": "python",
   "nbconvert_exporter": "python",
   "pygments_lexer": "ipython3",
   "version": "3.6.7"
  }
 },
 "nbformat": 4,
 "nbformat_minor": 2
}

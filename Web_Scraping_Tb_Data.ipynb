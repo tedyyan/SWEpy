{
 "cells": [
  {
   "cell_type": "markdown",
   "metadata": {},
   "source": [
    "## Notebook to scrape the needed data from the NSIDC 0630 database \n",
    "#### Looking to take 19 GHz (6.25km) and 37 GHz (3.125km) data from 1987 - 2011\n",
    "- Running this script downloads all the needed files from the directory for the 19Ghz (6.125km) and the 37Ghz (3.125km) Northern Hemishpere morning images \n",
    "- **It is important to remember that each sensor (F11,F13) are not available in every year\n",
    "    - If you intend to do many years, pay attention to which sensors you need for each time period "
   ]
  },
  {
   "cell_type": "code",
   "execution_count": 6,
   "metadata": {},
   "outputs": [
    {
     "name": "stdout",
     "output_type": "stream",
     "text": [
      "/Users/williamnorris/SWE_TB/data\n"
     ]
    }
   ],
   "source": [
    "%cd /Users/williamnorris/SWE_TB/data"
   ]
  },
  {
   "cell_type": "code",
   "execution_count": 7,
   "metadata": {},
   "outputs": [
    {
     "name": "stdout",
     "output_type": "stream",
     "text": [
      "Populating the interactive namespace from numpy and matplotlib\n"
     ]
    },
    {
     "name": "stderr",
     "output_type": "stream",
     "text": [
      "/anaconda3/envs/python2/lib/python2.7/site-packages/IPython/core/magics/pylab.py:161: UserWarning: pylab import has clobbered these variables: ['datetime']\n",
      "`%matplotlib` prevents importing * from pylab and numpy\n",
      "  \"\\n`%matplotlib` prevents importing * from pylab and numpy\"\n"
     ]
    }
   ],
   "source": [
    "%pylab notebook\n",
    "import urllib2\n",
    "import datetime\n",
    "import subprocess\n",
    "from subprocess import call\n",
    "import shlex\n",
    "import pandas as pd\n",
    "import numpy as np\n",
    "from pandas import datetime\n",
    "from string import maketrans"
   ]
  },
  {
   "cell_type": "markdown",
   "metadata": {},
   "source": [
    "**Sensor Years**\n",
    "\n",
    "**NOTE:** The Nimbus7 sensor did not record 19H. Is there an alternative? Or are those years hosed?\n",
    "\n",
    "- 1978: Not a full year of data\n",
    "- 1979: NIMBUS7 (pre Fx classification)\n",
    "- 1980: NIMBUS7 \n",
    "    - Link Format: (https://n5eil01u.ecs.nsidc.org/MEASURES/NSIDC-0630.001/1980.01.01/NSIDC-0630-EASE2_S3.125km-NIMBUS7_SMMR-1980001-37H-M-SIR-JPL-v1.2.nc)\n",
    "    \n",
    "- 1981: NIMBUS7\n",
    "- 1982: NIMBUS7\n",
    "- 1983: NIMBUS7\n",
    "- 1984: NIMBUS7\n",
    "- 1985: NIMBUS7\n",
    "- 1986: NIMBUS7\n",
    "- 1987: NIMBUS7\n",
    "- 1988: F08 \n",
    "    - Link Format: (https://n5eil01u.ecs.nsidc.org/MEASURES/NSIDC-0630.001/1988.01.01/NSIDC-0630-EASE2_N6.25km-F08_SSMI-1988001-19H-M-SIR-CSU-v1.2.nc)\n",
    "\n",
    "- 1989: F08\n",
    "- 1990: F08\n",
    "- 1991: F08, F10 (F08 ends)\n",
    "\n",
    "    - F10 Link: (https://n5eil01u.ecs.nsidc.org/MEASURES/NSIDC-0630.001/1991.01.01/NSIDC-0630-EASE2_N25km-F10_SSMI-1991001-19H-M-GRD-CSU-v1.2.nc)\n",
    "\n",
    "- 1992: F10, F11 (F11 has ~20,000 less spikes per year)\n",
    "\n",
    "    - F11 Link: (https://n5eil01u.ecs.nsidc.org/MEASURES/NSIDC-0630.001/1992.01.01/NSIDC-0630-EASE2_N6.25km-F11_SSMI-1992001-19H-M-SIR-CSU-v1.2.nc)\n",
    "\n",
    "- 1993: F10, F11\n",
    "- 1994: F10, F11\n",
    "- 1995: F10, F11\n",
    "- 1996: F10, F11, F13 (F13 is best current sensor)\n",
    "    - F13 Link: (https://n5eil01u.ecs.nsidc.org/MEASURES/NSIDC-0630.001/1996.01.01/NSIDC-0630-EASE2_N6.25km-F13_SSMI-1996001-19H-M-SIR-CSU-v1.2.nc)\n",
    "\n",
    "- 1997: F10, F11, F13\n",
    "- 1998: F11, F13, F14\n",
    "- 1999: F11, F13, F14\n",
    "- 2000: F11, F13, F14\n",
    "- 2001: F13, F14, F15\n",
    "    - F15 Link: https://n5eil01u.ecs.nsidc.org/MEASURES/NSIDC-0630.001/2001.01.01/NSIDC-0630-EASE2_N6.25km-F15_SSMI-2001001-19H-M-SIR-CSU-v1.2.nc\n",
    "\n",
    "- 2002: F13, F14, F15\n",
    "- 2003: F13, F14, F15, AQUA\n",
    "- 2004: F13, F14, F15, AQUA\n",
    "- 2005: F13, F14, F15, AQUA\n",
    "- 2006: F13, F14, F15, F16, AQUA\n",
    "- 2007: F13, F14, F15, F16, AQUA\n",
    "- 2008: F13, F14, F15, F16, AQUA\n",
    "- 2009: F13, F15, F16, F17, AQUA (F13 persists longer than F14)\n",
    "- 2010: F15, F16, F17, AQUA \n",
    "- 2011: F15, F16, F17, F18, AQUA (AQUA ends)\n",
    "    - F18 Link: https://n5eil01u.ecs.nsidc.org/MEASURES/NSIDC-0630.001/2011.01.01/NSIDC-0630-EASE2_N6.25km-F18_SSMIS-2011001-19H-M-SIR-CSU-v1.2.nc\n",
    "    \n",
    "- 2012: F15, F16, F17, F18\n",
    "- 2013: F15, F16, F17, F18\n",
    "- 2014: F15, F16, F17, F18\n",
    "- 2015: F15, F16, F17, F18, F19 \n",
    "- 2016: Not a full year of data"
   ]
  },
  {
   "cell_type": "markdown",
   "metadata": {},
   "source": [
    "$$ 1988:F08 \\longrightarrow 1991:F10 \\longrightarrow 1992:F11 \\longrightarrow 1996:F13 \\longrightarrow 2001:F15 \\longrightarrow 2011:F18 $$"
   ]
  },
  {
   "cell_type": "markdown",
   "metadata": {},
   "source": [
    "### File Path Name Notes\n",
    "\n",
    "Things that change each year:\n",
    "- Sensor\n",
    "- Date range \n",
    "- SSMI vs SSMIS (year dependent) \n",
    "- resolution (37H = 3.125km, 19H = 6.25km)"
   ]
  },
  {
   "cell_type": "markdown",
   "metadata": {},
   "source": [
    "# Web scraper for all NSIDC 0630 files\n",
    "### Notes: \n",
    "#### - Follow instructions at [the NISDC's website](\"https://nsidc.org/support/faq/what-options-are-available-bulk-downloading-data-https-earthdata-login-enabled\") for instructions on setup"
   ]
  },
  {
   "cell_type": "code",
   "execution_count": 14,
   "metadata": {},
   "outputs": [],
   "source": [
    "path = \"/Users/williamnorris/SWE_TB\"\n",
    "path_data = \"/Users/williamnorris/SWE_TB/data/wget\""
   ]
  },
  {
   "cell_type": "code",
   "execution_count": 15,
   "metadata": {},
   "outputs": [],
   "source": [
    "# function to make web scraping a piece of cake\n",
    "def scrape(sensor, dates, path, path_data):\n",
    "    # store the path of the url before the data (the date is updated on the fly)\n",
    "    file_pre = 'https://n5eil01u.ecs.nsidc.org/MEASURES/NSIDC-0630.001/'\n",
    "    if sensor in ['F16', 'F17', 'F18', 'F19']:\n",
    "        post_19 = '/NSIDC-0630-EASE2_N6.25km-'+sensor+'_SSMIS-'\n",
    "        last_19 = '-19H-M-SIR-CSU-v1.2.nc'\n",
    "        post_37 = '/NSIDC-0630-EASE2_N3.125km-'+sensor+'_SSMIS-'\n",
    "        last_37 = '-37H-M-SIR-CSU-v1.2.nc'\n",
    "    else: \n",
    "        post_19 = '/NSIDC-0630-EASE2_N6.25km-'+sensor+'_SSMI-'\n",
    "        last_19 = '-19H-M-SIR-CSU-v1.2.nc'\n",
    "        post_37 = '/NSIDC-0630-EASE2_N3.125km-'+sensor+'_SSMI-'\n",
    "        last_37 = '-37H-M-SIR-CSU-v1.2.nc'\n",
    "    for date in dates: \n",
    "        # convert datetimeindex to date time\n",
    "        temp = datetime.strptime(date, '%Y.%m.%d')\n",
    "        # Store the year of the current date, convert to day of year\n",
    "        year = temp.year\n",
    "        temp = str(temp.timetuple().tm_yday)\n",
    "        # pad front of day of year with zeroes to always be 3 char long\n",
    "        temp = temp.rjust(3, '0')\n",
    "        add = str(year)+temp\n",
    "        # Combine constant file portions with dynamic portions \n",
    "        new_file_19 = file_pre + date + post_19 + add +last_19\n",
    "        new_file_37 = file_pre + date + post_37 + add + last_37\n",
    "        # Call wget on this file \n",
    "        cmd = 'wget -nd --load-cookies '+path+'/cookies.txt --save-cookies '+path+'/cookies.txt --keep-session-cookies --no-check-certificate --auth-no-challenge=on -r --reject \"index.html*\" -np -e robots=off -P '+path_data+' '+new_file_19\n",
    "        cmd2 = 'wget -nd --load-cookies '+path+'/cookies.txt --save-cookies '+path+'/cookies.txt --keep-session-cookies --no-check-certificate --auth-no-challenge=on -r --reject \"index.html*\" -np -e robots=off -P '+path_data+' '+new_file_37\n",
    "        print(\"Downloading the 19GHz and 37GHz files for: %s\" % date)\n",
    "        subprocess.call(shlex.split(cmd), shell = False)\n",
    "        subprocess.call(shlex.split(cmd2), shell = False)\n",
    "    print('Finished')\n",
    "    "
   ]
  },
  {
   "cell_type": "code",
   "execution_count": 17,
   "metadata": {},
   "outputs": [
    {
     "name": "stdout",
     "output_type": "stream",
     "text": [
      "Downloading the 19GHz and 37GHz files for: 2015.01.01\n",
      "Downloading the 19GHz and 37GHz files for: 2015.01.02\n",
      "Downloading the 19GHz and 37GHz files for: 2015.01.03\n",
      "Downloading the 19GHz and 37GHz files for: 2015.01.04\n",
      "Downloading the 19GHz and 37GHz files for: 2015.01.05\n",
      "Downloading the 19GHz and 37GHz files for: 2015.01.06\n"
     ]
    },
    {
     "ename": "KeyboardInterrupt",
     "evalue": "",
     "output_type": "error",
     "traceback": [
      "\u001b[0;31m---------------------------------------------------------------------------\u001b[0m",
      "\u001b[0;31mKeyboardInterrupt\u001b[0m                         Traceback (most recent call last)",
      "\u001b[0;32m<ipython-input-17-026e7af7e7ee>\u001b[0m in \u001b[0;36m<module>\u001b[0;34m()\u001b[0m\n\u001b[1;32m      9\u001b[0m \u001b[0msensor\u001b[0m \u001b[0;34m=\u001b[0m \u001b[0;34m'F19'\u001b[0m\u001b[0;34m\u001b[0m\u001b[0m\n\u001b[1;32m     10\u001b[0m \u001b[0;34m\u001b[0m\u001b[0m\n\u001b[0;32m---> 11\u001b[0;31m \u001b[0mscrape\u001b[0m\u001b[0;34m(\u001b[0m\u001b[0msensor\u001b[0m\u001b[0;34m,\u001b[0m \u001b[0mdates\u001b[0m\u001b[0;34m,\u001b[0m \u001b[0mpath\u001b[0m\u001b[0;34m,\u001b[0m \u001b[0mpath_data\u001b[0m\u001b[0;34m)\u001b[0m\u001b[0;34m\u001b[0m\u001b[0m\n\u001b[0m",
      "\u001b[0;32m<ipython-input-15-02439a63588a>\u001b[0m in \u001b[0;36mscrape\u001b[0;34m(sensor, dates, path, path_data)\u001b[0m\n\u001b[1;32m     29\u001b[0m         \u001b[0mcmd2\u001b[0m \u001b[0;34m=\u001b[0m \u001b[0;34m'wget -nd --load-cookies '\u001b[0m\u001b[0;34m+\u001b[0m\u001b[0mpath\u001b[0m\u001b[0;34m+\u001b[0m\u001b[0;34m'/cookies.txt --save-cookies '\u001b[0m\u001b[0;34m+\u001b[0m\u001b[0mpath\u001b[0m\u001b[0;34m+\u001b[0m\u001b[0;34m'/cookies.txt --keep-session-cookies --no-check-certificate --auth-no-challenge=on -r --reject \"index.html*\" -np -e robots=off -P '\u001b[0m\u001b[0;34m+\u001b[0m\u001b[0mpath_data\u001b[0m\u001b[0;34m+\u001b[0m\u001b[0;34m' '\u001b[0m\u001b[0;34m+\u001b[0m\u001b[0mnew_file_37\u001b[0m\u001b[0;34m\u001b[0m\u001b[0m\n\u001b[1;32m     30\u001b[0m         \u001b[0;32mprint\u001b[0m\u001b[0;34m(\u001b[0m\u001b[0;34m\"Downloading the 19GHz and 37GHz files for: %s\"\u001b[0m \u001b[0;34m%\u001b[0m \u001b[0mdate\u001b[0m\u001b[0;34m)\u001b[0m\u001b[0;34m\u001b[0m\u001b[0m\n\u001b[0;32m---> 31\u001b[0;31m         \u001b[0msubprocess\u001b[0m\u001b[0;34m.\u001b[0m\u001b[0mcall\u001b[0m\u001b[0;34m(\u001b[0m\u001b[0mshlex\u001b[0m\u001b[0;34m.\u001b[0m\u001b[0msplit\u001b[0m\u001b[0;34m(\u001b[0m\u001b[0mcmd\u001b[0m\u001b[0;34m)\u001b[0m\u001b[0;34m,\u001b[0m \u001b[0mshell\u001b[0m \u001b[0;34m=\u001b[0m \u001b[0mFalse\u001b[0m\u001b[0;34m)\u001b[0m\u001b[0;34m\u001b[0m\u001b[0m\n\u001b[0m\u001b[1;32m     32\u001b[0m         \u001b[0msubprocess\u001b[0m\u001b[0;34m.\u001b[0m\u001b[0mcall\u001b[0m\u001b[0;34m(\u001b[0m\u001b[0mshlex\u001b[0m\u001b[0;34m.\u001b[0m\u001b[0msplit\u001b[0m\u001b[0;34m(\u001b[0m\u001b[0mcmd2\u001b[0m\u001b[0;34m)\u001b[0m\u001b[0;34m,\u001b[0m \u001b[0mshell\u001b[0m \u001b[0;34m=\u001b[0m \u001b[0mFalse\u001b[0m\u001b[0;34m)\u001b[0m\u001b[0;34m\u001b[0m\u001b[0m\n\u001b[1;32m     33\u001b[0m     \u001b[0;32mprint\u001b[0m\u001b[0;34m(\u001b[0m\u001b[0;34m'Finished'\u001b[0m\u001b[0;34m)\u001b[0m\u001b[0;34m\u001b[0m\u001b[0m\n",
      "\u001b[0;32m/anaconda3/envs/python2/lib/python2.7/subprocess.pyc\u001b[0m in \u001b[0;36mcall\u001b[0;34m(*popenargs, **kwargs)\u001b[0m\n\u001b[1;32m    166\u001b[0m     \u001b[0mretcode\u001b[0m \u001b[0;34m=\u001b[0m \u001b[0mcall\u001b[0m\u001b[0;34m(\u001b[0m\u001b[0;34m[\u001b[0m\u001b[0;34m\"ls\"\u001b[0m\u001b[0;34m,\u001b[0m \u001b[0;34m\"-l\"\u001b[0m\u001b[0;34m]\u001b[0m\u001b[0;34m)\u001b[0m\u001b[0;34m\u001b[0m\u001b[0m\n\u001b[1;32m    167\u001b[0m     \"\"\"\n\u001b[0;32m--> 168\u001b[0;31m     \u001b[0;32mreturn\u001b[0m \u001b[0mPopen\u001b[0m\u001b[0;34m(\u001b[0m\u001b[0;34m*\u001b[0m\u001b[0mpopenargs\u001b[0m\u001b[0;34m,\u001b[0m \u001b[0;34m**\u001b[0m\u001b[0mkwargs\u001b[0m\u001b[0;34m)\u001b[0m\u001b[0;34m.\u001b[0m\u001b[0mwait\u001b[0m\u001b[0;34m(\u001b[0m\u001b[0;34m)\u001b[0m\u001b[0;34m\u001b[0m\u001b[0m\n\u001b[0m\u001b[1;32m    169\u001b[0m \u001b[0;34m\u001b[0m\u001b[0m\n\u001b[1;32m    170\u001b[0m \u001b[0;34m\u001b[0m\u001b[0m\n",
      "\u001b[0;32m/anaconda3/envs/python2/lib/python2.7/subprocess.pyc\u001b[0m in \u001b[0;36mwait\u001b[0;34m(self)\u001b[0m\n\u001b[1;32m   1075\u001b[0m             \u001b[0;32mwhile\u001b[0m \u001b[0mself\u001b[0m\u001b[0;34m.\u001b[0m\u001b[0mreturncode\u001b[0m \u001b[0;32mis\u001b[0m \u001b[0mNone\u001b[0m\u001b[0;34m:\u001b[0m\u001b[0;34m\u001b[0m\u001b[0m\n\u001b[1;32m   1076\u001b[0m                 \u001b[0;32mtry\u001b[0m\u001b[0;34m:\u001b[0m\u001b[0;34m\u001b[0m\u001b[0m\n\u001b[0;32m-> 1077\u001b[0;31m                     \u001b[0mpid\u001b[0m\u001b[0;34m,\u001b[0m \u001b[0msts\u001b[0m \u001b[0;34m=\u001b[0m \u001b[0m_eintr_retry_call\u001b[0m\u001b[0;34m(\u001b[0m\u001b[0mos\u001b[0m\u001b[0;34m.\u001b[0m\u001b[0mwaitpid\u001b[0m\u001b[0;34m,\u001b[0m \u001b[0mself\u001b[0m\u001b[0;34m.\u001b[0m\u001b[0mpid\u001b[0m\u001b[0;34m,\u001b[0m \u001b[0;36m0\u001b[0m\u001b[0;34m)\u001b[0m\u001b[0;34m\u001b[0m\u001b[0m\n\u001b[0m\u001b[1;32m   1078\u001b[0m                 \u001b[0;32mexcept\u001b[0m \u001b[0mOSError\u001b[0m \u001b[0;32mas\u001b[0m \u001b[0me\u001b[0m\u001b[0;34m:\u001b[0m\u001b[0;34m\u001b[0m\u001b[0m\n\u001b[1;32m   1079\u001b[0m                     \u001b[0;32mif\u001b[0m \u001b[0me\u001b[0m\u001b[0;34m.\u001b[0m\u001b[0merrno\u001b[0m \u001b[0;34m!=\u001b[0m \u001b[0merrno\u001b[0m\u001b[0;34m.\u001b[0m\u001b[0mECHILD\u001b[0m\u001b[0;34m:\u001b[0m\u001b[0;34m\u001b[0m\u001b[0m\n",
      "\u001b[0;32m/anaconda3/envs/python2/lib/python2.7/subprocess.pyc\u001b[0m in \u001b[0;36m_eintr_retry_call\u001b[0;34m(func, *args)\u001b[0m\n\u001b[1;32m    119\u001b[0m     \u001b[0;32mwhile\u001b[0m \u001b[0mTrue\u001b[0m\u001b[0;34m:\u001b[0m\u001b[0;34m\u001b[0m\u001b[0m\n\u001b[1;32m    120\u001b[0m         \u001b[0;32mtry\u001b[0m\u001b[0;34m:\u001b[0m\u001b[0;34m\u001b[0m\u001b[0m\n\u001b[0;32m--> 121\u001b[0;31m             \u001b[0;32mreturn\u001b[0m \u001b[0mfunc\u001b[0m\u001b[0;34m(\u001b[0m\u001b[0;34m*\u001b[0m\u001b[0margs\u001b[0m\u001b[0;34m)\u001b[0m\u001b[0;34m\u001b[0m\u001b[0m\n\u001b[0m\u001b[1;32m    122\u001b[0m         \u001b[0;32mexcept\u001b[0m \u001b[0;34m(\u001b[0m\u001b[0mOSError\u001b[0m\u001b[0;34m,\u001b[0m \u001b[0mIOError\u001b[0m\u001b[0;34m)\u001b[0m \u001b[0;32mas\u001b[0m \u001b[0me\u001b[0m\u001b[0;34m:\u001b[0m\u001b[0;34m\u001b[0m\u001b[0m\n\u001b[1;32m    123\u001b[0m             \u001b[0;32mif\u001b[0m \u001b[0me\u001b[0m\u001b[0;34m.\u001b[0m\u001b[0merrno\u001b[0m \u001b[0;34m==\u001b[0m \u001b[0merrno\u001b[0m\u001b[0;34m.\u001b[0m\u001b[0mEINTR\u001b[0m\u001b[0;34m:\u001b[0m\u001b[0;34m\u001b[0m\u001b[0m\n",
      "\u001b[0;31mKeyboardInterrupt\u001b[0m: "
     ]
    }
   ],
   "source": [
    "# Generate list of dates\n",
    "start = datetime(2015, 1, 1)\n",
    "end = datetime(2015, 12, 31)\n",
    "dates = pd.date_range(start, end)\n",
    "\n",
    "#convert time series to list of strings, translate '-' to '.' for URL\n",
    "dates = dates.strftime('%Y.%m.%d')\n",
    "\n",
    "sensor = 'F19'\n",
    "\n",
    "scrape(sensor, dates, path, path_data)"
   ]
  },
  {
   "cell_type": "markdown",
   "metadata": {},
   "source": [
    "## The following is old, non-modular code "
   ]
  },
  {
   "cell_type": "code",
   "execution_count": null,
   "metadata": {
    "collapsed": true
   },
   "outputs": [],
   "source": [
    "# store the path of the url before the data (the date is updated on the fly)\n",
    "file_pre = 'https://n5eil01u.ecs.nsidc.org/MEASURES/NSIDC-0630.001/'\n",
    "# store the path of the url after the date\n",
    "file_post = '/NSIDC-0630-EASE2_N6.25km-F08_SSMI-'\n",
    "file_last = '-19H-M-SIR-CSU-v1.2.nc'\n",
    "\n",
    "\n",
    "post_37 = '/NSIDC-0630-EASE2_N3.125km-F08_SSMI-'\n",
    "last_37 = '-37H-M-SIR-CSU-v1.2.nc'"
   ]
  },
  {
   "cell_type": "code",
   "execution_count": null,
   "metadata": {
    "collapsed": true
   },
   "outputs": [],
   "source": [
    "# Generate list of dates\n",
    "start = datetime(1988, 1, 1)\n",
    "end = datetime(1988, 12, 31)\n",
    "dates = pd.date_range(start, end)\n",
    "\n",
    "#convert time series to list of strings, translate '-' to '.' for URL\n",
    "dates = dates.strftime('%Y.%m.%d')"
   ]
  },
  {
   "cell_type": "code",
   "execution_count": null,
   "metadata": {
    "collapsed": true
   },
   "outputs": [],
   "source": [
    "# For loop to generate all the file names and download on the fly!\n",
    "for date in dates: \n",
    "    # convert datetimeindex to date time\n",
    "    temp = datetime.strptime(date, '%Y.%m.%d')\n",
    "    # Store the year of the current date, convert to day of year\n",
    "    year = temp.year\n",
    "    temp = str(temp.timetuple().tm_yday)\n",
    "    # pad front of day of year with zeroes to alwasy be 3 char long\n",
    "    temp = temp.rjust(3, '0')\n",
    "    add = str(year)+temp\n",
    "    # Combine constant file portions with dynamic portions \n",
    "    new_file = file_pre + date + file_post + add +file_last\n",
    "    new_file_37 = file_pre + date + post_37 + add + last_37\n",
    "    # Call wget on this file \n",
    "    cmd = 'wget -nd --load-cookies '+path+'/cookies.txt --save-cookies '+path+'/cookies.txt --keep-session-cookies --no-check-certificate --auth-no-challenge=on -r --reject \"index.html*\" -np -e robots=off -P '+path19+' '+new_file\n",
    "    cmd2 = 'wget -nd --load-cookies '+path+'/cookies.txt --save-cookies '+path+'/cookies.txt --keep-session-cookies --no-check-certificate --auth-no-challenge=on -r --reject \"index.html*\" -np -e robots=off -P '+path37+' '+new_file_37\n",
    "    print(\"Downloading the 19GHz and 37GHz files for: %s\" % date)\n",
    "    subprocess.call(shlex.split(cmd), shell = False)\n",
    "    subprocess.call(shlex.split(cmd2), shell = False)\n",
    "print('Finished')"
   ]
  },
  {
   "cell_type": "code",
   "execution_count": null,
   "metadata": {
    "collapsed": true
   },
   "outputs": [],
   "source": []
  },
  {
   "cell_type": "code",
   "execution_count": null,
   "metadata": {
    "collapsed": true
   },
   "outputs": [],
   "source": [
    "# convert web scraping script to funciton for automation **work in progress** \n",
    "def scrape(sensor, dates, dest19, dest37):\n",
    "    # store the path of the url before the data (the date is updated on the fly)\n",
    "    file_pre = 'https://n5eil01u.ecs.nsidc.org/MEASURES/NSIDC-0630.001/'\n",
    "    file_post = '/NSIDC-0630-EASE2_N6.25km-'+sensor+'_SSMI-'\n",
    "    file_last = '-19H-M-SIR-CSU-v1.2.nc'\n",
    "    \n",
    "    post_37 = '/NSIDC-0630-EASE2_N3.125km-'+sensor+'_SSMI-'\n",
    "    last_37 = '-37H-M-SIR-CSU-v1.2.nc'\n",
    "    for date in dates: \n",
    "        # convert datetimeindex to date time\n",
    "        temp = datetime.strptime(date, '%Y.%m.%d')\n",
    "        # Store the year of the current date, convert to day of year\n",
    "        year = temp.year\n",
    "        temp = str(temp.timetuple().tm_yday)\n",
    "        # pad front of day of year with zeroes to always be 3 char long\n",
    "        temp = temp.rjust(3, '0')\n",
    "        add = str(year)+temp\n",
    "        # Combine constant file portions with dynamic portions \n",
    "        new_file = file_pre + date + file_post + add +file_last\n",
    "        new_file_37 = file_pre + date + post_37 + add + last_37\n",
    "        # Call wget on this file \n",
    "        cmd = 'wget -nd --load-cookies '+path+'/cookies.txt --save-cookies '+path+'/cookies.txt --keep-session-cookies --no-check-certificate --auth-no-challenge=on -r --reject \"index.html*\" -np -e robots=off -P '+path19+' '+new_file\n",
    "        cmd2 = 'wget -nd --load-cookies '+path+'/cookies.txt --save-cookies '+path+'/cookies.txt --keep-session-cookies --no-check-certificate --auth-no-challenge=on -r --reject \"index.html*\" -np -e robots=off -P '+path37+' '+new_file_37\n",
    "        print(\"Downloading the 19GHz and 37GHz files for: %s\" % date)\n",
    "        subprocess.call(shlex.split(cmd), shell = False)\n",
    "        subprocess.call(shlex.split(cmd2), shell = False)\n",
    "    print('Finished')\n",
    "    "
   ]
  },
  {
   "cell_type": "code",
   "execution_count": null,
   "metadata": {
    "collapsed": true
   },
   "outputs": [],
   "source": [
    "# Generate list of dates\n",
    "start = datetime(1988, 1, 1)\n",
    "end = datetime(1988, 12, 31)\n",
    "dates = pd.date_range(start, end)\n",
    "\n",
    "#convert time series to list of strings, translate '-' to '.' for URL\n",
    "dates = dates.strftime('%Y.%m.%d')\n",
    "\n",
    "sensor = 'F08'\n",
    "\n",
    "scrape(sensor, dates, path19, path37)"
   ]
  },
  {
   "cell_type": "code",
   "execution_count": null,
   "metadata": {
    "collapsed": true
   },
   "outputs": [],
   "source": []
  }
 ],
 "metadata": {
  "anaconda-cloud": {},
  "kernelspec": {
   "display_name": "python2",
   "language": "python",
   "name": "python2"
  },
  "language_info": {
   "codemirror_mode": {
    "name": "ipython",
    "version": 2
   },
   "file_extension": ".py",
   "mimetype": "text/x-python",
   "name": "python",
   "nbconvert_exporter": "python",
   "pygments_lexer": "ipython2",
   "version": "2.7.14"
  }
 },
 "nbformat": 4,
 "nbformat_minor": 1
}

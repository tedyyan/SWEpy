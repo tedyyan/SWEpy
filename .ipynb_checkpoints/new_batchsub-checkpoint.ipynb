{
 "cells": [
  {
   "cell_type": "markdown",
   "metadata": {},
   "source": [
    "## Subsetting Code:"
   ]
  },
  {
   "cell_type": "code",
   "execution_count": 1,
   "metadata": {},
   "outputs": [],
   "source": [
    "#%pylab notebook\n",
    "import netCDF4\n",
    "from netCDF4 import Dataset\n",
    "#import matplotlib.pyplot as plt\n",
    "#import numpy as np\n",
    "#from cetbtools.ease2conv import Ease2Transform\n",
    "import subprocess\n",
    "from subprocess import call\n",
    "import shlex\n",
    "import os\n",
    "import sys\n",
    "import glob\n",
    "from nco import Nco\n",
    "import ease2conv as e2\n",
    "nco = Nco()"
   ]
  },
  {
   "cell_type": "markdown",
   "metadata": {},
   "source": [
    "## Setup\n",
    "- set env_path below \n",
    "    - this is the path at which command line nco arguments can be found \n",
    "   "
   ]
  },
  {
   "cell_type": "code",
   "execution_count": 2,
   "metadata": {},
   "outputs": [
    {
     "data": {
      "text/plain": [
       "'/Users/williamnorris/Team_GISProg'"
      ]
     },
     "execution_count": 2,
     "metadata": {},
     "output_type": "execute_result"
    }
   ],
   "source": [
    "env_path = '/anaconda3/envs/gis/bin/'\n",
    "path = os.getcwd()\n",
    "path"
   ]
  },
  {
   "cell_type": "code",
   "execution_count": 3,
   "metadata": {},
   "outputs": [],
   "source": [
    "list1 = glob.glob('*19H*')"
   ]
  },
  {
   "cell_type": "markdown",
   "metadata": {},
   "source": [
    "## File Setup:"
   ]
  },
  {
   "cell_type": "code",
   "execution_count": 4,
   "metadata": {},
   "outputs": [],
   "source": [
    "wget = path + \"/data/wget/\"\n",
    "path19 = path + \"/data/Subsetted_19H/\"\n",
    "path37 = path + \"/data/Subsetted_37H/\"\n",
    "\n",
    "\n",
    "if not os.path.exists(wget):\\\n",
    "    os.makedirs(wget)\n",
    "if not os.path.exists(path19):\n",
    "    os.makedirs(path19)\n",
    "if not os.path.exists(path37):\n",
    "    os.makedirs(path37)"
   ]
  },
  {
   "cell_type": "markdown",
   "metadata": {},
   "source": [
    "## Input Study Area"
   ]
  },
  {
   "cell_type": "code",
   "execution_count": 5,
   "metadata": {},
   "outputs": [],
   "source": [
    "def get_xy(ll_ul, ll_lr):\n",
    "    N6 = e2.Ease2Transform(\"EASE2_N6.25km\")\n",
    "    N3 = e2.Ease2Transform(\"EASE2_N3.125km\")\n",
    "    # get x,y for 6.25\n",
    "    row, col = N6.geographic_to_grid(ll_ul[0], ll_ul[1])\n",
    "    x6ul, y6ul = N6.grid_to_map(row,col)\n",
    "    row, col = N6.geographic_to_grid(ll_lr[0], ll_lr[1])\n",
    "    x6lr, y6lr = N6.grid_to_map(row, col)\n",
    "    # get x,y for 3.125\n",
    "    row, col = N6.geographic_to_grid(ll_ul[0], ll_ul[1])\n",
    "    x3ul, y3ul = N6.grid_to_map(row, col)\n",
    "    row, col = N6.geographic_to_grid(ll_lr[0], ll_lr[1])\n",
    "    x3lr, y3lr = N6.grid_to_map(row, col)\n",
    "    list_6 = [x6ul, y6ul, x6lr, y6lr]\n",
    "    list_3 = [x3ul, y3ul, x3lr, y3lr]\n",
    "    return list_3, list_6"
   ]
  },
  {
   "cell_type": "code",
   "execution_count": 10,
   "metadata": {},
   "outputs": [],
   "source": [
    "def subset(list19, list37, list3, list6, path19, path37, wget):\n",
    "    # for loop to take each file in the list and subset it's location \n",
    "    for file in list19:\n",
    "        outfile = path19 + file\n",
    "        infile = wget + file\n",
    "        cmd = env_path + 'ncks -d x,'+list6[0] +','+ list6[2]+' -d y,'+list6[4]+ ',' + list6[1]+' -v TB ' + infile + \" \" + outfile\n",
    "        print(\"Next in : %s\" % file)\n",
    "        print(\"Next out: %s\" % outfile)\n",
    "        # print(\"next unl out: %s\" % unlfile)\n",
    "        subprocess.call(shlex.split(cmd), shell = False)\n",
    "        os.remove(infile)\n",
    "        print(\"Done\")\n",
    "\n",
    "\n",
    "    for file in list37: \n",
    "        outfile = path37 + file \n",
    "        infile = wget + file\n",
    "        cmd = env_path + 'ncks -d x,'+list3[0] +','+ list3[2]+' -d y,'+list3[4]+ ',' + list3[1]+' -v TB ' + infile + \" \" + outfile\n",
    "        print(\"Next in: %s\" % infile)\n",
    "        print(\"Next out: %s\" % outfile)\n",
    "        subprocess.call(shlex.split(cmd), shell = False)\n",
    "        os.remove(infile)\n",
    "        print(\"Done\") "
   ]
  },
  {
   "cell_type": "code",
   "execution_count": 7,
   "metadata": {},
   "outputs": [],
   "source": [
    "# upper left \n",
    "lat_lon_ul = [62.27, -140.17]\n",
    "\n",
    "# lower right \n",
    "lat_lon_lr =[73.64, -166.08]\n",
    "\n",
    "list_3, list_6 = get_xy(lat_lon_ul, lat_lon_lr)"
   ]
  },
  {
   "cell_type": "code",
   "execution_count": 8,
   "metadata": {},
   "outputs": [],
   "source": [
    "os.chdir(wget)\n",
    "# Make a list of the files to concatenate together for 19H\n",
    "list19 = glob.glob(\"*19H-M-SIR*\")\n",
    "# Make list for the 37GHz\n",
    "list37 = glob.glob(\"*37H-M-SIR*\")\n",
    "list19.sort()\n",
    "list37.sort()"
   ]
  },
  {
   "cell_type": "code",
   "execution_count": 9,
   "metadata": {},
   "outputs": [
    {
     "name": "stdout",
     "output_type": "stream",
     "text": [
      "Error in calling operator ncks with:\n",
      ">>> /Users/williamnorris/anaconda3/bin/ncks --dmn=lon,[,1, lat,9,- --output=/Users/williamnorris/Team_GISProg/data/Subsetted_19H/NSIDC-0630-EASE2_N6.25km-F19_SSMIS-2015001-19H-M-SIR-CSU-v1.2.nc /Users/williamnorris/Team_GISProg/data/wget/NSIDC-0630-EASE2_N6.25km-F19_SSMIS-2015001-19H-M-SIR-CSU-v1.2.nc <<<\n",
      "Inputs: /Users/williamnorris/Team_GISProg/data/wget/NSIDC-0630-EASE2_N6.25km-F19_SSMIS-2015001-19H-M-SIR-CSU-v1.2.nc\n",
      "b'dyld: Library not loaded: @rpath/./libnetcdf.7.dylib\\n  Referenced from: /Users/williamnorris/anaconda3/bin/ncks\\n  Reason: image not found\\n'\n"
     ]
    },
    {
     "ename": "NCOException",
     "evalue": "(returncode:-6) b'dyld: Library not loaded: @rpath/./libnetcdf.7.dylib\\n  Referenced from: /Users/williamnorris/anaconda3/bin/ncks\\n  Reason: image not found\\n'",
     "output_type": "error",
     "traceback": [
      "\u001b[0;31m---------------------------------------------------------------------------\u001b[0m",
      "\u001b[0;31mNCOException\u001b[0m                              Traceback (most recent call last)",
      "\u001b[0;32m<ipython-input-9-37727bc3f6c0>\u001b[0m in \u001b[0;36m<module>\u001b[0;34m()\u001b[0m\n\u001b[0;32m----> 1\u001b[0;31m \u001b[0msubset\u001b[0m\u001b[0;34m(\u001b[0m\u001b[0mlist19\u001b[0m\u001b[0;34m,\u001b[0m \u001b[0mlist37\u001b[0m\u001b[0;34m,\u001b[0m \u001b[0mstr\u001b[0m\u001b[0;34m(\u001b[0m\u001b[0mlist_3\u001b[0m\u001b[0;34m)\u001b[0m\u001b[0;34m,\u001b[0m \u001b[0mstr\u001b[0m\u001b[0;34m(\u001b[0m\u001b[0mlist_6\u001b[0m\u001b[0;34m)\u001b[0m\u001b[0;34m,\u001b[0m \u001b[0mpath19\u001b[0m\u001b[0;34m,\u001b[0m \u001b[0mpath37\u001b[0m\u001b[0;34m,\u001b[0m \u001b[0mwget\u001b[0m\u001b[0;34m)\u001b[0m\u001b[0;34m\u001b[0m\u001b[0m\n\u001b[0m",
      "\u001b[0;32m<ipython-input-6-9a2174554936>\u001b[0m in \u001b[0;36msubset\u001b[0;34m(list19, list37, list3, list6, path19, path37, wget)\u001b[0m\n\u001b[1;32m      5\u001b[0m         \u001b[0minfile\u001b[0m \u001b[0;34m=\u001b[0m \u001b[0mwget\u001b[0m \u001b[0;34m+\u001b[0m \u001b[0mfile\u001b[0m\u001b[0;34m\u001b[0m\u001b[0m\n\u001b[1;32m      6\u001b[0m         \u001b[0mopt\u001b[0m \u001b[0;34m=\u001b[0m \u001b[0;34m[\u001b[0m\u001b[0;34m'--dmn=lon,{0},{1}, lat,{2},{3}'\u001b[0m\u001b[0;34m.\u001b[0m\u001b[0mformat\u001b[0m\u001b[0;34m(\u001b[0m\u001b[0mlist6\u001b[0m\u001b[0;34m[\u001b[0m\u001b[0;36m0\u001b[0m\u001b[0;34m]\u001b[0m\u001b[0;34m,\u001b[0m \u001b[0mlist6\u001b[0m\u001b[0;34m[\u001b[0m\u001b[0;36m2\u001b[0m\u001b[0;34m]\u001b[0m\u001b[0;34m,\u001b[0m \u001b[0mlist6\u001b[0m\u001b[0;34m[\u001b[0m\u001b[0;36m3\u001b[0m\u001b[0;34m]\u001b[0m\u001b[0;34m,\u001b[0m \u001b[0mlist6\u001b[0m\u001b[0;34m[\u001b[0m\u001b[0;36m1\u001b[0m\u001b[0;34m]\u001b[0m\u001b[0;34m)\u001b[0m\u001b[0;34m]\u001b[0m\u001b[0;34m\u001b[0m\u001b[0m\n\u001b[0;32m----> 7\u001b[0;31m         \u001b[0mnco\u001b[0m\u001b[0;34m.\u001b[0m\u001b[0mncks\u001b[0m\u001b[0;34m(\u001b[0m\u001b[0minput\u001b[0m \u001b[0;34m=\u001b[0m \u001b[0minfile\u001b[0m\u001b[0;34m,\u001b[0m \u001b[0moutput\u001b[0m \u001b[0;34m=\u001b[0m \u001b[0moutfile\u001b[0m\u001b[0;34m,\u001b[0m \u001b[0moptions\u001b[0m \u001b[0;34m=\u001b[0m \u001b[0mopt\u001b[0m\u001b[0;34m)\u001b[0m\u001b[0;34m\u001b[0m\u001b[0m\n\u001b[0m\u001b[1;32m      8\u001b[0m         \u001b[0mprint\u001b[0m\u001b[0;34m(\u001b[0m\u001b[0;34m\"Next in : %s\"\u001b[0m \u001b[0;34m%\u001b[0m \u001b[0mfile\u001b[0m\u001b[0;34m)\u001b[0m\u001b[0;34m\u001b[0m\u001b[0m\n\u001b[1;32m      9\u001b[0m         \u001b[0mprint\u001b[0m\u001b[0;34m(\u001b[0m\u001b[0;34m\"Next out: %s\"\u001b[0m \u001b[0;34m%\u001b[0m \u001b[0moutfile\u001b[0m\u001b[0;34m)\u001b[0m\u001b[0;34m\u001b[0m\u001b[0m\n",
      "\u001b[0;32m~/anaconda3/envs/gis/lib/python3.6/site-packages/nco/nco.py\u001b[0m in \u001b[0;36mget\u001b[0;34m(self, input, **kwargs)\u001b[0m\n\u001b[1;32m    269\u001b[0m                         \u001b[0;32mreturn\u001b[0m \u001b[0;32mNone\u001b[0m\u001b[0;34m\u001b[0m\u001b[0m\n\u001b[1;32m    270\u001b[0m                     \u001b[0;32melse\u001b[0m\u001b[0;34m:\u001b[0m\u001b[0;34m\u001b[0m\u001b[0m\n\u001b[0;32m--> 271\u001b[0;31m                         \u001b[0;32mraise\u001b[0m \u001b[0mNCOException\u001b[0m\u001b[0;34m(\u001b[0m\u001b[0;34m**\u001b[0m\u001b[0mretvals\u001b[0m\u001b[0;34m)\u001b[0m\u001b[0;34m\u001b[0m\u001b[0m\n\u001b[0m\u001b[1;32m    272\u001b[0m \u001b[0;34m\u001b[0m\u001b[0m\n\u001b[1;32m    273\u001b[0m             \u001b[0;32mif\u001b[0m \u001b[0mreturnArray\u001b[0m\u001b[0;34m:\u001b[0m\u001b[0;34m\u001b[0m\u001b[0m\n",
      "\u001b[0;31mNCOException\u001b[0m: (returncode:-6) b'dyld: Library not loaded: @rpath/./libnetcdf.7.dylib\\n  Referenced from: /Users/williamnorris/anaconda3/bin/ncks\\n  Reason: image not found\\n'"
     ]
    }
   ],
   "source": [
    "subset(list19, list37, str(list_3), str(list_6), path19, path37, wget)"
   ]
  },
  {
   "cell_type": "code",
   "execution_count": null,
   "metadata": {},
   "outputs": [],
   "source": [
    "outfile_19 = 'all_days_19H.nc'\n",
    "outfile_37 = 'all_days_37H.nc'"
   ]
  },
  {
   "cell_type": "code",
   "execution_count": 11,
   "metadata": {},
   "outputs": [
    {
     "name": "stdout",
     "output_type": "stream",
     "text": [
      "/bin/sh: env_path/ncrcat: No such file or directory\r\n"
     ]
    }
   ],
   "source": [
    "os.chdir(path)\n",
    "os.chdir(path + '/data' + '/Subsetted_19H')\n",
    "\n",
    "# Concatenate 19GHz files:\n",
    "cmd = env_path+'/ncrcat NSIDC*nc -O '+ outfile_19\n",
    "subprocess.call(schlex.split(cmd), shell = False)\n",
    "#!/anaconda3/envs/python2/bin/ncrcat NSIDC*nc -O all_days_2015_19H_F19.nc\n",
    "\n",
    "os.chdir(path + '/data' + '/Subsetted_37H')\n",
    "\n",
    "# Concatenate 37GHz files: \n",
    "cmd = env_path+'/ncrcat NSIDC*nc -O '+ outfile_37\n",
    "subprocess.call(schlex.spplit)\n",
    "!/anaconda3/envs/python2/bin/ncrcat NSIDC*nc -O all_days_2015_37H_F19.nc"
   ]
  },
  {
   "cell_type": "code",
   "execution_count": null,
   "metadata": {},
   "outputs": [],
   "source": []
  },
  {
   "cell_type": "code",
   "execution_count": 20,
   "metadata": {},
   "outputs": [],
   "source": [
    "def subset(list19, list37, list3, list6, path19, path37, wget):\n",
    "    # for loop to take each file in the list and subset it's location \n",
    "    for file in list19:\n",
    "        outfile = path19 + file\n",
    "        infile = wget + file\n",
    "        opt = ['--dmn=lon,{0},{1}, lat,{2},{3}'.format(list6[0], list6[2], list6[3], list6[1])]\n",
    "        nco.ncks(input = infile, output = outfile, options = opt)\n",
    "        print(\"Next in : %s\" % file)\n",
    "        print(\"Next out: %s\" % outfile)\n",
    "        # print(\"next unl out: %s\" % unlfile)\n",
    "        #subprocess.call(shlex.split(cmd), shell = False)\n",
    "        os.remove(infile)\n",
    "        print(\"Done\")\n",
    "\n",
    "\n",
    "    for file in list37: \n",
    "        outfile = path37 + file \n",
    "        infile = wget + file\n",
    "        opt = ['--dmn=lon,{0},{1}, lat,{2},{3}'.format(list3[0], list3[2], list3[3], list3[1])]\n",
    "        nco.ncks(input = infile, output = outfile, options = opt)\n",
    "        print(\"Next in: %s\" % infile)\n",
    "        print(\"Next out: %s\" % outfile)\n",
    "        os.remove(infile)\n",
    "        print(\"Done\")   "
   ]
  },
  {
   "cell_type": "code",
   "execution_count": null,
   "metadata": {},
   "outputs": [],
   "source": [
    "def subset(list19, list37, list3, list6, path19, path37, wget):\n",
    "    # for loop to take each file in the list and subset it's location \n",
    "    for file in list19:\n",
    "        outfile = path19 + file\n",
    "        infile = wget + file\n",
    "        cmd = env_path + 'ncks -d x,'+list6[0] +','+ list6[2]+' -d y,'+list6[4]+ ',' + list6[1]+' -v TB ' + infile + \" \" + outfile\n",
    "        print(\"Next in : %s\" % file)\n",
    "        print(\"Next out: %s\" % outfile)\n",
    "        # print(\"next unl out: %s\" % unlfile)\n",
    "        subprocess.call(shlex.split(cmd), shell = False)\n",
    "        os.remove(infile)\n",
    "        print(\"Done\")\n",
    "\n",
    "\n",
    "    for file in list37: \n",
    "        outfile = path37 + file \n",
    "        infile = wget + file\n",
    "        cmd = env_path + 'ncks -d x,'+list3[0] +','+ list3[2]+' -d y,'+list3[4]+ ',' + list3[1]+' -v TB ' + infile + \" \" + outfile\n",
    "        print(\"Next in: %s\" % infile)\n",
    "        print(\"Next out: %s\" % outfile)\n",
    "        subprocess.call(shlex.split(cmd), shell = False)\n",
    "        os.remove(infile)\n",
    "        print(\"Done\") "
   ]
  }
 ],
 "metadata": {
  "kernelspec": {
   "display_name": "gis",
   "language": "python",
   "name": "gis"
  },
  "language_info": {
   "codemirror_mode": {
    "name": "ipython",
    "version": 3
   },
   "file_extension": ".py",
   "mimetype": "text/x-python",
   "name": "python",
   "nbconvert_exporter": "python",
   "pygments_lexer": "ipython3",
   "version": "3.6.5"
  }
 },
 "nbformat": 4,
 "nbformat_minor": 2
}

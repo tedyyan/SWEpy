{
 "cells": [
  {
   "cell_type": "code",
   "execution_count": 3,
   "metadata": {},
   "outputs": [],
   "source": [
    "import matplotlib.pyplot as plt\n",
    "from scipy.signal import savgol_filter\n",
    "import swepy.process as proc\n",
    "import numpy as np\n"
   ]
  },
  {
   "cell_type": "markdown",
   "metadata": {},
   "source": [
    "## Flow\n",
    "- Open large swe files\n",
    "- Clean and filter\n",
    "    - Save filtered array time vector for examples\n",
    "- Save unfiltered time vector for examples"
   ]
  },
  {
   "cell_type": "code",
   "execution_count": 11,
   "metadata": {},
   "outputs": [],
   "source": [
    "tb19 = proc.get_array(\"../all_days_19H_testfile.nc\")\n",
    "tb37 = proc.get_array(\"../all_days_37H_testfile.nc\")\n",
    "tb19 = proc.vector_clean(tb19)\n",
    "tb37 = proc.vector_clean(tb37)\n",
    "unfiltered_swe = proc.safe_subtract(tb19, tb37)"
   ]
  },
  {
   "cell_type": "code",
   "execution_count": null,
   "metadata": {},
   "outputs": [],
   "source": [
    "np.shape(unfiltered_swe)"
   ]
  },
  {
   "cell_type": "code",
   "execution_count": null,
   "metadata": {},
   "outputs": [],
   "source": [
    "unfiltered_vec = unfiltered_swe[:,15:25,100:110]"
   ]
  },
  {
   "cell_type": "code",
   "execution_count": null,
   "metadata": {},
   "outputs": [],
   "source": [
    "unfiltered_vec.dump('unfiltered_swe_vector')"
   ]
  },
  {
   "cell_type": "code",
   "execution_count": null,
   "metadata": {},
   "outputs": [],
   "source": [
    "filtered19 = proc.apply_filter_mphelper(tb19)\n",
    "filtered37 = proc.apply_filter_mphelper(tb37)\n",
    "filteredswe = proc.safe_subtract(filtered19, filtered37)"
   ]
  },
  {
   "cell_type": "code",
   "execution_count": 13,
   "metadata": {},
   "outputs": [],
   "source": [
    "tb19 = tb19[:,10:30, 100:130]\n",
    "tb37 = tb37[:,10:30, 100:130]"
   ]
  },
  {
   "cell_type": "code",
   "execution_count": 15,
   "metadata": {},
   "outputs": [],
   "source": [
    "tb19.dump('filtered19')\n",
    "tb37.dump('filtered37')"
   ]
  },
  {
   "cell_type": "code",
   "execution_count": 14,
   "metadata": {},
   "outputs": [
    {
     "data": {
      "text/plain": [
       "masked_array(\n",
       "  data=[[[248.17999267578125, 248.36000061035156, 248.5, ...,\n",
       "          243.70999145507812, 243.1599884033203, 242.6699981689453],\n",
       "         [248.17999267578125, 248.75999450683594, 248.6199951171875,\n",
       "          ..., 243.37998962402344, 242.9199981689453,\n",
       "          242.64999389648438],\n",
       "         [247.47999572753906, 248.22999572753906, 248.9099884033203,\n",
       "          ..., 243.17999267578125, 242.7899932861328,\n",
       "          242.39999389648438],\n",
       "         ...,\n",
       "         [241.09999084472656, 240.9399871826172, 240.76998901367188,\n",
       "          ..., 242.72000122070312, 243.04998779296875,\n",
       "          243.4399871826172],\n",
       "         [240.989990234375, 240.97000122070312, 240.62998962402344, ...,\n",
       "          243.20999145507812, 243.52999877929688, 243.6599884033203],\n",
       "         [241.01998901367188, 240.8699951171875, 240.5800018310547, ...,\n",
       "          243.33999633789062, 243.64999389648438, 243.84999084472656]],\n",
       "\n",
       "        [[245.8699951171875, 246.1599884033203, 246.22999572753906, ...,\n",
       "          242.4199981689453, 242.20999145507812, 242.0399932861328],\n",
       "         [245.70999145507812, 245.79998779296875, 246.52999877929688,\n",
       "          ..., 242.12998962402344, 241.92999267578125,\n",
       "          241.8699951171875],\n",
       "         [245.51998901367188, 245.62998962402344, 246.47000122070312,\n",
       "          ..., 241.89999389648438, 241.75, 241.4499969482422],\n",
       "         ...,\n",
       "         [239.80999755859375, 240.01998901367188, 240.1899871826172,\n",
       "          ..., 243.1699981689453, 243.42999267578125, 243.4399871826172],\n",
       "         [239.9399871826172, 240.00999450683594, 240.05999755859375,\n",
       "          ..., 243.75999450683594, 243.83999633789062,\n",
       "          244.0399932861328],\n",
       "         [239.9399871826172, 240.14999389648438, 240.13999938964844,\n",
       "          ..., 244.239990234375, 244.2899932861328, 244.3699951171875]],\n",
       "\n",
       "        [[242.7899932861328, 242.97000122070312, 243.6999969482422, ...,\n",
       "          242.67999267578125, 242.22999572753906, 241.6599884033203],\n",
       "         [243.02999877929688, 243.54998779296875, 243.8300018310547,\n",
       "          ..., 242.36000061035156, 241.77999877929688,\n",
       "          241.17999267578125],\n",
       "         [243.2899932861328, 244.1599884033203, 244.47000122070312, ...,\n",
       "          242.3199920654297, 241.72000122070312, 240.9399871826172],\n",
       "         ...,\n",
       "         [239.47000122070312, 239.76998901367188, 239.89999389648438,\n",
       "          ..., 240.27999877929688, 240.3199920654297,\n",
       "          240.63999938964844],\n",
       "         [239.26998901367188, 239.50999450683594, 239.5800018310547,\n",
       "          ..., 240.989990234375, 240.86000061035156, 240.9499969482422],\n",
       "         [239.27999877929688, 239.38999938964844, 239.36000061035156,\n",
       "          ..., 241.02999877929688, 241.45999145507812, 241.489990234375]],\n",
       "\n",
       "        ...,\n",
       "\n",
       "        [[250.5399932861328, 250.80999755859375, 250.97000122070312,\n",
       "          ..., 241.92999267578125, 241.3300018310547,\n",
       "          240.80999755859375],\n",
       "         [249.8300018310547, 250.01998901367188, 250.33999633789062,\n",
       "          ..., 241.0699920654297, 240.61000061035156, 240.1599884033203],\n",
       "         [248.7899932861328, 249.26998901367188, 249.77999877929688,\n",
       "          ..., 240.14999389648438, 239.8699951171875,\n",
       "          239.61000061035156],\n",
       "         ...,\n",
       "         [239.63999938964844, 241.04998779296875, 241.26998901367188,\n",
       "          ..., 238.25, 239.72000122070312, 241.1899871826172],\n",
       "         [240.25999450683594, 241.1599884033203, 241.4099884033203, ...,\n",
       "          239.1999969482422, 240.39999389648438, 241.5800018310547],\n",
       "         [239.9499969482422, 240.95999145507812, 241.6899871826172, ...,\n",
       "          239.55999755859375, 240.8199920654297, 241.97999572753906]],\n",
       "\n",
       "        [[248.29998779296875, 248.1599884033203, 247.9499969482422, ...,\n",
       "          240.9499969482422, 240.72999572753906, 240.89999389648438],\n",
       "         [247.5399932861328, 247.5699920654297, 247.52999877929688, ...,\n",
       "          240.08999633789062, 240.26998901367188, 240.3300018310547],\n",
       "         [247.11000061035156, 247.22999572753906, 247.1599884033203,\n",
       "          ..., 239.14999389648438, 239.27999877929688,\n",
       "          239.51998901367188],\n",
       "         ...,\n",
       "         [239.54998779296875, 240.58999633789062, 240.9199981689453,\n",
       "          ..., 238.61000061035156, 239.87998962402344,\n",
       "          241.0399932861328],\n",
       "         [239.5699920654297, 240.36000061035156, 240.79998779296875,\n",
       "          ..., 239.5, 240.63999938964844, 241.72999572753906],\n",
       "         [239.489990234375, 240.25, 240.4399871826172, ...,\n",
       "          240.04998779296875, 241.489990234375, 242.3300018310547]],\n",
       "\n",
       "        [[247.87998962402344, 247.8300018310547, 247.95999145507812,\n",
       "          ..., 239.4399871826172, 239.30999755859375,\n",
       "          239.13999938964844],\n",
       "         [247.37998962402344, 247.47000122070312, 247.5, ...,\n",
       "          238.42999267578125, 238.45999145507812, 238.39999389648438],\n",
       "         [246.52999877929688, 246.5699920654297, 246.95999145507812,\n",
       "          ..., 237.70999145507812, 237.76998901367188,\n",
       "          237.70999145507812],\n",
       "         ...,\n",
       "         [238.02999877929688, 238.84999084472656, 239.63999938964844,\n",
       "          ..., 237.22000122070312, 238.36000061035156,\n",
       "          239.6999969482422],\n",
       "         [237.739990234375, 238.52999877929688, 239.489990234375, ...,\n",
       "          238.5399932861328, 239.9399871826172, 241.05999755859375],\n",
       "         [238.09999084472656, 238.4499969482422, 239.2899932861328, ...,\n",
       "          239.75, 241.12998962402344, 241.88999938964844]]],\n",
       "  mask=[[[False, False, False, ..., False, False, False],\n",
       "         [False, False, False, ..., False, False, False],\n",
       "         [False, False, False, ..., False, False, False],\n",
       "         ...,\n",
       "         [False, False, False, ..., False, False, False],\n",
       "         [False, False, False, ..., False, False, False],\n",
       "         [False, False, False, ..., False, False, False]],\n",
       "\n",
       "        [[False, False, False, ..., False, False, False],\n",
       "         [False, False, False, ..., False, False, False],\n",
       "         [False, False, False, ..., False, False, False],\n",
       "         ...,\n",
       "         [False, False, False, ..., False, False, False],\n",
       "         [False, False, False, ..., False, False, False],\n",
       "         [False, False, False, ..., False, False, False]],\n",
       "\n",
       "        [[False, False, False, ..., False, False, False],\n",
       "         [False, False, False, ..., False, False, False],\n",
       "         [False, False, False, ..., False, False, False],\n",
       "         ...,\n",
       "         [False, False, False, ..., False, False, False],\n",
       "         [False, False, False, ..., False, False, False],\n",
       "         [False, False, False, ..., False, False, False]],\n",
       "\n",
       "        ...,\n",
       "\n",
       "        [[False, False, False, ..., False, False, False],\n",
       "         [False, False, False, ..., False, False, False],\n",
       "         [False, False, False, ..., False, False, False],\n",
       "         ...,\n",
       "         [False, False, False, ..., False, False, False],\n",
       "         [False, False, False, ..., False, False, False],\n",
       "         [False, False, False, ..., False, False, False]],\n",
       "\n",
       "        [[False, False, False, ..., False, False, False],\n",
       "         [False, False, False, ..., False, False, False],\n",
       "         [False, False, False, ..., False, False, False],\n",
       "         ...,\n",
       "         [False, False, False, ..., False, False, False],\n",
       "         [False, False, False, ..., False, False, False],\n",
       "         [False, False, False, ..., False, False, False]],\n",
       "\n",
       "        [[False, False, False, ..., False, False, False],\n",
       "         [False, False, False, ..., False, False, False],\n",
       "         [False, False, False, ..., False, False, False],\n",
       "         ...,\n",
       "         [False, False, False, ..., False, False, False],\n",
       "         [False, False, False, ..., False, False, False],\n",
       "         [False, False, False, ..., False, False, False]]],\n",
       "  fill_value=0,\n",
       "  dtype=float32)"
      ]
     },
     "execution_count": 14,
     "metadata": {},
     "output_type": "execute_result"
    }
   ],
   "source": [
    "tb19"
   ]
  },
  {
   "cell_type": "code",
   "execution_count": null,
   "metadata": {},
   "outputs": [],
   "source": [
    "filteredswe_vec = filteredswe[:,15:25,100:110]"
   ]
  },
  {
   "cell_type": "code",
   "execution_count": null,
   "metadata": {},
   "outputs": [],
   "source": [
    "filteredswe_vec.dump('filtered_swe_vector')"
   ]
  },
  {
   "cell_type": "code",
   "execution_count": null,
   "metadata": {},
   "outputs": [],
   "source": [
    "print(np.shape(unfiltered_swe))\n",
    "print(np.shape(filteredswe))"
   ]
  },
  {
   "cell_type": "code",
   "execution_count": null,
   "metadata": {},
   "outputs": [],
   "source": [
    "np.save('filt_swe', filteredswe_vec)"
   ]
  },
  {
   "cell_type": "code",
   "execution_count": null,
   "metadata": {},
   "outputs": [],
   "source": [
    "filteredswe_vec = np.load('ex_data/filtered_swe_vector.npy')\n",
    "unfiltered_vec = np.load('ex_data/unfiltered_swe_vector', allow_pickle=True)"
   ]
  },
  {
   "cell_type": "code",
   "execution_count": null,
   "metadata": {},
   "outputs": [],
   "source": [
    "x = np.array(range(len(filteredswe_vec)))\n",
    "\n",
    "start = 320\n",
    "end = 600\n",
    "\n",
    "fig, ax = plt.subplots(1,1,figsize= (30,15))\n",
    "plt.plot(x[start:end], unfiltered_vec[start:end,4,4])\n",
    "plt.plot(x[start:end], filteredswe_vec[start:end,4,4], color='red')\n",
    "plt.grid(.25, zorder = 3)\n",
    "plt.xlabel('Day of Timeseries', fontsize = 20)\n",
    "plt.ylabel('SWE (mm)', fontsize = 20)\n",
    "plt.title(\"Applying Savgol Filter to SWE Data\", fontsize = 26)\n",
    "plt.show()"
   ]
  },
  {
   "cell_type": "code",
   "execution_count": null,
   "metadata": {},
   "outputs": [],
   "source": []
  },
  {
   "cell_type": "code",
   "execution_count": null,
   "metadata": {},
   "outputs": [],
   "source": []
  }
 ],
 "metadata": {
  "kernelspec": {
   "display_name": "swepy 2020",
   "language": "python",
   "name": "swepy_env"
  }
 },
 "nbformat": 4,
 "nbformat_minor": 4
}

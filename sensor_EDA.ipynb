{
 "cells": [
  {
   "cell_type": "code",
   "execution_count": 1,
   "metadata": {},
   "outputs": [],
   "source": [
    "#% cd /Users/williamnorris/SWE_Clean/data/concatenated \n",
    "%matplotlib inline\n",
    "import time\n",
    "import os\n",
    "import warnings \n",
    "import numpy as np\n",
    "from numpy import newaxis \n",
    "from numpy import shape\n",
    "import pandas as pd\n",
    "import matplotlib.pyplot as plt\n",
    "from netCDF4 import Dataset\n",
    "from skimage.measure import block_reduce\n",
    "import math"
   ]
  },
  {
   "cell_type": "code",
   "execution_count": 2,
   "metadata": {},
   "outputs": [
    {
     "data": {
      "text/plain": [
       "'/Users/williamnorris/SWE_TB'"
      ]
     },
     "execution_count": 2,
     "metadata": {},
     "output_type": "execute_result"
    }
   ],
   "source": [
    "path = os.getcwd()\n",
    "path"
   ]
  },
  {
   "cell_type": "code",
   "execution_count": 3,
   "metadata": {},
   "outputs": [],
   "source": [
    "tuple_list = []\n",
    "name_list = []\n",
    "top_list = []"
   ]
  },
  {
   "cell_type": "markdown",
   "metadata": {},
   "source": [
    "## Looking for ways to determine what sensors are cleaner\n",
    "### - Find how many spikes are in the dataset in each year "
   ]
  },
  {
   "cell_type": "markdown",
   "metadata": {},
   "source": [
    "## Import F08 (even though no competition)"
   ]
  },
  {
   "cell_type": "code",
   "execution_count": 4,
   "metadata": {},
   "outputs": [],
   "source": [
    "os.chdir(path + '/data/concatenated')"
   ]
  },
  {
   "cell_type": "code",
   "execution_count": 5,
   "metadata": {},
   "outputs": [],
   "source": [
    "# Prep the data!\n",
    "filename_19H = \"all_days_1989_19H_F08.nc\"\n",
    "fid_19H = Dataset(filename_19H, \"r\", format = \"NETCDF4\")\n",
    "\n",
    "filename = \"all_days_1989_37H_F08.nc\"\n",
    "fid_37H = Dataset( filename, \"r\", format=\"NETCDF4\")\n",
    "\n",
    "\n",
    "tb_19H_long = fid_19H.variables['TB'][:]\n",
    "tb_37H_long = fid_37H.variables['TB'][:]\n",
    "\n",
    "tb_37H_long = block_reduce(tb_37H_long, block_size = (1,2,2), func = np.mean)\n",
    "\n",
    "swe_long_f08 = tb_19H_long - tb_37H_long "
   ]
  },
  {
   "cell_type": "code",
   "execution_count": 6,
   "metadata": {},
   "outputs": [
    {
     "name": "stdout",
     "output_type": "stream",
     "text": [
      "Number of extraneous values f08: 31245.000000\n"
     ]
    }
   ],
   "source": [
    "print(\"Number of extraneous values f08: %f\" %(np.sum(swe_long_f08 > 80)))"
   ]
  },
  {
   "cell_type": "code",
   "execution_count": null,
   "metadata": {},
   "outputs": [],
   "source": []
  },
  {
   "cell_type": "code",
   "execution_count": null,
   "metadata": {},
   "outputs": [],
   "source": []
  },
  {
   "cell_type": "code",
   "execution_count": null,
   "metadata": {},
   "outputs": [],
   "source": []
  },
  {
   "cell_type": "markdown",
   "metadata": {},
   "source": [
    "## Import the F11 data, 1992"
   ]
  },
  {
   "cell_type": "code",
   "execution_count": 7,
   "metadata": {},
   "outputs": [],
   "source": [
    "# Prep the data!\n",
    "filename_19H = \"all_days_1992_19H_F11.nc\"\n",
    "fid_19H = Dataset(filename_19H, \"r\", format = \"NETCDF4\")\n",
    "\n",
    "filename = \"all_days_1992_37H_F11.nc\"\n",
    "fid_37H = Dataset( filename, \"r\", format=\"NETCDF4\")\n",
    "\n",
    "\n",
    "tb_19H_long = fid_19H.variables['TB'][:]\n",
    "tb_37H_long = fid_37H.variables['TB'][:]\n",
    "\n",
    "tb_37H_long = block_reduce(tb_37H_long, block_size = (1,2,2), func = np.mean)\n",
    "\n",
    "swe_long_f11 = tb_19H_long - tb_37H_long "
   ]
  },
  {
   "cell_type": "markdown",
   "metadata": {},
   "source": [
    "## Import the F10 data"
   ]
  },
  {
   "cell_type": "code",
   "execution_count": 8,
   "metadata": {},
   "outputs": [],
   "source": [
    "# Prep the data!\n",
    "filename_19H = \"all_days_1992_19H_F10.nc\"\n",
    "fid_19H = Dataset(filename_19H, \"r\", format = \"NETCDF4\")\n",
    "\n",
    "filename = \"all_days_1992_37H_F10.nc\"\n",
    "fid_37H = Dataset( filename, \"r\", format=\"NETCDF4\")\n",
    "\n",
    "tb_19H_long = fid_19H.variables['TB'][:]\n",
    "tb_37H_long = fid_37H.variables['TB'][:]\n",
    "\n",
    "tb_37H_long = block_reduce(tb_37H_long, block_size = (1,2,2), func = np.mean)\n",
    "\n",
    "swe_long_f10 = tb_19H_long - tb_37H_long "
   ]
  },
  {
   "cell_type": "code",
   "execution_count": 9,
   "metadata": {},
   "outputs": [],
   "source": [
    "ex_f10_1992 = np.sum(swe_long_f10 > 80)\n",
    "ex_f11_1992 = np.sum(swe_long_f11 > 80)"
   ]
  },
  {
   "cell_type": "code",
   "execution_count": 10,
   "metadata": {},
   "outputs": [
    {
     "name": "stdout",
     "output_type": "stream",
     "text": [
      "Number of extraneous values f10: 73846.000000\n",
      "Number of extraneous values f11: 53460.000000\n"
     ]
    }
   ],
   "source": [
    "print(\"Number of extraneous values f10: %f\" %(np.sum(swe_long_f10 > 80)))\n",
    "print(\"Number of extraneous values f11: %f\" %(np.sum(swe_long_f11 > 80)))"
   ]
  },
  {
   "cell_type": "code",
   "execution_count": 11,
   "metadata": {},
   "outputs": [],
   "source": [
    "tuple_list.append((np.sum(swe_long_f10 > 80),np.sum(swe_long_f11 > 80)))\n",
    "name_list.append('F10 vs F11 \\n 1992')\n"
   ]
  },
  {
   "cell_type": "code",
   "execution_count": 12,
   "metadata": {},
   "outputs": [],
   "source": [
    "if np.sum(swe_long_f10 > 80) > np.sum(swe_long_f11 > 80):\n",
    "    top_list.append(swe_long_f10)\n",
    "else: \n",
    "    top_list.append(swe_long_f11)"
   ]
  },
  {
   "cell_type": "markdown",
   "metadata": {},
   "source": [
    "## Import the F13 Data "
   ]
  },
  {
   "cell_type": "code",
   "execution_count": 13,
   "metadata": {},
   "outputs": [],
   "source": [
    "# Prep the data!\n",
    "filename_19H = \"all_days_1996_19H_F13.nc\"\n",
    "fid_19H = Dataset(filename_19H, \"r\", format = \"NETCDF4\")\n",
    "\n",
    "filename = \"all_days_1996_37H_F13.nc\"\n",
    "fid_37H = Dataset( filename, \"r\", format=\"NETCDF4\")\n",
    "\n",
    "\n",
    "tb_19H_long = fid_19H.variables['TB'][:]\n",
    "tb_37H_long = fid_37H.variables['TB'][:]\n",
    "\n",
    "tb_37H_long = block_reduce(tb_37H_long, block_size = (1,2,2), func = np.mean)\n",
    "\n",
    "swe_long_f13 = tb_19H_long - tb_37H_long "
   ]
  },
  {
   "cell_type": "markdown",
   "metadata": {},
   "source": [
    "## Import the F11 Data from 1996"
   ]
  },
  {
   "cell_type": "code",
   "execution_count": 14,
   "metadata": {},
   "outputs": [],
   "source": [
    "# Prep the data!\n",
    "filename_19H = \"all_days_1996_19H_F11.nc\"\n",
    "fid_19H = Dataset(filename_19H, \"r\", format = \"NETCDF4\")\n",
    "\n",
    "filename = \"all_days_1996_37H_F11.nc\"\n",
    "fid_37H = Dataset( filename, \"r\", format=\"NETCDF4\")\n",
    "\n",
    "\n",
    "tb_19H_long = fid_19H.variables['TB'][:]\n",
    "tb_37H_long = fid_37H.variables['TB'][:]\n",
    "\n",
    "tb_37H_long = block_reduce(tb_37H_long, block_size = (1,2,2), func = np.mean)\n",
    "\n",
    "swe_long_f11 = tb_19H_long - tb_37H_long "
   ]
  },
  {
   "cell_type": "code",
   "execution_count": 15,
   "metadata": {},
   "outputs": [
    {
     "name": "stdout",
     "output_type": "stream",
     "text": [
      "Number of extraneous values f11: 99998.000000\n",
      "Number of extraneous values f13: 39937.000000\n"
     ]
    }
   ],
   "source": [
    "print(\"Number of extraneous values f11: %f\" %(np.sum(swe_long_f11 > 80)))\n",
    "print(\"Number of extraneous values f13: %f\" %(np.sum(swe_long_f13 > 80)))"
   ]
  },
  {
   "cell_type": "code",
   "execution_count": 16,
   "metadata": {},
   "outputs": [],
   "source": [
    "tuple_list.append((np.sum(swe_long_f11 > 80),np.sum(swe_long_f13 > 80)))\n",
    "name_list.append('F11 vs F13 \\n 1996')"
   ]
  },
  {
   "cell_type": "code",
   "execution_count": 17,
   "metadata": {},
   "outputs": [],
   "source": [
    "if np.sum(swe_long_f11 > 80) > np.sum(swe_long_f13 > 80):\n",
    "    top_list.append(swe_long_f11)\n",
    "else: \n",
    "    top_list.append(swe_long_f13)"
   ]
  },
  {
   "cell_type": "markdown",
   "metadata": {
    "collapsed": true
   },
   "source": [
    "- Here, we can see that the F11 sensor has gotten less accurate over time"
   ]
  },
  {
   "cell_type": "markdown",
   "metadata": {},
   "source": [
    "## Import the F13 and F14 data for 1998"
   ]
  },
  {
   "cell_type": "code",
   "execution_count": 18,
   "metadata": {},
   "outputs": [],
   "source": [
    "# Prep the data!\n",
    "filename_19H = \"all_days_1998_19H_F13.nc\"\n",
    "fid_19H = Dataset(filename_19H, \"r\", format = \"NETCDF4\")\n",
    "\n",
    "filename = \"all_days_1998_37H_F13.nc\"\n",
    "fid_37H = Dataset( filename, \"r\", format=\"NETCDF4\")\n",
    "\n",
    "\n",
    "tb_19H_long = fid_19H.variables['TB'][:]\n",
    "tb_37H_long = fid_37H.variables['TB'][:]\n",
    "\n",
    "tb_37H_long = block_reduce(tb_37H_long, block_size = (1,2,2), func = np.mean)\n",
    "\n",
    "swe_long_f13 = tb_19H_long - tb_37H_long "
   ]
  },
  {
   "cell_type": "code",
   "execution_count": 19,
   "metadata": {},
   "outputs": [],
   "source": [
    "# Prep the data!\n",
    "filename_19H = \"all_days_1998_19H_F14.nc\"\n",
    "fid_19H = Dataset(filename_19H, \"r\", format = \"NETCDF4\")\n",
    "\n",
    "filename = \"all_days_1998_37H_F14.nc\"\n",
    "fid_37H = Dataset( filename, \"r\", format=\"NETCDF4\")\n",
    "\n",
    "\n",
    "tb_19H_long = fid_19H.variables['TB'][:]\n",
    "tb_37H_long = fid_37H.variables['TB'][:]\n",
    "\n",
    "tb_37H_long = block_reduce(tb_37H_long, block_size = (1,2,2), func = np.mean)\n",
    "\n",
    "swe_long_f14 = tb_19H_long - tb_37H_long "
   ]
  },
  {
   "cell_type": "code",
   "execution_count": 20,
   "metadata": {},
   "outputs": [
    {
     "name": "stdout",
     "output_type": "stream",
     "text": [
      "Number of extraneous values f13: 7816.000000\n",
      "Number of extraneous values f14: 28127.000000\n"
     ]
    }
   ],
   "source": [
    "print(\"Number of extraneous values f13: %f\" %(np.sum(swe_long_f13 > 80)))\n",
    "print(\"Number of extraneous values f14: %f\" %(np.sum(swe_long_f14 > 80)))"
   ]
  },
  {
   "cell_type": "code",
   "execution_count": 21,
   "metadata": {},
   "outputs": [],
   "source": [
    "tuple_list.append((np.sum(swe_long_f13 > 80),np.sum(swe_long_f14 > 80)))\n",
    "name_list.append('F13 vs F14 \\n 1998')"
   ]
  },
  {
   "cell_type": "markdown",
   "metadata": {},
   "source": [
    "- F13 is still more accurate than f14 in 1998!"
   ]
  },
  {
   "cell_type": "markdown",
   "metadata": {},
   "source": [
    "## 1999"
   ]
  },
  {
   "cell_type": "code",
   "execution_count": 22,
   "metadata": {},
   "outputs": [],
   "source": [
    "# Prep the data!\n",
    "filename_19H = \"all_days_1999_19H_F13.nc\"\n",
    "fid_19H = Dataset(filename_19H, \"r\", format = \"NETCDF4\")\n",
    "\n",
    "filename = \"all_days_1999_37H_F13.nc\"\n",
    "fid_37H = Dataset( filename, \"r\", format=\"NETCDF4\")\n",
    "\n",
    "\n",
    "tb_19H_long = fid_19H.variables['TB'][:]\n",
    "tb_37H_long = fid_37H.variables['TB'][:]\n",
    "\n",
    "tb_37H_long = block_reduce(tb_37H_long, block_size = (1,2,2), func = np.mean)\n",
    "\n",
    "swe_long_f13 = tb_19H_long - tb_37H_long "
   ]
  },
  {
   "cell_type": "code",
   "execution_count": 23,
   "metadata": {},
   "outputs": [],
   "source": [
    "# Prep the data!\n",
    "filename_19H = \"all_days_1999_19H_F14.nc\"\n",
    "fid_19H = Dataset(filename_19H, \"r\", format = \"NETCDF4\")\n",
    "\n",
    "filename = \"all_days_1999_37H_F14.nc\"\n",
    "fid_37H = Dataset( filename, \"r\", format=\"NETCDF4\")\n",
    "\n",
    "\n",
    "tb_19H_long = fid_19H.variables['TB'][:]\n",
    "tb_37H_long = fid_37H.variables['TB'][:]\n",
    "\n",
    "tb_37H_long = block_reduce(tb_37H_long, block_size = (1,2,2), func = np.mean)\n",
    "\n",
    "swe_long_f14 = tb_19H_long - tb_37H_long "
   ]
  },
  {
   "cell_type": "code",
   "execution_count": 24,
   "metadata": {},
   "outputs": [
    {
     "name": "stdout",
     "output_type": "stream",
     "text": [
      "Number of extraneous values f13: 8897.000000\n",
      "Number of extraneous values f14: 200419.000000\n"
     ]
    }
   ],
   "source": [
    "print(\"Number of extraneous values f13: %f\" %(np.sum(swe_long_f13 > 80)))\n",
    "print(\"Number of extraneous values f14: %f\" %(np.sum(swe_long_f14 > 80)))"
   ]
  },
  {
   "cell_type": "code",
   "execution_count": 25,
   "metadata": {},
   "outputs": [],
   "source": [
    "tuple_list.append((np.sum(swe_long_f13 > 80),np.sum(swe_long_f14 > 80)))\n",
    "name_list.append('F13 vs F14 \\n 1999')"
   ]
  },
  {
   "cell_type": "markdown",
   "metadata": {},
   "source": [
    "## 2000"
   ]
  },
  {
   "cell_type": "code",
   "execution_count": 26,
   "metadata": {},
   "outputs": [],
   "source": [
    "# Prep the data!\n",
    "filename_19H = \"all_days_2000_19H_F13.nc\"\n",
    "fid_19H = Dataset(filename_19H, \"r\", format = \"NETCDF4\")\n",
    "\n",
    "filename = \"all_days_2000_37H_F13.nc\"\n",
    "fid_37H = Dataset( filename, \"r\", format=\"NETCDF4\")\n",
    "\n",
    "\n",
    "tb_19H_long = fid_19H.variables['TB'][:]\n",
    "tb_37H_long = fid_37H.variables['TB'][:]\n",
    "\n",
    "tb_37H_long = block_reduce(tb_37H_long, block_size = (1,2,2), func = np.mean)\n",
    "\n",
    "swe_long_f13 = tb_19H_long - tb_37H_long "
   ]
  },
  {
   "cell_type": "code",
   "execution_count": 27,
   "metadata": {},
   "outputs": [],
   "source": [
    "# Prep the data!\n",
    "filename_19H = \"all_days_2000_19H_F14.nc\"\n",
    "fid_19H = Dataset(filename_19H, \"r\", format = \"NETCDF4\")\n",
    "\n",
    "filename = \"all_days_2000_37H_F14.nc\"\n",
    "fid_37H = Dataset( filename, \"r\", format=\"NETCDF4\")\n",
    "\n",
    "\n",
    "tb_19H_long = fid_19H.variables['TB'][:]\n",
    "tb_37H_long = fid_37H.variables['TB'][:]\n",
    "\n",
    "tb_37H_long = block_reduce(tb_37H_long, block_size = (1,2,2), func = np.mean)\n",
    "\n",
    "swe_long_f14 = tb_19H_long - tb_37H_long "
   ]
  },
  {
   "cell_type": "code",
   "execution_count": 28,
   "metadata": {},
   "outputs": [
    {
     "name": "stdout",
     "output_type": "stream",
     "text": [
      "Number of extraneous values f13: 4592.000000\n",
      "Number of extraneous values f14: 208560.000000\n"
     ]
    }
   ],
   "source": [
    "print(\"Number of extraneous values f13: %f\" %(np.sum(swe_long_f13 > 80)))\n",
    "print(\"Number of extraneous values f14: %f\" %(np.sum(swe_long_f14 > 80)))"
   ]
  },
  {
   "cell_type": "code",
   "execution_count": 29,
   "metadata": {},
   "outputs": [],
   "source": [
    "tuple_list.append((np.sum(swe_long_f13 > 80),np.sum(swe_long_f14 > 80)))\n",
    "name_list.append('F13 vs F14 \\n 2000')"
   ]
  },
  {
   "cell_type": "markdown",
   "metadata": {},
   "source": [
    "## 2001 (F15 Comes online)\n",
    "- F13 was definitively better than F14\n",
    "- F13 still performing better than F15, but smaller margin"
   ]
  },
  {
   "cell_type": "code",
   "execution_count": 30,
   "metadata": {},
   "outputs": [],
   "source": [
    "# Prep the data!\n",
    "filename_19H = \"all_days_2001_19H_F13.nc\"\n",
    "fid_19H = Dataset(filename_19H, \"r\", format = \"NETCDF4\")\n",
    "\n",
    "filename = \"all_days_2001_37H_F13.nc\"\n",
    "fid_37H = Dataset( filename, \"r\", format=\"NETCDF4\")\n",
    "\n",
    "\n",
    "tb_19H_long = fid_19H.variables['TB'][:]\n",
    "tb_37H_long = fid_37H.variables['TB'][:]\n",
    "\n",
    "tb_37H_long = block_reduce(tb_37H_long, block_size = (1,2,2), func = np.mean)\n",
    "\n",
    "swe_long_f13 = tb_19H_long - tb_37H_long "
   ]
  },
  {
   "cell_type": "code",
   "execution_count": 31,
   "metadata": {},
   "outputs": [],
   "source": [
    "# Prep the data!\n",
    "filename_19H = \"all_days_2001_19H_F15.nc\"\n",
    "fid_19H = Dataset(filename_19H, \"r\", format = \"NETCDF4\")\n",
    "\n",
    "filename = \"all_days_2001_37H_F15.nc\"\n",
    "fid_37H = Dataset( filename, \"r\", format=\"NETCDF4\")\n",
    "\n",
    "\n",
    "tb_19H_long = fid_19H.variables['TB'][:]\n",
    "tb_37H_long = fid_37H.variables['TB'][:]\n",
    "\n",
    "tb_37H_long = block_reduce(tb_37H_long, block_size = (1,2,2), func = np.mean)\n",
    "\n",
    "swe_long_f15 = tb_19H_long - tb_37H_long "
   ]
  },
  {
   "cell_type": "code",
   "execution_count": 32,
   "metadata": {},
   "outputs": [
    {
     "name": "stdout",
     "output_type": "stream",
     "text": [
      "Number of extraneous values f13: 3458.000000\n",
      "Number of extraneous values f15: 8404.000000\n"
     ]
    }
   ],
   "source": [
    "print(\"Number of extraneous values f13: %f\" %(np.sum(swe_long_f13 > 80)))\n",
    "print(\"Number of extraneous values f15: %f\" %(np.sum(swe_long_f15 > 80)))"
   ]
  },
  {
   "cell_type": "code",
   "execution_count": 33,
   "metadata": {},
   "outputs": [],
   "source": [
    "tuple_list.append((np.sum(swe_long_f13 > 80),np.sum(swe_long_f15 > 80)))\n",
    "name_list.append('F13 vs F15 \\n 2001')"
   ]
  },
  {
   "cell_type": "markdown",
   "metadata": {},
   "source": [
    "## 2002 (F13 vs F15)"
   ]
  },
  {
   "cell_type": "code",
   "execution_count": 34,
   "metadata": {},
   "outputs": [],
   "source": [
    "# Prep the data!\n",
    "filename_19H = \"all_days_2002_19H_F13.nc\"\n",
    "fid_19H = Dataset(filename_19H, \"r\", format = \"NETCDF4\")\n",
    "\n",
    "filename = \"all_days_2002_37H_F13.nc\"\n",
    "fid_37H = Dataset( filename, \"r\", format=\"NETCDF4\")\n",
    "\n",
    "\n",
    "tb_19H_long = fid_19H.variables['TB'][:]\n",
    "tb_37H_long = fid_37H.variables['TB'][:]\n",
    "\n",
    "tb_37H_long = block_reduce(tb_37H_long, block_size = (1,2,2), func = np.mean)\n",
    "\n",
    "swe_long_f13 = tb_19H_long - tb_37H_long "
   ]
  },
  {
   "cell_type": "code",
   "execution_count": 35,
   "metadata": {},
   "outputs": [],
   "source": [
    "# Prep the data!\n",
    "filename_19H = \"all_days_2002_19H_F15.nc\"\n",
    "fid_19H = Dataset(filename_19H, \"r\", format = \"NETCDF4\")\n",
    "\n",
    "filename = \"all_days_2002_37H_F15.nc\"\n",
    "fid_37H = Dataset( filename, \"r\", format=\"NETCDF4\")\n",
    "\n",
    "\n",
    "tb_19H_long = fid_19H.variables['TB'][:]\n",
    "tb_37H_long = fid_37H.variables['TB'][:]\n",
    "\n",
    "tb_37H_long = block_reduce(tb_37H_long, block_size = (1,2,2), func = np.mean)\n",
    "\n",
    "swe_long_f15 = tb_19H_long - tb_37H_long "
   ]
  },
  {
   "cell_type": "code",
   "execution_count": 36,
   "metadata": {},
   "outputs": [
    {
     "name": "stdout",
     "output_type": "stream",
     "text": [
      "Number of extraneous values f13: 3002.000000\n",
      "Number of extraneous values f15: 8884.000000\n"
     ]
    }
   ],
   "source": [
    "print(\"Number of extraneous values f13: %f\" %(np.sum(swe_long_f13 > 80)))\n",
    "print(\"Number of extraneous values f15: %f\" %(np.sum(swe_long_f15 > 80)))"
   ]
  },
  {
   "cell_type": "code",
   "execution_count": 37,
   "metadata": {},
   "outputs": [],
   "source": [
    "tuple_list.append((np.sum(swe_long_f13 > 80),np.sum(swe_long_f15 > 80)))\n",
    "name_list.append('F13 vs F15 \\n 2002')"
   ]
  },
  {
   "cell_type": "markdown",
   "metadata": {},
   "source": [
    "## 2003 (F13 vs F15, F15 Surpasses F15 in accuracy)"
   ]
  },
  {
   "cell_type": "code",
   "execution_count": 38,
   "metadata": {},
   "outputs": [],
   "source": [
    "# Prep the data!\n",
    "filename_19H = \"all_days_2003_19H_F13.nc\"\n",
    "fid_19H = Dataset(filename_19H, \"r\", format = \"NETCDF4\")\n",
    "\n",
    "filename = \"all_days_2003_37H_F13.nc\"\n",
    "fid_37H = Dataset( filename, \"r\", format=\"NETCDF4\")\n",
    "\n",
    "\n",
    "tb_19H_long = fid_19H.variables['TB'][:]\n",
    "tb_37H_long = fid_37H.variables['TB'][:]\n",
    "\n",
    "tb_37H_long = block_reduce(tb_37H_long, block_size = (1,2,2), func = np.mean)\n",
    "\n",
    "swe_long_f13 = tb_19H_long - tb_37H_long "
   ]
  },
  {
   "cell_type": "code",
   "execution_count": 39,
   "metadata": {},
   "outputs": [],
   "source": [
    "# Prep the data!\n",
    "filename_19H = \"all_days_2003_19H_F15.nc\"\n",
    "fid_19H = Dataset(filename_19H, \"r\", format = \"NETCDF4\")\n",
    "\n",
    "filename = \"all_days_2003_37H_F15.nc\"\n",
    "fid_37H = Dataset( filename, \"r\", format=\"NETCDF4\")\n",
    "\n",
    "\n",
    "tb_19H_long = fid_19H.variables['TB'][:]\n",
    "tb_37H_long = fid_37H.variables['TB'][:]\n",
    "\n",
    "tb_37H_long = block_reduce(tb_37H_long, block_size = (1,2,2), func = np.mean)\n",
    "\n",
    "swe_long_f15 = tb_19H_long - tb_37H_long "
   ]
  },
  {
   "cell_type": "code",
   "execution_count": 40,
   "metadata": {},
   "outputs": [
    {
     "name": "stdout",
     "output_type": "stream",
     "text": [
      "Number of extraneous values f13: 7798.000000\n",
      "Number of extraneous values f15: 4259.000000\n"
     ]
    }
   ],
   "source": [
    "print(\"Number of extraneous values f13: %f\" %(np.sum(swe_long_f13 > 80)))\n",
    "print(\"Number of extraneous values f15: %f\" %(np.sum(swe_long_f15 > 80)))"
   ]
  },
  {
   "cell_type": "code",
   "execution_count": 41,
   "metadata": {},
   "outputs": [],
   "source": [
    "tuple_list.append((np.sum(swe_long_f13 > 80),np.sum(swe_long_f15 > 80)))\n",
    "name_list.append('F13 vs F15 \\n 2003')"
   ]
  },
  {
   "cell_type": "markdown",
   "metadata": {},
   "source": [
    "## 2004 (F13 vs F15)"
   ]
  },
  {
   "cell_type": "code",
   "execution_count": 42,
   "metadata": {},
   "outputs": [],
   "source": [
    "# Prep the data!\n",
    "filename_19H = \"all_days_2004_19H_F13.nc\"\n",
    "fid_19H = Dataset(filename_19H, \"r\", format = \"NETCDF4\")\n",
    "\n",
    "filename = \"all_days_2004_37H_F13.nc\"\n",
    "fid_37H = Dataset( filename, \"r\", format=\"NETCDF4\")\n",
    "\n",
    "\n",
    "tb_19H_long = fid_19H.variables['TB'][:]\n",
    "tb_37H_long = fid_37H.variables['TB'][:]\n",
    "\n",
    "tb_37H_long = block_reduce(tb_37H_long, block_size = (1,2,2), func = np.mean)\n",
    "\n",
    "swe_long_f13 = tb_19H_long - tb_37H_long "
   ]
  },
  {
   "cell_type": "code",
   "execution_count": 43,
   "metadata": {},
   "outputs": [],
   "source": [
    "# Prep the data!\n",
    "filename_19H = \"all_days_2004_19H_F15.nc\"\n",
    "fid_19H = Dataset(filename_19H, \"r\", format = \"NETCDF4\")\n",
    "\n",
    "filename = \"all_days_2004_37H_F15.nc\"\n",
    "fid_37H = Dataset( filename, \"r\", format=\"NETCDF4\")\n",
    "\n",
    "\n",
    "tb_19H_long = fid_19H.variables['TB'][:]\n",
    "tb_37H_long = fid_37H.variables['TB'][:]\n",
    "\n",
    "tb_37H_long = block_reduce(tb_37H_long, block_size = (1,2,2), func = np.mean)\n",
    "\n",
    "swe_long_f15 = tb_19H_long - tb_37H_long "
   ]
  },
  {
   "cell_type": "code",
   "execution_count": 44,
   "metadata": {},
   "outputs": [
    {
     "name": "stdout",
     "output_type": "stream",
     "text": [
      "Number of extraneous values f13: 7912.000000\n",
      "Number of extraneous values f15: 5354.000000\n"
     ]
    }
   ],
   "source": [
    "print(\"Number of extraneous values f13: %f\" %(np.sum(swe_long_f13 > 80)))\n",
    "print(\"Number of extraneous values f15: %f\" %(np.sum(swe_long_f15 > 80)))"
   ]
  },
  {
   "cell_type": "code",
   "execution_count": 45,
   "metadata": {},
   "outputs": [],
   "source": [
    "tuple_list.append((np.sum(swe_long_f13 > 80),np.sum(swe_long_f15 > 80)))\n",
    "name_list.append('F13 vs F15 \\n 2004')"
   ]
  },
  {
   "cell_type": "markdown",
   "metadata": {},
   "source": [
    "## 2005 (Last year before F16 comes online, check F13 still more stable than F15)\n",
    "## F15 is now more accurate (started in 2004)"
   ]
  },
  {
   "cell_type": "code",
   "execution_count": 46,
   "metadata": {},
   "outputs": [],
   "source": [
    "# Prep the data!\n",
    "filename_19H = \"all_days_2005_19H_F13.nc\"\n",
    "fid_19H = Dataset(filename_19H, \"r\", format = \"NETCDF4\")\n",
    "\n",
    "filename = \"all_days_2005_37H_F13.nc\"\n",
    "fid_37H = Dataset( filename, \"r\", format=\"NETCDF4\")\n",
    "\n",
    "\n",
    "tb_19H_long = fid_19H.variables['TB'][:]\n",
    "tb_37H_long = fid_37H.variables['TB'][:]\n",
    "\n",
    "tb_37H_long = block_reduce(tb_37H_long, block_size = (1,2,2), func = np.mean)\n",
    "\n",
    "swe_long_f13 = tb_19H_long - tb_37H_long "
   ]
  },
  {
   "cell_type": "code",
   "execution_count": 47,
   "metadata": {},
   "outputs": [],
   "source": [
    "# Prep the data!\n",
    "filename_19H = \"all_days_2005_19H_F15.nc\"\n",
    "fid_19H = Dataset(filename_19H, \"r\", format = \"NETCDF4\")\n",
    "\n",
    "filename = \"all_days_2005_37H_F15.nc\"\n",
    "fid_37H = Dataset( filename, \"r\", format=\"NETCDF4\")\n",
    "\n",
    "\n",
    "tb_19H_long = fid_19H.variables['TB'][:]\n",
    "tb_37H_long = fid_37H.variables['TB'][:]\n",
    "\n",
    "tb_37H_long = block_reduce(tb_37H_long, block_size = (1,2,2), func = np.mean)\n",
    "\n",
    "swe_long_f15 = tb_19H_long - tb_37H_long "
   ]
  },
  {
   "cell_type": "code",
   "execution_count": 48,
   "metadata": {},
   "outputs": [
    {
     "name": "stdout",
     "output_type": "stream",
     "text": [
      "Number of extraneous values f13: 9355.000000\n",
      "Number of extraneous values f15: 4849.000000\n"
     ]
    }
   ],
   "source": [
    "print(\"Number of extraneous values f13: %f\" %(np.sum(swe_long_f13 > 80)))\n",
    "print(\"Number of extraneous values f15: %f\" %(np.sum(swe_long_f15 > 80)))"
   ]
  },
  {
   "cell_type": "code",
   "execution_count": 49,
   "metadata": {},
   "outputs": [],
   "source": [
    "tuple_list.append((np.sum(swe_long_f13 > 80),np.sum(swe_long_f15 > 80)))\n",
    "name_list.append('F13 vs F15 \\n 2005')"
   ]
  },
  {
   "cell_type": "markdown",
   "metadata": {},
   "source": [
    "## 2006 (F16 Comes Online)"
   ]
  },
  {
   "cell_type": "code",
   "execution_count": 50,
   "metadata": {},
   "outputs": [],
   "source": [
    "# Prep the data!\n",
    "filename_19H = \"all_days_2006_19H_F15.nc\"\n",
    "fid_19H = Dataset(filename_19H, \"r\", format = \"NETCDF4\")\n",
    "\n",
    "filename = \"all_days_2006_37H_F15.nc\"\n",
    "fid_37H = Dataset( filename, \"r\", format=\"NETCDF4\")\n",
    "\n",
    "\n",
    "tb_19H_long = fid_19H.variables['TB'][:]\n",
    "tb_37H_long = fid_37H.variables['TB'][:]\n",
    "\n",
    "tb_37H_long = block_reduce(tb_37H_long, block_size = (1,2,2), func = np.mean)\n",
    "\n",
    "swe_long_f15 = tb_19H_long - tb_37H_long "
   ]
  },
  {
   "cell_type": "code",
   "execution_count": 51,
   "metadata": {},
   "outputs": [],
   "source": [
    "# Prep the data!\n",
    "filename_19H = \"all_days_2006_19H_F16.nc\"\n",
    "fid_19H = Dataset(filename_19H, \"r\", format = \"NETCDF4\")\n",
    "\n",
    "filename = \"all_days_2006_37H_F16.nc\"\n",
    "fid_37H = Dataset( filename, \"r\", format=\"NETCDF4\")\n",
    "\n",
    "\n",
    "tb_19H_long = fid_19H.variables['TB'][:]\n",
    "tb_37H_long = fid_37H.variables['TB'][:]\n",
    "\n",
    "tb_37H_long = block_reduce(tb_37H_long, block_size = (1,2,2), func = np.mean)\n",
    "\n",
    "swe_long_f16 = tb_19H_long - tb_37H_long "
   ]
  },
  {
   "cell_type": "code",
   "execution_count": 52,
   "metadata": {},
   "outputs": [
    {
     "name": "stdout",
     "output_type": "stream",
     "text": [
      "Number of extraneous values f15: 4514.000000\n",
      "Number of extraneous values f16: 8099.000000\n"
     ]
    }
   ],
   "source": [
    "print(\"Number of extraneous values f15: %f\" %(np.sum(swe_long_f15 > 80)))\n",
    "print(\"Number of extraneous values f16: %f\" %(np.sum(swe_long_f16 > 80)))"
   ]
  },
  {
   "cell_type": "code",
   "execution_count": 53,
   "metadata": {},
   "outputs": [],
   "source": [
    "tuple_list.append((np.sum(swe_long_f15 > 80),np.sum(swe_long_f16 > 80)))\n",
    "name_list.append('F15 vs F16 \\n 2006')"
   ]
  },
  {
   "cell_type": "markdown",
   "metadata": {},
   "source": [
    "## 2007 (F16 vs F15)\n",
    "## F15 still only slightly better!"
   ]
  },
  {
   "cell_type": "code",
   "execution_count": 54,
   "metadata": {},
   "outputs": [],
   "source": [
    "# Prep the data!\n",
    "filename_19H = \"all_days_2007_19H_F15.nc\"\n",
    "fid_19H = Dataset(filename_19H, \"r\", format = \"NETCDF4\")\n",
    "\n",
    "filename = \"all_days_2007_37H_F15.nc\"\n",
    "fid_37H = Dataset( filename, \"r\", format=\"NETCDF4\")\n",
    "\n",
    "\n",
    "tb_19H_long = fid_19H.variables['TB'][:]\n",
    "tb_37H_long = fid_37H.variables['TB'][:]\n",
    "\n",
    "tb_37H_long = block_reduce(tb_37H_long, block_size = (1,2,2), func = np.mean)\n",
    "\n",
    "swe_long_f15 = tb_19H_long - tb_37H_long "
   ]
  },
  {
   "cell_type": "code",
   "execution_count": 55,
   "metadata": {},
   "outputs": [],
   "source": [
    "# Prep the data!\n",
    "filename_19H = \"all_days_2007_19H_F16.nc\"\n",
    "fid_19H = Dataset(filename_19H, \"r\", format = \"NETCDF4\")\n",
    "\n",
    "filename = \"all_days_2007_37H_F16.nc\"\n",
    "fid_37H = Dataset( filename, \"r\", format=\"NETCDF4\")\n",
    "\n",
    "\n",
    "tb_19H_long = fid_19H.variables['TB'][:]\n",
    "tb_37H_long = fid_37H.variables['TB'][:]\n",
    "\n",
    "tb_37H_long = block_reduce(tb_37H_long, block_size = (1,2,2), func = np.mean)\n",
    "\n",
    "swe_long_f16 = tb_19H_long - tb_37H_long "
   ]
  },
  {
   "cell_type": "code",
   "execution_count": 56,
   "metadata": {},
   "outputs": [
    {
     "name": "stdout",
     "output_type": "stream",
     "text": [
      "Number of extraneous values f15: 6223.000000\n",
      "Number of extraneous values f16: 6576.000000\n"
     ]
    }
   ],
   "source": [
    "print(\"Number of extraneous values f15: %f\" %(np.sum(swe_long_f15 > 80)))\n",
    "print(\"Number of extraneous values f16: %f\" %(np.sum(swe_long_f16 > 80)))"
   ]
  },
  {
   "cell_type": "code",
   "execution_count": 57,
   "metadata": {},
   "outputs": [],
   "source": [
    "tuple_list.append((np.sum(swe_long_f15 > 80),np.sum(swe_long_f16 > 80)))\n",
    "name_list.append('F15 vs F16 \\n 2007')"
   ]
  },
  {
   "cell_type": "markdown",
   "metadata": {},
   "source": [
    "## 2008 (F15 vs F16)\n",
    "## F16 Better "
   ]
  },
  {
   "cell_type": "code",
   "execution_count": 58,
   "metadata": {},
   "outputs": [],
   "source": [
    "# Prep the data!\n",
    "filename_19H = \"all_days_2008_19H_F15.nc\"\n",
    "fid_19H = Dataset(filename_19H, \"r\", format = \"NETCDF4\")\n",
    "\n",
    "filename = \"all_days_2008_37H_F15.nc\"\n",
    "fid_37H = Dataset( filename, \"r\", format=\"NETCDF4\")\n",
    "\n",
    "\n",
    "tb_19H_long = fid_19H.variables['TB'][:]\n",
    "tb_37H_long = fid_37H.variables['TB'][:]\n",
    "\n",
    "tb_37H_long = block_reduce(tb_37H_long, block_size = (1,2,2), func = np.mean)\n",
    "\n",
    "swe_long_f15 = tb_19H_long - tb_37H_long "
   ]
  },
  {
   "cell_type": "code",
   "execution_count": 59,
   "metadata": {},
   "outputs": [],
   "source": [
    "# Prep the data!\n",
    "filename_19H = \"all_days_2008_19H_F16.nc\"\n",
    "fid_19H = Dataset(filename_19H, \"r\", format = \"NETCDF4\")\n",
    "\n",
    "filename = \"all_days_2008_37H_F16.nc\"\n",
    "fid_37H = Dataset( filename, \"r\", format=\"NETCDF4\")\n",
    "\n",
    "\n",
    "tb_19H_long = fid_19H.variables['TB'][:]\n",
    "tb_37H_long = fid_37H.variables['TB'][:]\n",
    "\n",
    "tb_37H_long = block_reduce(tb_37H_long, block_size = (1,2,2), func = np.mean)\n",
    "\n",
    "swe_long_f16 = tb_19H_long - tb_37H_long "
   ]
  },
  {
   "cell_type": "code",
   "execution_count": 60,
   "metadata": {},
   "outputs": [
    {
     "name": "stdout",
     "output_type": "stream",
     "text": [
      "Number of extraneous values f15: 9342.000000\n",
      "Number of extraneous values f16: 5038.000000\n"
     ]
    }
   ],
   "source": [
    "print(\"Number of extraneous values f15: %f\" %(np.sum(swe_long_f15 > 80)))\n",
    "print(\"Number of extraneous values f16: %f\" %(np.sum(swe_long_f16 > 80)))"
   ]
  },
  {
   "cell_type": "code",
   "execution_count": 61,
   "metadata": {},
   "outputs": [],
   "source": [
    "tuple_list.append((np.sum(swe_long_f15 > 80),np.sum(swe_long_f16 > 80)))\n",
    "name_list.append('F15 vs F16 \\n 2008')"
   ]
  },
  {
   "cell_type": "markdown",
   "metadata": {},
   "source": [
    "## 2009 (F16 vs F17) \n",
    "## F17 comes online (much more accurate than F16)"
   ]
  },
  {
   "cell_type": "code",
   "execution_count": 62,
   "metadata": {},
   "outputs": [],
   "source": [
    "# Prep the data!\n",
    "filename_19H = \"all_days_2009_19H_F16.nc\"\n",
    "fid_19H = Dataset(filename_19H, \"r\", format = \"NETCDF4\")\n",
    "\n",
    "filename = \"all_days_2009_37H_F16.nc\"\n",
    "fid_37H = Dataset( filename, \"r\", format=\"NETCDF4\")\n",
    "\n",
    "\n",
    "tb_19H_long = fid_19H.variables['TB'][:]\n",
    "tb_37H_long = fid_37H.variables['TB'][:]\n",
    "\n",
    "tb_37H_long = block_reduce(tb_37H_long, block_size = (1,2,2), func = np.mean)\n",
    "\n",
    "swe_long_f16 = tb_19H_long - tb_37H_long "
   ]
  },
  {
   "cell_type": "code",
   "execution_count": 63,
   "metadata": {},
   "outputs": [],
   "source": [
    "# Prep the data!\n",
    "filename_19H = \"all_days_2009_19H_F17.nc\"\n",
    "fid_19H = Dataset(filename_19H, \"r\", format = \"NETCDF4\")\n",
    "\n",
    "filename = \"all_days_2009_37H_F17.nc\"\n",
    "fid_37H = Dataset( filename, \"r\", format=\"NETCDF4\")\n",
    "\n",
    "\n",
    "tb_19H_long = fid_19H.variables['TB'][:]\n",
    "tb_37H_long = fid_37H.variables['TB'][:]\n",
    "\n",
    "tb_37H_long = block_reduce(tb_37H_long, block_size = (1,2,2), func = np.mean)\n",
    "\n",
    "swe_long_f17 = tb_19H_long - tb_37H_long "
   ]
  },
  {
   "cell_type": "code",
   "execution_count": 64,
   "metadata": {},
   "outputs": [
    {
     "name": "stdout",
     "output_type": "stream",
     "text": [
      "Number of extraneous values f16: 3757.000000\n",
      "Number of extraneous values f17: 1884.000000\n"
     ]
    }
   ],
   "source": [
    "print(\"Number of extraneous values f16: %f\" %(np.sum(swe_long_f16 > 80)))\n",
    "print(\"Number of extraneous values f17: %f\" %(np.sum(swe_long_f17 > 80)))"
   ]
  },
  {
   "cell_type": "code",
   "execution_count": 65,
   "metadata": {},
   "outputs": [],
   "source": [
    "tuple_list.append((np.sum(swe_long_f16 > 80),np.sum(swe_long_f17 > 80)))\n",
    "name_list.append('F16 vs F17 \\n 2009')"
   ]
  },
  {
   "cell_type": "markdown",
   "metadata": {},
   "source": [
    "## 2011 (F18 comes online)\n",
    "## F17 still more accurate"
   ]
  },
  {
   "cell_type": "code",
   "execution_count": 66,
   "metadata": {},
   "outputs": [],
   "source": [
    "# Prep the data!\n",
    "filename_19H = \"all_days_2011_19H_F17.nc\"\n",
    "fid_19H = Dataset(filename_19H, \"r\", format = \"NETCDF4\")\n",
    "\n",
    "filename = \"all_days_2011_37H_F17.nc\"\n",
    "fid_37H = Dataset( filename, \"r\", format=\"NETCDF4\")\n",
    "\n",
    "\n",
    "tb_19H_long = fid_19H.variables['TB'][:]\n",
    "tb_37H_long = fid_37H.variables['TB'][:]\n",
    "\n",
    "tb_37H_long = block_reduce(tb_37H_long, block_size = (1,2,2), func = np.mean)\n",
    "\n",
    "swe_long_f17 = tb_19H_long - tb_37H_long "
   ]
  },
  {
   "cell_type": "code",
   "execution_count": 67,
   "metadata": {},
   "outputs": [],
   "source": [
    "# Prep the data!\n",
    "filename_19H = \"all_days_2011_19H_F18.nc\"\n",
    "fid_19H = Dataset(filename_19H, \"r\", format = \"NETCDF4\")\n",
    "\n",
    "filename = \"all_days_2011_37H_F18.nc\"\n",
    "fid_37H = Dataset( filename, \"r\", format=\"NETCDF4\")\n",
    "\n",
    "\n",
    "tb_19H_long = fid_19H.variables['TB'][:]\n",
    "tb_37H_long = fid_37H.variables['TB'][:]\n",
    "\n",
    "tb_37H_long = block_reduce(tb_37H_long, block_size = (1,2,2), func = np.mean)\n",
    "\n",
    "swe_long_f18 = tb_19H_long - tb_37H_long "
   ]
  },
  {
   "cell_type": "code",
   "execution_count": 68,
   "metadata": {},
   "outputs": [
    {
     "name": "stdout",
     "output_type": "stream",
     "text": [
      "Number of extraneous values f17: 657.000000\n",
      "Number of extraneous values f18: 2152.000000\n"
     ]
    }
   ],
   "source": [
    "print(\"Number of extraneous values f17: %f\" %(np.sum(swe_long_f17 > 80)))\n",
    "print(\"Number of extraneous values f18: %f\" %(np.sum(swe_long_f18 > 80)))"
   ]
  },
  {
   "cell_type": "code",
   "execution_count": 69,
   "metadata": {},
   "outputs": [],
   "source": [
    "tuple_list.append((np.sum(swe_long_f17 > 80),np.sum(swe_long_f18 > 80)))\n",
    "name_list.append('F17 vs F18 \\n 2011')"
   ]
  },
  {
   "cell_type": "markdown",
   "metadata": {
    "collapsed": true
   },
   "source": [
    "## 2012 (F17 still vs F18)"
   ]
  },
  {
   "cell_type": "code",
   "execution_count": 70,
   "metadata": {},
   "outputs": [],
   "source": [
    "# Prep the data!\n",
    "filename_19H = \"all_days_2012_19H_F17.nc\"\n",
    "fid_19H = Dataset(filename_19H, \"r\", format = \"NETCDF4\")\n",
    "\n",
    "filename = \"all_days_2012_37H_F17.nc\"\n",
    "fid_37H = Dataset( filename, \"r\", format=\"NETCDF4\")\n",
    "\n",
    "\n",
    "tb_19H_long = fid_19H.variables['TB'][:]\n",
    "tb_37H_long = fid_37H.variables['TB'][:]\n",
    "\n",
    "tb_37H_long = block_reduce(tb_37H_long, block_size = (1,2,2), func = np.mean)\n",
    "\n",
    "swe_long_f17 = tb_19H_long - tb_37H_long "
   ]
  },
  {
   "cell_type": "code",
   "execution_count": 71,
   "metadata": {},
   "outputs": [],
   "source": [
    "# Prep the data!\n",
    "filename_19H = \"all_days_2012_19H_F18.nc\"\n",
    "fid_19H = Dataset(filename_19H, \"r\", format = \"NETCDF4\")\n",
    "\n",
    "filename = \"all_days_2012_37H_F18.nc\"\n",
    "fid_37H = Dataset( filename, \"r\", format=\"NETCDF4\")\n",
    "\n",
    "\n",
    "tb_19H_long = fid_19H.variables['TB'][:]\n",
    "tb_37H_long = fid_37H.variables['TB'][:]\n",
    "\n",
    "tb_37H_long = block_reduce(tb_37H_long, block_size = (1,2,2), func = np.mean)\n",
    "\n",
    "swe_long_f18 = tb_19H_long - tb_37H_long "
   ]
  },
  {
   "cell_type": "code",
   "execution_count": 72,
   "metadata": {},
   "outputs": [
    {
     "name": "stdout",
     "output_type": "stream",
     "text": [
      "Number of extraneous values f17: 2747.000000\n",
      "Number of extraneous values f18: 2359.000000\n"
     ]
    }
   ],
   "source": [
    "print(\"Number of extraneous values f17: %f\" %(np.sum(swe_long_f17 > 80)))\n",
    "print(\"Number of extraneous values f18: %f\" %(np.sum(swe_long_f18 > 80)))"
   ]
  },
  {
   "cell_type": "code",
   "execution_count": 73,
   "metadata": {},
   "outputs": [],
   "source": [
    "tuple_list.append((np.sum(swe_long_f17 > 80),np.sum(swe_long_f18 > 80)))\n",
    "name_list.append('F17 vs F18 \\n 2012')"
   ]
  },
  {
   "cell_type": "markdown",
   "metadata": {
    "collapsed": true
   },
   "source": [
    "## 2013 (F17 vs F18) \n",
    "### F18 was better in 2012, likely to be better here too"
   ]
  },
  {
   "cell_type": "code",
   "execution_count": 74,
   "metadata": {},
   "outputs": [],
   "source": [
    "# Prep the data!\n",
    "filename_19H = \"all_days_2013_19H_F17.nc\"\n",
    "fid_19H = Dataset(filename_19H, \"r\", format = \"NETCDF4\")\n",
    "\n",
    "filename = \"all_days_2013_37H_F17.nc\"\n",
    "fid_37H = Dataset( filename, \"r\", format=\"NETCDF4\")\n",
    "\n",
    "\n",
    "tb_19H_long = fid_19H.variables['TB'][:]\n",
    "tb_37H_long = fid_37H.variables['TB'][:]\n",
    "\n",
    "tb_37H_long = block_reduce(tb_37H_long, block_size = (1,2,2), func = np.mean)\n",
    "\n",
    "swe_long_f17 = tb_19H_long - tb_37H_long "
   ]
  },
  {
   "cell_type": "code",
   "execution_count": 75,
   "metadata": {},
   "outputs": [],
   "source": [
    "# Prep the data!\n",
    "filename_19H = \"all_days_2013_19H_F18.nc\"\n",
    "fid_19H = Dataset(filename_19H, \"r\", format = \"NETCDF4\")\n",
    "\n",
    "filename = \"all_days_2013_37H_F18.nc\"\n",
    "fid_37H = Dataset( filename, \"r\", format=\"NETCDF4\")\n",
    "\n",
    "\n",
    "tb_19H_long = fid_19H.variables['TB'][:]\n",
    "tb_37H_long = fid_37H.variables['TB'][:]\n",
    "\n",
    "tb_37H_long = block_reduce(tb_37H_long, block_size = (1,2,2), func = np.mean)\n",
    "\n",
    "swe_long_f18 = tb_19H_long - tb_37H_long "
   ]
  },
  {
   "cell_type": "code",
   "execution_count": 76,
   "metadata": {},
   "outputs": [
    {
     "name": "stdout",
     "output_type": "stream",
     "text": [
      "Number of extraneous values f17: 3279.000000\n",
      "Number of extraneous values f18: 4932.000000\n"
     ]
    }
   ],
   "source": [
    "print(\"Number of extraneous values f17: %f\" %(np.sum(swe_long_f17 > 80)))\n",
    "print(\"Number of extraneous values f18: %f\" %(np.sum(swe_long_f18 > 80)))"
   ]
  },
  {
   "cell_type": "code",
   "execution_count": 77,
   "metadata": {},
   "outputs": [],
   "source": [
    "tuple_list.append((np.sum(swe_long_f17 > 80),np.sum(swe_long_f18 > 80)))\n",
    "name_list.append('F17 vs F18 \\n 2013')"
   ]
  },
  {
   "cell_type": "markdown",
   "metadata": {},
   "source": [
    "## 2014 (F17 vs F18)\n",
    "## Checking F18 still better "
   ]
  },
  {
   "cell_type": "code",
   "execution_count": 78,
   "metadata": {},
   "outputs": [],
   "source": [
    "# Prep the data!\n",
    "filename_19H = \"all_days_2014_19H_F17.nc\"\n",
    "fid_19H = Dataset(filename_19H, \"r\", format = \"NETCDF4\")\n",
    "\n",
    "filename = \"all_days_2014_37H_F17.nc\"\n",
    "fid_37H = Dataset( filename, \"r\", format=\"NETCDF4\")\n",
    "\n",
    "\n",
    "tb_19H_long = fid_19H.variables['TB'][:]\n",
    "tb_37H_long = fid_37H.variables['TB'][:]\n",
    "\n",
    "tb_37H_long = block_reduce(tb_37H_long, block_size = (1,2,2), func = np.mean)\n",
    "\n",
    "swe_long_f17 = tb_19H_long - tb_37H_long "
   ]
  },
  {
   "cell_type": "code",
   "execution_count": 79,
   "metadata": {},
   "outputs": [],
   "source": [
    "# Prep the data!\n",
    "filename_19H = \"all_days_2014_19H_F18.nc\"\n",
    "fid_19H = Dataset(filename_19H, \"r\", format = \"NETCDF4\")\n",
    "\n",
    "filename = \"all_days_2014_37H_F18.nc\"\n",
    "fid_37H = Dataset( filename, \"r\", format=\"NETCDF4\")\n",
    "\n",
    "\n",
    "tb_19H_long = fid_19H.variables['TB'][:]\n",
    "tb_37H_long = fid_37H.variables['TB'][:]\n",
    "\n",
    "tb_37H_long = block_reduce(tb_37H_long, block_size = (1,2,2), func = np.mean)\n",
    "\n",
    "swe_long_f18 = tb_19H_long - tb_37H_long "
   ]
  },
  {
   "cell_type": "code",
   "execution_count": 80,
   "metadata": {},
   "outputs": [
    {
     "name": "stdout",
     "output_type": "stream",
     "text": [
      "Number of extraneous values f17: 28240.000000\n",
      "Number of extraneous values f18: 4085.000000\n"
     ]
    }
   ],
   "source": [
    "print(\"Number of extraneous values f17: %f\" %(np.sum(swe_long_f17 > 80)))\n",
    "print(\"Number of extraneous values f18: %f\" %(np.sum(swe_long_f18 > 80)))"
   ]
  },
  {
   "cell_type": "code",
   "execution_count": 81,
   "metadata": {},
   "outputs": [],
   "source": [
    "tuple_list.append((np.sum(swe_long_f17 > 80),np.sum(swe_long_f18 > 80)))\n",
    "name_list.append('F17 vs F18 \\n 2014')"
   ]
  },
  {
   "cell_type": "markdown",
   "metadata": {},
   "source": [
    "## 2015 (F18 vs F19)\n",
    "## F19 comes online "
   ]
  },
  {
   "cell_type": "code",
   "execution_count": 82,
   "metadata": {},
   "outputs": [],
   "source": [
    "# Prep the data!\n",
    "filename_19H = \"all_days_2015_19H_F18.nc\"\n",
    "fid_19H = Dataset(filename_19H, \"r\", format = \"NETCDF4\")\n",
    "\n",
    "filename = \"all_days_2015_37H_F18.nc\"\n",
    "fid_37H = Dataset( filename, \"r\", format=\"NETCDF4\")\n",
    "\n",
    "\n",
    "tb_19H_long = fid_19H.variables['TB'][:]\n",
    "tb_37H_long = fid_37H.variables['TB'][:]\n",
    "\n",
    "tb_37H_long = block_reduce(tb_37H_long, block_size = (1,2,2), func = np.mean)\n",
    "\n",
    "swe_long_f18 = tb_19H_long - tb_37H_long "
   ]
  },
  {
   "cell_type": "code",
   "execution_count": 83,
   "metadata": {},
   "outputs": [],
   "source": [
    "# Prep the data!\n",
    "filename_19H = \"all_days_2015_19H_F19.nc\"\n",
    "fid_19H = Dataset(filename_19H, \"r\", format = \"NETCDF4\")\n",
    "\n",
    "filename = \"all_days_2015_37H_F19.nc\"\n",
    "fid_37H = Dataset( filename, \"r\", format=\"NETCDF4\")\n",
    "\n",
    "\n",
    "tb_19H_long = fid_19H.variables['TB'][:]\n",
    "tb_37H_long = fid_37H.variables['TB'][:]\n",
    "\n",
    "tb_37H_long = block_reduce(tb_37H_long, block_size = (1,2,2), func = np.mean)\n",
    "\n",
    "swe_long_f19 = tb_19H_long - tb_37H_long "
   ]
  },
  {
   "cell_type": "code",
   "execution_count": 84,
   "metadata": {},
   "outputs": [
    {
     "name": "stdout",
     "output_type": "stream",
     "text": [
      "Number of extraneous values f18: 5166.000000\n",
      "Number of extraneous values f19: 2534.000000\n"
     ]
    }
   ],
   "source": [
    "print(\"Number of extraneous values f18: %f\" %(np.sum(swe_long_f18 > 80)))\n",
    "print(\"Number of extraneous values f19: %f\" %(np.sum(swe_long_f19 > 80)))"
   ]
  },
  {
   "cell_type": "code",
   "execution_count": 85,
   "metadata": {},
   "outputs": [],
   "source": [
    "tuple_list.append((np.sum(swe_long_f18 > 80),np.sum(swe_long_f19 > 80)))\n",
    "name_list.append('F18 vs F19 \\n 2015')"
   ]
  },
  {
   "cell_type": "code",
   "execution_count": 86,
   "metadata": {},
   "outputs": [
    {
     "data": {
      "text/plain": [
       "(365, 94, 244)"
      ]
     },
     "execution_count": 86,
     "metadata": {},
     "output_type": "execute_result"
    }
   ],
   "source": [
    "np.shape(swe_long_f18)"
   ]
  },
  {
   "cell_type": "markdown",
   "metadata": {},
   "source": [
    "## Plot Histogram of sensors:"
   ]
  },
  {
   "cell_type": "code",
   "execution_count": 87,
   "metadata": {},
   "outputs": [
    {
     "name": "stdout",
     "output_type": "stream",
     "text": [
      "[(73846, 53460), (99998, 39937), (7816, 28127), (8897, 200419), (4592, 208560), (3458, 8404), (3002, 8884), (7798, 4259), (7912, 5354), (9355, 4849), (4514, 8099), (6223, 6576), (9342, 5038), (3757, 1884), (657, 2152), (2747, 2359), (3279, 4932), (28240, 4085), (5166, 2534)]\n"
     ]
    }
   ],
   "source": [
    "print(tuple_list)"
   ]
  },
  {
   "cell_type": "code",
   "execution_count": 102,
   "metadata": {},
   "outputs": [
    {
     "data": {
      "image/png": "[encoded data removed]",
      "text/plain": [
       "<Figure size 1008x576 with 1 Axes>"
      ]
     },
     "metadata": {},
     "output_type": "display_data"
    }
   ],
   "source": [
    "os.chdir(path)\n",
    "fig, ax = plt.subplots(1,1, figsize = (14, 8))\n",
    "x = np.arange(len(name_list))\n",
    "for i in range(len(name_list)):\n",
    "    y = tuple_list[i]\n",
    "    ax.bar(x[i]-.4, y[0], width = .4, align = 'center', color = 'c', zorder = 3)\n",
    "    ax.bar(x[i], y[1], width =.4, align = 'center', color = 'm', zorder = 3)\n",
    "ax.set_xticks(np.arange(len(name_list)))\n",
    "ax.set_xticklabels(name_list, rotation = 45)\n",
    "ax.grid(alpha = .8, color = 'black')\n",
    "ax.set_title('Count of Extraneous Spikes, By Sensor | 1992 - 2016',fontsize = 18)\n",
    "ax.set_ylabel('Number of Spikes',fontsize = 16)\n",
    "ax.set_xlabel('Sensors being compared', fontsize = 16)\n",
    "plt.tight_layout()\n",
    "fig.savefig('sensor.png', transparent=True)"
   ]
  },
  {
   "cell_type": "code",
   "execution_count": 89,
   "metadata": {},
   "outputs": [
    {
     "data": {
      "text/plain": [
       "(365, 94, 244)"
      ]
     },
     "execution_count": 89,
     "metadata": {},
     "output_type": "execute_result"
    }
   ],
   "source": [
    "np.shape(swe_long_f19)"
   ]
  },
  {
   "cell_type": "markdown",
   "metadata": {
    "collapsed": true
   },
   "source": [
    "### There are over 8 million pixels per year in this study area subset "
   ]
  },
  {
   "cell_type": "code",
   "execution_count": null,
   "metadata": {},
   "outputs": [],
   "source": []
  },
  {
   "cell_type": "code",
   "execution_count": null,
   "metadata": {},
   "outputs": [],
   "source": []
  },
  {
   "cell_type": "code",
   "execution_count": null,
   "metadata": {},
   "outputs": [],
   "source": []
  },
  {
   "cell_type": "code",
   "execution_count": null,
   "metadata": {},
   "outputs": [],
   "source": []
  },
  {
   "cell_type": "code",
   "execution_count": null,
   "metadata": {},
   "outputs": [],
   "source": []
  }
 ],
 "metadata": {
  "kernelspec": {
   "display_name": "gis",
   "language": "python",
   "name": "gis"
  },
  "language_info": {
   "codemirror_mode": {
    "name": "ipython",
    "version": 3
   },
   "file_extension": ".py",
   "mimetype": "text/x-python",
   "name": "python",
   "nbconvert_exporter": "python",
   "pygments_lexer": "ipython3",
   "version": "3.6.5"
  }
 },
 "nbformat": 4,
 "nbformat_minor": 2
}

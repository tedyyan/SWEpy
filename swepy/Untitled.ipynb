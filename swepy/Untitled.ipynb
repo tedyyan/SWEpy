{
 "cells": [
  {
   "cell_type": "code",
   "execution_count": 1,
   "metadata": {},
   "outputs": [],
   "source": [
    "from swepy import swepy\n",
    "import datetime\n",
    "import os"
   ]
  },
  {
   "cell_type": "code",
   "execution_count": 2,
   "metadata": {},
   "outputs": [],
   "source": [
    "path = os.getcwd()\n",
    "\n",
    "# upper left \n",
    "ul = [62.27, -140.17]\n",
    "# lower right \n",
    "lr =[73.64, -166.08]\n",
    "\n",
    "# Generate list of dates\n",
    "start = datetime.date(2015, 1, 1)\n",
    "end = datetime.date(2015, 1, 2)\n",
    "\n",
    "swepy = swepy(path, start, end, ul, lr)"
   ]
  },
  {
   "cell_type": "code",
   "execution_count": 3,
   "metadata": {},
   "outputs": [
    {
     "name": "stderr",
     "output_type": "stream",
     "text": [
      "14.3MB [00:00, 17.4MB/s]                            \n",
      "49.6MB [00:02, 18.2MB/s]                            \n",
      "14.3MB [00:00, 15.3MB/s]                            \n",
      "49.7MB [00:02, 18.2MB/s]                            \n"
     ]
    }
   ],
   "source": [
    "swepy.scrape()"
   ]
  },
  {
   "cell_type": "code",
   "execution_count": null,
   "metadata": {},
   "outputs": [],
   "source": []
  }
 ],
 "metadata": {
  "kernelspec": {
   "display_name": "Python (swepy_env)",
   "language": "python",
   "name": "swepy_env"
  },
  "language_info": {
   "codemirror_mode": {
    "name": "ipython",
    "version": 3
   },
   "file_extension": ".py",
   "mimetype": "text/x-python",
   "name": "python",
   "nbconvert_exporter": "python",
   "pygments_lexer": "ipython3",
   "version": "3.6.5"
  }
 },
 "nbformat": 4,
 "nbformat_minor": 2
}

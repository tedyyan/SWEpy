{
 "cells": [
  {
   "cell_type": "markdown",
   "metadata": {},
   "source": [
    "## Subsetting Code:"
   ]
  },
  {
   "cell_type": "code",
   "execution_count": 1,
   "metadata": {},
   "outputs": [],
   "source": [
    "#%pylab notebook\n",
    "import os\n",
    "import sys\n",
    "import glob\n",
    "from nco import Nco\n",
    "import ease2conv as e2\n",
    "from nco import custom as c\n",
    "nco = Nco()"
   ]
  },
  {
   "cell_type": "markdown",
   "metadata": {},
   "source": [
    "# Functions:"
   ]
  },
  {
   "cell_type": "code",
   "execution_count": null,
   "metadata": {},
   "outputs": [],
   "source": [
    "def get_xy(ll_ul, ll_lr):\n",
    "    N6 = e2.Ease2Transform(\"EASE2_N6.25km\")\n",
    "    N3 = e2.Ease2Transform(\"EASE2_N3.125km\")\n",
    "    # get x,y for 6.25\n",
    "    row, col = N6.geographic_to_grid(ll_ul[0], ll_ul[1])\n",
    "    x6ul, y6ul = N6.grid_to_map(row,col)\n",
    "    row, col = N6.geographic_to_grid(ll_lr[0], ll_lr[1])\n",
    "    x6lr, y6lr = N6.grid_to_map(row, col)\n",
    "    # get x,y for 3.125\n",
    "    row, col = N6.geographic_to_grid(ll_ul[0], ll_ul[1])\n",
    "    x3ul, y3ul = N6.grid_to_map(row, col)\n",
    "    row, col = N6.geographic_to_grid(ll_lr[0], ll_lr[1])\n",
    "    x3lr, y3lr = N6.grid_to_map(row, col)\n",
    "    list_6 = [x6ul, y6ul, x6lr, y6lr]\n",
    "    list_3 = [x3ul, y3ul, x3lr, y3lr]\n",
    "    return list_3, list_6"
   ]
  },
  {
   "cell_type": "code",
   "execution_count": null,
   "metadata": {},
   "outputs": [],
   "source": [
    "def subset(list19, list37, list3, list6, path19, path37, wget):\n",
    "    # for loop to take each file in the list and subset it's location \n",
    "    for file in list19:\n",
    "        outfile = path19 + file\n",
    "        infile = wget + file\n",
    "        opt = [\n",
    "            \"-d x,%f,%f\" % (list6[0],list6[2]),\n",
    "            \"-d y,%f,%f\" % (list6[3],list6[1]),\n",
    "            \"-v TB\"\n",
    "        ]\n",
    "        nco.ncks(input=infile, output=outfile, options=opt)\n",
    "        \n",
    "        print(\"Next in : %s\" % file)\n",
    "        print(\"Next out: %s\" % outfile)\n",
    "        # print(\"next unl out: %s\" % unlfile)\n",
    "        #subprocess.call(shlex.split(cmd), shell = False)\n",
    "        os.remove(infile)\n",
    "        print(\"Done\")\n",
    "\n",
    "\n",
    "    for file in list37: \n",
    "        outfile = path37 + file \n",
    "        infile = wget + file\n",
    "        opt = [\n",
    "            \"-d x,%f,%f\" % (list6[0],list6[2]),\n",
    "            \"-d y,%f,%f\" % (list6[3],list6[1]),\n",
    "            \"-v TB\"\n",
    "        ]\n",
    "        nco.ncks(input=infile, output=outfile, options=opt)\n",
    "        \n",
    "        print(\"Next in: %s\" % infile)\n",
    "        print(\"Next out: %s\" % outfile)\n",
    "        os.remove(infile)\n",
    "        print(\"Done\")  "
   ]
  },
  {
   "cell_type": "code",
   "execution_count": null,
   "metadata": {},
   "outputs": [],
   "source": [
    "def concatenate(path, outfile_19, outfile_37):\n",
    "    os.chdir(path)\n",
    "    os.chdir(path + '/data' + '/Subsetted_19H')\n",
    "    list19 = glob.glob('NSIDC*nc')\n",
    "    list19.sort()\n",
    "    # Concatenate 19GHz files:\n",
    "    if len(list19) != 0:\n",
    "        nco.ncrcat(input=list19, output = outfile_19, options=[\"-O\"])\n",
    "    else:\n",
    "        print(\"No 19Ghz Files to Concatenate\")\n",
    "\n",
    "    # Concatenate 37GHz files: \n",
    "    os.chdir(path + '/data' + '/Subsetted_37H')\n",
    "    list37 = glob.glob('NSIDC*nc')\n",
    "    list37.sort()\n",
    "    if len(list37) != 0:\n",
    "        nco.ncrcat(input = list37, output = outfile_37, options = [\"-O\"])\n",
    "    else: \n",
    "        print(\"No 37Ghz Files to Concatenate\")"
   ]
  },
  {
   "cell_type": "markdown",
   "metadata": {},
   "source": [
    "## Setup"
   ]
  },
  {
   "cell_type": "code",
   "execution_count": 2,
   "metadata": {},
   "outputs": [
    {
     "data": {
      "text/plain": [
       "'/Users/williamnorris/Team_GISProg'"
      ]
     },
     "execution_count": 2,
     "metadata": {},
     "output_type": "execute_result"
    }
   ],
   "source": [
    "path = os.getcwd()\n",
    "path"
   ]
  },
  {
   "cell_type": "markdown",
   "metadata": {},
   "source": [
    "## File Setup:"
   ]
  },
  {
   "cell_type": "code",
   "execution_count": 3,
   "metadata": {},
   "outputs": [],
   "source": [
    "wget = path + \"/data/wget/\"\n",
    "path19 = path + \"/data/Subsetted_19H/\"\n",
    "path37 = path + \"/data/Subsetted_37H/\"\n",
    "\n",
    "\n",
    "if not os.path.exists(wget):\\\n",
    "    os.makedirs(wget)\n",
    "if not os.path.exists(path19):\n",
    "    os.makedirs(path19)\n",
    "if not os.path.exists(path37):\n",
    "    os.makedirs(path37)"
   ]
  },
  {
   "cell_type": "markdown",
   "metadata": {},
   "source": [
    "## Input Study Area"
   ]
  },
  {
   "cell_type": "code",
   "execution_count": 5,
   "metadata": {},
   "outputs": [],
   "source": [
    "# upper left \n",
    "lat_lon_ul = [62.27, -140.17]\n",
    "\n",
    "# lower right \n",
    "lat_lon_lr =[73.64, -166.08]\n",
    "\n",
    "list_3, list_6 = get_xy(lat_lon_ul, lat_lon_lr)"
   ]
  },
  {
   "cell_type": "code",
   "execution_count": 6,
   "metadata": {},
   "outputs": [],
   "source": [
    "os.chdir(wget)\n",
    "# Make a list of the files to concatenate together for 19H\n",
    "list19 = glob.glob(\"*19H-M-SIR*\")\n",
    "# Make list for the 37GHz\n",
    "list37 = glob.glob(\"*37H-M-SIR*\")\n",
    "list19.sort()\n",
    "list37.sort()"
   ]
  },
  {
   "cell_type": "code",
   "execution_count": 8,
   "metadata": {},
   "outputs": [],
   "source": [
    "subset(list19, list37, list_3, list_6, path19, path37, wget)"
   ]
  },
  {
   "cell_type": "code",
   "execution_count": 9,
   "metadata": {},
   "outputs": [],
   "source": [
    "outfile_19 = 'all_days_19H.nc'\n",
    "outfile_37 = 'all_days_37H.nc'"
   ]
  },
  {
   "cell_type": "code",
   "execution_count": 15,
   "metadata": {},
   "outputs": [
    {
     "name": "stdout",
     "output_type": "stream",
     "text": [
      "No 19Ghz Files to Concatenate\n"
     ]
    }
   ],
   "source": [
    "concatenate(path, outfile_19, outfile_37)"
   ]
  }
 ],
 "metadata": {
  "kernelspec": {
   "display_name": "nco-python",
   "language": "python",
   "name": "nco-python"
  },
  "language_info": {
   "codemirror_mode": {
    "name": "ipython",
    "version": 3
   },
   "file_extension": ".py",
   "mimetype": "text/x-python",
   "name": "python",
   "nbconvert_exporter": "python",
   "pygments_lexer": "ipython3",
   "version": "3.6.5"
  }
 },
 "nbformat": 4,
 "nbformat_minor": 2
}

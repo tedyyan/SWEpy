{
 "cells": [
  {
   "cell_type": "markdown",
   "metadata": {},
   "source": [
    "## Subsetting Code:"
   ]
  },
  {
   "cell_type": "code",
   "execution_count": 1,
   "metadata": {},
   "outputs": [],
   "source": [
    "import os\n",
    "import glob\n",
    "from nco import Nco\n",
    "import ease2conv as e2\n",
    "from tqdm import tqdm\n",
    "nco = Nco()"
   ]
  },
  {
   "cell_type": "markdown",
   "metadata": {},
   "source": [
    "# Functions:"
   ]
  },
  {
   "cell_type": "code",
   "execution_count": 2,
   "metadata": {},
   "outputs": [],
   "source": [
    "def get_xy(ll_ul, ll_lr):\n",
    "    N6 = e2.Ease2Transform(\"EASE2_N6.25km\")\n",
    "    N3 = e2.Ease2Transform(\"EASE2_N3.125km\")\n",
    "    # get x,y for 6.25\n",
    "    row, col = N6.geographic_to_grid(ll_ul[0], ll_ul[1])\n",
    "    x6ul, y6ul = N6.grid_to_map(row,col)\n",
    "    row, col = N6.geographic_to_grid(ll_lr[0], ll_lr[1])\n",
    "    x6lr, y6lr = N6.grid_to_map(row, col)\n",
    "    # get x,y for 3.125\n",
    "    row, col = N6.geographic_to_grid(ll_ul[0], ll_ul[1])\n",
    "    x3ul, y3ul = N6.grid_to_map(row, col)\n",
    "    row, col = N6.geographic_to_grid(ll_lr[0], ll_lr[1])\n",
    "    x3lr, y3lr = N6.grid_to_map(row, col)\n",
    "    list_6 = [x6ul, y6ul, x6lr, y6lr]\n",
    "    list_3 = [x3ul, y3ul, x3lr, y3lr]\n",
    "    return list_3, list_6"
   ]
  },
  {
   "cell_type": "code",
   "execution_count": 3,
   "metadata": {},
   "outputs": [],
   "source": [
    "def subset(list19, list37, list3, list6, path19, path37, wget):\n",
    "    for file in tqdm(list19):\n",
    "        outfile = path19 + file\n",
    "        infile = wget + file\n",
    "        opt = [\n",
    "            \"-d x,%f,%f\" % (list6[0],list6[2]),\n",
    "            \"-d y,%f,%f\" % (list6[3],list6[1]),\n",
    "            \"-v TB\"\n",
    "        ]\n",
    "        nco.ncks(input=infile, output=outfile, options=opt)\n",
    "        os.remove(infile)\n",
    "\n",
    "    for file in tqdm(list37): \n",
    "        outfile = path37 + file \n",
    "        infile = wget + file\n",
    "        opt = [\n",
    "            \"-d x,%f,%f\" % (list6[0],list6[2]),\n",
    "            \"-d y,%f,%f\" % (list6[3],list6[1]),\n",
    "            \"-v TB\"\n",
    "        ]\n",
    "        nco.ncks(input=infile, output=outfile, options=opt)\n",
    "        os.remove(infile)"
   ]
  },
  {
   "cell_type": "code",
   "execution_count": 4,
   "metadata": {},
   "outputs": [],
   "source": [
    "def concatenate(path, outfile_19, outfile_37):\n",
    "    os.chdir(path)\n",
    "    os.chdir(path + '/data' + '/Subsetted_19H')\n",
    "    list19 = glob.glob('NSIDC*nc')\n",
    "    list19.sort()\n",
    "    # Concatenate 19GHz files:\n",
    "    if len(list19) != 0:\n",
    "        nco.ncrcat(input=list19, output = outfile_19, options=[\"-O\"])\n",
    "    else:\n",
    "        print(\"No 19Ghz Files to Concatenate\")\n",
    "\n",
    "    # Concatenate 37GHz files: \n",
    "    os.chdir(path + '/data' + '/Subsetted_37H')\n",
    "    list37 = glob.glob('NSIDC*nc')\n",
    "    list37.sort()\n",
    "    if len(list37) != 0:\n",
    "        nco.ncrcat(input = list37, output = outfile_37, options = [\"-O\"])\n",
    "    else: \n",
    "        print(\"No 37Ghz Files to Concatenate\")"
   ]
  },
  {
   "cell_type": "markdown",
   "metadata": {},
   "source": [
    "## Setup"
   ]
  },
  {
   "cell_type": "code",
   "execution_count": 5,
   "metadata": {},
   "outputs": [
    {
     "data": {
      "text/plain": [
       "'/Users/williamnorris/Team_GISProg'"
      ]
     },
     "execution_count": 5,
     "metadata": {},
     "output_type": "execute_result"
    }
   ],
   "source": [
    "path = os.getcwd()\n",
    "path"
   ]
  },
  {
   "cell_type": "markdown",
   "metadata": {},
   "source": [
    "## File Setup:"
   ]
  },
  {
   "cell_type": "code",
   "execution_count": 6,
   "metadata": {},
   "outputs": [],
   "source": [
    "wget = path + \"/data/wget/\"\n",
    "path19 = path + \"/data/Subsetted_19H/\"\n",
    "path37 = path + \"/data/Subsetted_37H/\"\n",
    "\n",
    "if not os.path.exists(wget):\n",
    "    os.makedirs(wget)\n",
    "if not os.path.exists(path19):\n",
    "    os.makedirs(path19)\n",
    "if not os.path.exists(path37):\n",
    "    os.makedirs(path37)"
   ]
  },
  {
   "cell_type": "markdown",
   "metadata": {},
   "source": [
    "## Input Study Area"
   ]
  },
  {
   "cell_type": "code",
   "execution_count": 7,
   "metadata": {},
   "outputs": [],
   "source": [
    "# upper left \n",
    "lat_lon_ul = [62.27, -140.17]\n",
    "\n",
    "# lower right \n",
    "lat_lon_lr =[73.64, -166.08]\n",
    "\n",
    "list_3, list_6 = get_xy(lat_lon_ul, lat_lon_lr)"
   ]
  },
  {
   "cell_type": "code",
   "execution_count": 17,
   "metadata": {},
   "outputs": [],
   "source": [
    "os.chdir(wget)\n",
    "# Make a list of the files to concatenate together for 19H\n",
    "list19 = sorted(glob.glob(\"*19H-M-SIR*\"))\n",
    "# Make list for the 37GHz\n",
    "list37 = sorted(glob.glob(\"*37H-M-SIR*\"))"
   ]
  },
  {
   "cell_type": "code",
   "execution_count": null,
   "metadata": {},
   "outputs": [],
   "source": [
    "subset(list19, list37, list_3, list_6, path19, path37, wget)"
   ]
  },
  {
   "cell_type": "code",
   "execution_count": null,
   "metadata": {},
   "outputs": [],
   "source": [
    "outfile_19 = 'all_days_19H.nc'\n",
    "outfile_37 = 'all_days_37H.nc'"
   ]
  },
  {
   "cell_type": "code",
   "execution_count": null,
   "metadata": {},
   "outputs": [],
   "source": [
    "concatenate(path, outfile_19, outfile_37)"
   ]
  },
  {
   "cell_type": "code",
   "execution_count": null,
   "metadata": {},
   "outputs": [],
   "source": []
  }
 ],
 "metadata": {
  "kernelspec": {
   "display_name": "nco-python",
   "language": "python",
   "name": "nco-python"
  },
  "language_info": {
   "codemirror_mode": {
    "name": "ipython",
    "version": 3
   },
   "file_extension": ".py",
   "mimetype": "text/x-python",
   "name": "python",
   "nbconvert_exporter": "python",
   "pygments_lexer": "ipython3",
   "version": "3.6.5"
  }
 },
 "nbformat": 4,
 "nbformat_minor": 2
}

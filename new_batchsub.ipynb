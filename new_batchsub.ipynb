{
 "cells": [
  {
   "cell_type": "markdown",
   "metadata": {},
   "source": [
    "## Subsetting Code:"
   ]
  },
  {
   "cell_type": "code",
   "execution_count": 1,
   "metadata": {
    "collapsed": true
   },
   "outputs": [],
   "source": [
    "#%pylab notebook\n",
    "import netCDF4\n",
    "from netCDF4 import Dataset\n",
    "#import matplotlib.pyplot as plt\n",
    "#import numpy as np\n",
    "#from cetbtools.ease2conv import Ease2Transform\n",
    "import subprocess\n",
    "from subprocess import call\n",
    "import shlex\n",
    "import os\n",
    "import sys\n",
    "import glob\n",
    "from nco import Nco\n",
    "import ease2conv as e2\n",
    "from nco import custom as c\n",
    "nco = Nco()"
   ]
  },
  {
   "cell_type": "markdown",
   "metadata": {},
   "source": [
    "## Setup\n",
    "- set env_path below \n",
    "    - this is the path at which command line nco arguments can be found \n",
    "   "
   ]
  },
  {
   "cell_type": "code",
   "execution_count": 2,
   "metadata": {},
   "outputs": [
    {
     "data": {
      "text/plain": [
       "'/Users/davidnyberg/Downloads/Team_GISProg-master_4'"
      ]
     },
     "execution_count": 2,
     "metadata": {},
     "output_type": "execute_result"
    }
   ],
   "source": [
    "env_path = '/anaconda3/envs/gis/bin/'\n",
    "path = os.getcwd()\n",
    "path"
   ]
  },
  {
   "cell_type": "markdown",
   "metadata": {},
   "source": [
    "## File Setup:"
   ]
  },
  {
   "cell_type": "code",
   "execution_count": 3,
   "metadata": {
    "collapsed": true
   },
   "outputs": [],
   "source": [
    "wget = path + \"/data/wget/\"\n",
    "path19 = path + \"/data/Subsetted_19H/\"\n",
    "path37 = path + \"/data/Subsetted_37H/\"\n",
    "\n",
    "\n",
    "if not os.path.exists(wget):\\\n",
    "    os.makedirs(wget)\n",
    "if not os.path.exists(path19):\n",
    "    os.makedirs(path19)\n",
    "if not os.path.exists(path37):\n",
    "    os.makedirs(path37)"
   ]
  },
  {
   "cell_type": "markdown",
   "metadata": {},
   "source": [
    "## Input Study Area"
   ]
  },
  {
   "cell_type": "code",
   "execution_count": 4,
   "metadata": {
    "collapsed": true
   },
   "outputs": [],
   "source": [
    "def get_xy(ll_ul, ll_lr):\n",
    "    N6 = e2.Ease2Transform(\"EASE2_N6.25km\")\n",
    "    N3 = e2.Ease2Transform(\"EASE2_N3.125km\")\n",
    "    # get x,y for 6.25\n",
    "    row, col = N6.geographic_to_grid(ll_ul[0], ll_ul[1])\n",
    "    x6ul, y6ul = N6.grid_to_map(row,col)\n",
    "    row, col = N6.geographic_to_grid(ll_lr[0], ll_lr[1])\n",
    "    x6lr, y6lr = N6.grid_to_map(row, col)\n",
    "    # get x,y for 3.125\n",
    "    row, col = N6.geographic_to_grid(ll_ul[0], ll_ul[1])\n",
    "    x3ul, y3ul = N6.grid_to_map(row, col)\n",
    "    row, col = N6.geographic_to_grid(ll_lr[0], ll_lr[1])\n",
    "    x3lr, y3lr = N6.grid_to_map(row, col)\n",
    "    list_6 = [x6ul, y6ul, x6lr, y6lr]\n",
    "    list_3 = [x3ul, y3ul, x3lr, y3lr]\n",
    "    return list_3, list_6"
   ]
  },
  {
   "cell_type": "code",
   "execution_count": 5,
   "metadata": {
    "collapsed": true
   },
   "outputs": [],
   "source": [
    "# upper left \n",
    "lat_lon_ul = [62.27, -140.17]\n",
    "\n",
    "# lower right \n",
    "lat_lon_lr =[73.64, -166.08]\n",
    "\n",
    "list_3, list_6 = get_xy(lat_lon_ul, lat_lon_lr)"
   ]
  },
  {
   "cell_type": "code",
   "execution_count": 6,
   "metadata": {
    "collapsed": true
   },
   "outputs": [],
   "source": [
    "os.chdir(wget)\n",
    "# Make a list of the files to concatenate together for 19H\n",
    "list19 = glob.glob(\"*19H-M-SIR*\")\n",
    "# Make list for the 37GHz\n",
    "list37 = glob.glob(\"*37H-M-SIR*\")\n",
    "list19.sort()\n",
    "list37.sort()"
   ]
  },
  {
   "cell_type": "code",
   "execution_count": 7,
   "metadata": {},
   "outputs": [
    {
     "data": {
      "text/plain": [
       "['NSIDC-0630-EASE2_N3.125km-F19_SSMIS-2015001-37H-M-SIR-CSU-v1.2.nc',\n",
       " 'NSIDC-0630-EASE2_N3.125km-F19_SSMIS-2015002-37H-M-SIR-CSU-v1.2.nc',\n",
       " 'NSIDC-0630-EASE2_N3.125km-F19_SSMIS-2015003-37H-M-SIR-CSU-v1.2.nc',\n",
       " 'NSIDC-0630-EASE2_N3.125km-F19_SSMIS-2015004-37H-M-SIR-CSU-v1.2.nc',\n",
       " 'NSIDC-0630-EASE2_N3.125km-F19_SSMIS-2015005-37H-M-SIR-CSU-v1.2.nc',\n",
       " 'NSIDC-0630-EASE2_N3.125km-F19_SSMIS-2015006-37H-M-SIR-CSU-v1.2.nc',\n",
       " 'NSIDC-0630-EASE2_N3.125km-F19_SSMIS-2015007-37H-M-SIR-CSU-v1.2.nc',\n",
       " 'NSIDC-0630-EASE2_N3.125km-F19_SSMIS-2015008-37H-M-SIR-CSU-v1.2.nc',\n",
       " 'NSIDC-0630-EASE2_N3.125km-F19_SSMIS-2015009-37H-M-SIR-CSU-v1.2.nc',\n",
       " 'NSIDC-0630-EASE2_N3.125km-F19_SSMIS-2015010-37H-M-SIR-CSU-v1.2.nc',\n",
       " 'NSIDC-0630-EASE2_N3.125km-F19_SSMIS-2015011-37H-M-SIR-CSU-v1.2.nc',\n",
       " 'NSIDC-0630-EASE2_N3.125km-F19_SSMIS-2015012-37H-M-SIR-CSU-v1.2.nc',\n",
       " 'NSIDC-0630-EASE2_N3.125km-F19_SSMIS-2015013-37H-M-SIR-CSU-v1.2.nc',\n",
       " 'NSIDC-0630-EASE2_N3.125km-F19_SSMIS-2015014-37H-M-SIR-CSU-v1.2.nc',\n",
       " 'NSIDC-0630-EASE2_N3.125km-F19_SSMIS-2015015-37H-M-SIR-CSU-v1.2.nc',\n",
       " 'NSIDC-0630-EASE2_N3.125km-F19_SSMIS-2015016-37H-M-SIR-CSU-v1.2.nc',\n",
       " 'NSIDC-0630-EASE2_N3.125km-F19_SSMIS-2015017-37H-M-SIR-CSU-v1.2.nc',\n",
       " 'NSIDC-0630-EASE2_N3.125km-F19_SSMIS-2015018-37H-M-SIR-CSU-v1.2.nc',\n",
       " 'NSIDC-0630-EASE2_N3.125km-F19_SSMIS-2015019-37H-M-SIR-CSU-v1.2.nc',\n",
       " 'NSIDC-0630-EASE2_N3.125km-F19_SSMIS-2015020-37H-M-SIR-CSU-v1.2.nc',\n",
       " 'NSIDC-0630-EASE2_N3.125km-F19_SSMIS-2015021-37H-M-SIR-CSU-v1.2.nc',\n",
       " 'NSIDC-0630-EASE2_N3.125km-F19_SSMIS-2015022-37H-M-SIR-CSU-v1.2.nc',\n",
       " 'NSIDC-0630-EASE2_N3.125km-F19_SSMIS-2015023-37H-M-SIR-CSU-v1.2.nc',\n",
       " 'NSIDC-0630-EASE2_N3.125km-F19_SSMIS-2015024-37H-M-SIR-CSU-v1.2.nc',\n",
       " 'NSIDC-0630-EASE2_N3.125km-F19_SSMIS-2015025-37H-M-SIR-CSU-v1.2.nc',\n",
       " 'NSIDC-0630-EASE2_N3.125km-F19_SSMIS-2015026-37H-M-SIR-CSU-v1.2.nc',\n",
       " 'NSIDC-0630-EASE2_N3.125km-F19_SSMIS-2015027-37H-M-SIR-CSU-v1.2.nc',\n",
       " 'NSIDC-0630-EASE2_N3.125km-F19_SSMIS-2015028-37H-M-SIR-CSU-v1.2.nc',\n",
       " 'NSIDC-0630-EASE2_N3.125km-F19_SSMIS-2015029-37H-M-SIR-CSU-v1.2.nc',\n",
       " 'NSIDC-0630-EASE2_N3.125km-F19_SSMIS-2015030-37H-M-SIR-CSU-v1.2.nc',\n",
       " 'NSIDC-0630-EASE2_N3.125km-F19_SSMIS-2015031-37H-M-SIR-CSU-v1.2.nc',\n",
       " 'NSIDC-0630-EASE2_N3.125km-F19_SSMIS-2015032-37H-M-SIR-CSU-v1.2.nc',\n",
       " 'NSIDC-0630-EASE2_N3.125km-F19_SSMIS-2015033-37H-M-SIR-CSU-v1.2.nc',\n",
       " 'NSIDC-0630-EASE2_N3.125km-F19_SSMIS-2015034-37H-M-SIR-CSU-v1.2.nc',\n",
       " 'NSIDC-0630-EASE2_N3.125km-F19_SSMIS-2015035-37H-M-SIR-CSU-v1.2.nc',\n",
       " 'NSIDC-0630-EASE2_N3.125km-F19_SSMIS-2015036-37H-M-SIR-CSU-v1.2.nc',\n",
       " 'NSIDC-0630-EASE2_N3.125km-F19_SSMIS-2015037-37H-M-SIR-CSU-v1.2.nc',\n",
       " 'NSIDC-0630-EASE2_N3.125km-F19_SSMIS-2015038-37H-M-SIR-CSU-v1.2.nc',\n",
       " 'NSIDC-0630-EASE2_N3.125km-F19_SSMIS-2015039-37H-M-SIR-CSU-v1.2.nc',\n",
       " 'NSIDC-0630-EASE2_N3.125km-F19_SSMIS-2015040-37H-M-SIR-CSU-v1.2.nc',\n",
       " 'NSIDC-0630-EASE2_N3.125km-F19_SSMIS-2015041-37H-M-SIR-CSU-v1.2.nc',\n",
       " 'NSIDC-0630-EASE2_N3.125km-F19_SSMIS-2015042-37H-M-SIR-CSU-v1.2.nc',\n",
       " 'NSIDC-0630-EASE2_N3.125km-F19_SSMIS-2015043-37H-M-SIR-CSU-v1.2.nc',\n",
       " 'NSIDC-0630-EASE2_N3.125km-F19_SSMIS-2015044-37H-M-SIR-CSU-v1.2.nc',\n",
       " 'NSIDC-0630-EASE2_N3.125km-F19_SSMIS-2015045-37H-M-SIR-CSU-v1.2.nc',\n",
       " 'NSIDC-0630-EASE2_N3.125km-F19_SSMIS-2015046-37H-M-SIR-CSU-v1.2.nc',\n",
       " 'NSIDC-0630-EASE2_N3.125km-F19_SSMIS-2015047-37H-M-SIR-CSU-v1.2.nc',\n",
       " 'NSIDC-0630-EASE2_N3.125km-F19_SSMIS-2015048-37H-M-SIR-CSU-v1.2.nc',\n",
       " 'NSIDC-0630-EASE2_N3.125km-F19_SSMIS-2015049-37H-M-SIR-CSU-v1.2.nc',\n",
       " 'NSIDC-0630-EASE2_N3.125km-F19_SSMIS-2015050-37H-M-SIR-CSU-v1.2.nc',\n",
       " 'NSIDC-0630-EASE2_N3.125km-F19_SSMIS-2015051-37H-M-SIR-CSU-v1.2.nc',\n",
       " 'NSIDC-0630-EASE2_N3.125km-F19_SSMIS-2015052-37H-M-SIR-CSU-v1.2.nc',\n",
       " 'NSIDC-0630-EASE2_N3.125km-F19_SSMIS-2015053-37H-M-SIR-CSU-v1.2.nc',\n",
       " 'NSIDC-0630-EASE2_N3.125km-F19_SSMIS-2015054-37H-M-SIR-CSU-v1.2.nc',\n",
       " 'NSIDC-0630-EASE2_N3.125km-F19_SSMIS-2015055-37H-M-SIR-CSU-v1.2.nc',\n",
       " 'NSIDC-0630-EASE2_N3.125km-F19_SSMIS-2015056-37H-M-SIR-CSU-v1.2.nc',\n",
       " 'NSIDC-0630-EASE2_N3.125km-F19_SSMIS-2015057-37H-M-SIR-CSU-v1.2.nc',\n",
       " 'NSIDC-0630-EASE2_N3.125km-F19_SSMIS-2015058-37H-M-SIR-CSU-v1.2.nc',\n",
       " 'NSIDC-0630-EASE2_N3.125km-F19_SSMIS-2015059-37H-M-SIR-CSU-v1.2.nc',\n",
       " 'NSIDC-0630-EASE2_N3.125km-F19_SSMIS-2015060-37H-M-SIR-CSU-v1.2.nc',\n",
       " 'NSIDC-0630-EASE2_N3.125km-F19_SSMIS-2015061-37H-M-SIR-CSU-v1.2.nc',\n",
       " 'NSIDC-0630-EASE2_N3.125km-F19_SSMIS-2015062-37H-M-SIR-CSU-v1.2.nc',\n",
       " 'NSIDC-0630-EASE2_N3.125km-F19_SSMIS-2015063-37H-M-SIR-CSU-v1.2.nc',\n",
       " 'NSIDC-0630-EASE2_N3.125km-F19_SSMIS-2015064-37H-M-SIR-CSU-v1.2.nc',\n",
       " 'NSIDC-0630-EASE2_N3.125km-F19_SSMIS-2015065-37H-M-SIR-CSU-v1.2.nc',\n",
       " 'NSIDC-0630-EASE2_N3.125km-F19_SSMIS-2015066-37H-M-SIR-CSU-v1.2.nc',\n",
       " 'NSIDC-0630-EASE2_N3.125km-F19_SSMIS-2015067-37H-M-SIR-CSU-v1.2.nc',\n",
       " 'NSIDC-0630-EASE2_N3.125km-F19_SSMIS-2015068-37H-M-SIR-CSU-v1.2.nc',\n",
       " 'NSIDC-0630-EASE2_N3.125km-F19_SSMIS-2015069-37H-M-SIR-CSU-v1.2.nc',\n",
       " 'NSIDC-0630-EASE2_N3.125km-F19_SSMIS-2015070-37H-M-SIR-CSU-v1.2.nc',\n",
       " 'NSIDC-0630-EASE2_N3.125km-F19_SSMIS-2015071-37H-M-SIR-CSU-v1.2.nc',\n",
       " 'NSIDC-0630-EASE2_N3.125km-F19_SSMIS-2015072-37H-M-SIR-CSU-v1.2.nc',\n",
       " 'NSIDC-0630-EASE2_N3.125km-F19_SSMIS-2015073-37H-M-SIR-CSU-v1.2.nc',\n",
       " 'NSIDC-0630-EASE2_N3.125km-F19_SSMIS-2015074-37H-M-SIR-CSU-v1.2.nc']"
      ]
     },
     "execution_count": 7,
     "metadata": {},
     "output_type": "execute_result"
    }
   ],
   "source": [
    "list37"
   ]
  },
  {
   "cell_type": "code",
   "execution_count": 9,
   "metadata": {},
   "outputs": [
    {
     "name": "stdout",
     "output_type": "stream",
     "text": [
      "Next in: /Users/davidnyberg/Downloads/Team_GISProg-master_4/data/wget/NSIDC-0630-EASE2_N3.125km-F19_SSMIS-2015001-37H-M-SIR-CSU-v1.2.nc\n",
      "Next out: /Users/davidnyberg/Downloads/Team_GISProg-master_4/data/Subsetted_37H/NSIDC-0630-EASE2_N3.125km-F19_SSMIS-2015001-37H-M-SIR-CSU-v1.2.nc\n",
      "Done\n",
      "Next in: /Users/davidnyberg/Downloads/Team_GISProg-master_4/data/wget/NSIDC-0630-EASE2_N3.125km-F19_SSMIS-2015002-37H-M-SIR-CSU-v1.2.nc\n",
      "Next out: /Users/davidnyberg/Downloads/Team_GISProg-master_4/data/Subsetted_37H/NSIDC-0630-EASE2_N3.125km-F19_SSMIS-2015002-37H-M-SIR-CSU-v1.2.nc\n",
      "Done\n",
      "Next in: /Users/davidnyberg/Downloads/Team_GISProg-master_4/data/wget/NSIDC-0630-EASE2_N3.125km-F19_SSMIS-2015003-37H-M-SIR-CSU-v1.2.nc\n",
      "Next out: /Users/davidnyberg/Downloads/Team_GISProg-master_4/data/Subsetted_37H/NSIDC-0630-EASE2_N3.125km-F19_SSMIS-2015003-37H-M-SIR-CSU-v1.2.nc\n",
      "Done\n",
      "Next in: /Users/davidnyberg/Downloads/Team_GISProg-master_4/data/wget/NSIDC-0630-EASE2_N3.125km-F19_SSMIS-2015004-37H-M-SIR-CSU-v1.2.nc\n",
      "Next out: /Users/davidnyberg/Downloads/Team_GISProg-master_4/data/Subsetted_37H/NSIDC-0630-EASE2_N3.125km-F19_SSMIS-2015004-37H-M-SIR-CSU-v1.2.nc\n",
      "Done\n",
      "Next in: /Users/davidnyberg/Downloads/Team_GISProg-master_4/data/wget/NSIDC-0630-EASE2_N3.125km-F19_SSMIS-2015005-37H-M-SIR-CSU-v1.2.nc\n",
      "Next out: /Users/davidnyberg/Downloads/Team_GISProg-master_4/data/Subsetted_37H/NSIDC-0630-EASE2_N3.125km-F19_SSMIS-2015005-37H-M-SIR-CSU-v1.2.nc\n",
      "Done\n",
      "Next in: /Users/davidnyberg/Downloads/Team_GISProg-master_4/data/wget/NSIDC-0630-EASE2_N3.125km-F19_SSMIS-2015006-37H-M-SIR-CSU-v1.2.nc\n",
      "Next out: /Users/davidnyberg/Downloads/Team_GISProg-master_4/data/Subsetted_37H/NSIDC-0630-EASE2_N3.125km-F19_SSMIS-2015006-37H-M-SIR-CSU-v1.2.nc\n",
      "Done\n",
      "Next in: /Users/davidnyberg/Downloads/Team_GISProg-master_4/data/wget/NSIDC-0630-EASE2_N3.125km-F19_SSMIS-2015007-37H-M-SIR-CSU-v1.2.nc\n",
      "Next out: /Users/davidnyberg/Downloads/Team_GISProg-master_4/data/Subsetted_37H/NSIDC-0630-EASE2_N3.125km-F19_SSMIS-2015007-37H-M-SIR-CSU-v1.2.nc\n",
      "Done\n",
      "Next in: /Users/davidnyberg/Downloads/Team_GISProg-master_4/data/wget/NSIDC-0630-EASE2_N3.125km-F19_SSMIS-2015008-37H-M-SIR-CSU-v1.2.nc\n",
      "Next out: /Users/davidnyberg/Downloads/Team_GISProg-master_4/data/Subsetted_37H/NSIDC-0630-EASE2_N3.125km-F19_SSMIS-2015008-37H-M-SIR-CSU-v1.2.nc\n",
      "Done\n",
      "Next in: /Users/davidnyberg/Downloads/Team_GISProg-master_4/data/wget/NSIDC-0630-EASE2_N3.125km-F19_SSMIS-2015009-37H-M-SIR-CSU-v1.2.nc\n",
      "Next out: /Users/davidnyberg/Downloads/Team_GISProg-master_4/data/Subsetted_37H/NSIDC-0630-EASE2_N3.125km-F19_SSMIS-2015009-37H-M-SIR-CSU-v1.2.nc\n",
      "Done\n",
      "Next in: /Users/davidnyberg/Downloads/Team_GISProg-master_4/data/wget/NSIDC-0630-EASE2_N3.125km-F19_SSMIS-2015010-37H-M-SIR-CSU-v1.2.nc\n",
      "Next out: /Users/davidnyberg/Downloads/Team_GISProg-master_4/data/Subsetted_37H/NSIDC-0630-EASE2_N3.125km-F19_SSMIS-2015010-37H-M-SIR-CSU-v1.2.nc\n",
      "Done\n",
      "Next in: /Users/davidnyberg/Downloads/Team_GISProg-master_4/data/wget/NSIDC-0630-EASE2_N3.125km-F19_SSMIS-2015011-37H-M-SIR-CSU-v1.2.nc\n",
      "Next out: /Users/davidnyberg/Downloads/Team_GISProg-master_4/data/Subsetted_37H/NSIDC-0630-EASE2_N3.125km-F19_SSMIS-2015011-37H-M-SIR-CSU-v1.2.nc\n",
      "Done\n",
      "Next in: /Users/davidnyberg/Downloads/Team_GISProg-master_4/data/wget/NSIDC-0630-EASE2_N3.125km-F19_SSMIS-2015012-37H-M-SIR-CSU-v1.2.nc\n",
      "Next out: /Users/davidnyberg/Downloads/Team_GISProg-master_4/data/Subsetted_37H/NSIDC-0630-EASE2_N3.125km-F19_SSMIS-2015012-37H-M-SIR-CSU-v1.2.nc\n",
      "Done\n",
      "Next in: /Users/davidnyberg/Downloads/Team_GISProg-master_4/data/wget/NSIDC-0630-EASE2_N3.125km-F19_SSMIS-2015013-37H-M-SIR-CSU-v1.2.nc\n",
      "Next out: /Users/davidnyberg/Downloads/Team_GISProg-master_4/data/Subsetted_37H/NSIDC-0630-EASE2_N3.125km-F19_SSMIS-2015013-37H-M-SIR-CSU-v1.2.nc\n",
      "Done\n",
      "Next in: /Users/davidnyberg/Downloads/Team_GISProg-master_4/data/wget/NSIDC-0630-EASE2_N3.125km-F19_SSMIS-2015014-37H-M-SIR-CSU-v1.2.nc\n",
      "Next out: /Users/davidnyberg/Downloads/Team_GISProg-master_4/data/Subsetted_37H/NSIDC-0630-EASE2_N3.125km-F19_SSMIS-2015014-37H-M-SIR-CSU-v1.2.nc\n",
      "Done\n",
      "Next in: /Users/davidnyberg/Downloads/Team_GISProg-master_4/data/wget/NSIDC-0630-EASE2_N3.125km-F19_SSMIS-2015015-37H-M-SIR-CSU-v1.2.nc\n",
      "Next out: /Users/davidnyberg/Downloads/Team_GISProg-master_4/data/Subsetted_37H/NSIDC-0630-EASE2_N3.125km-F19_SSMIS-2015015-37H-M-SIR-CSU-v1.2.nc\n",
      "Done\n",
      "Next in: /Users/davidnyberg/Downloads/Team_GISProg-master_4/data/wget/NSIDC-0630-EASE2_N3.125km-F19_SSMIS-2015016-37H-M-SIR-CSU-v1.2.nc\n",
      "Next out: /Users/davidnyberg/Downloads/Team_GISProg-master_4/data/Subsetted_37H/NSIDC-0630-EASE2_N3.125km-F19_SSMIS-2015016-37H-M-SIR-CSU-v1.2.nc\n",
      "Done\n",
      "Next in: /Users/davidnyberg/Downloads/Team_GISProg-master_4/data/wget/NSIDC-0630-EASE2_N3.125km-F19_SSMIS-2015017-37H-M-SIR-CSU-v1.2.nc\n",
      "Next out: /Users/davidnyberg/Downloads/Team_GISProg-master_4/data/Subsetted_37H/NSIDC-0630-EASE2_N3.125km-F19_SSMIS-2015017-37H-M-SIR-CSU-v1.2.nc\n",
      "Done\n",
      "Next in: /Users/davidnyberg/Downloads/Team_GISProg-master_4/data/wget/NSIDC-0630-EASE2_N3.125km-F19_SSMIS-2015018-37H-M-SIR-CSU-v1.2.nc\n",
      "Next out: /Users/davidnyberg/Downloads/Team_GISProg-master_4/data/Subsetted_37H/NSIDC-0630-EASE2_N3.125km-F19_SSMIS-2015018-37H-M-SIR-CSU-v1.2.nc\n",
      "Done\n",
      "Next in: /Users/davidnyberg/Downloads/Team_GISProg-master_4/data/wget/NSIDC-0630-EASE2_N3.125km-F19_SSMIS-2015019-37H-M-SIR-CSU-v1.2.nc\n",
      "Next out: /Users/davidnyberg/Downloads/Team_GISProg-master_4/data/Subsetted_37H/NSIDC-0630-EASE2_N3.125km-F19_SSMIS-2015019-37H-M-SIR-CSU-v1.2.nc\n",
      "Done\n",
      "Next in: /Users/davidnyberg/Downloads/Team_GISProg-master_4/data/wget/NSIDC-0630-EASE2_N3.125km-F19_SSMIS-2015020-37H-M-SIR-CSU-v1.2.nc\n",
      "Next out: /Users/davidnyberg/Downloads/Team_GISProg-master_4/data/Subsetted_37H/NSIDC-0630-EASE2_N3.125km-F19_SSMIS-2015020-37H-M-SIR-CSU-v1.2.nc\n",
      "Done\n",
      "Next in: /Users/davidnyberg/Downloads/Team_GISProg-master_4/data/wget/NSIDC-0630-EASE2_N3.125km-F19_SSMIS-2015021-37H-M-SIR-CSU-v1.2.nc\n",
      "Next out: /Users/davidnyberg/Downloads/Team_GISProg-master_4/data/Subsetted_37H/NSIDC-0630-EASE2_N3.125km-F19_SSMIS-2015021-37H-M-SIR-CSU-v1.2.nc\n",
      "Done\n",
      "Next in: /Users/davidnyberg/Downloads/Team_GISProg-master_4/data/wget/NSIDC-0630-EASE2_N3.125km-F19_SSMIS-2015022-37H-M-SIR-CSU-v1.2.nc\n",
      "Next out: /Users/davidnyberg/Downloads/Team_GISProg-master_4/data/Subsetted_37H/NSIDC-0630-EASE2_N3.125km-F19_SSMIS-2015022-37H-M-SIR-CSU-v1.2.nc\n",
      "Done\n",
      "Next in: /Users/davidnyberg/Downloads/Team_GISProg-master_4/data/wget/NSIDC-0630-EASE2_N3.125km-F19_SSMIS-2015023-37H-M-SIR-CSU-v1.2.nc\n",
      "Next out: /Users/davidnyberg/Downloads/Team_GISProg-master_4/data/Subsetted_37H/NSIDC-0630-EASE2_N3.125km-F19_SSMIS-2015023-37H-M-SIR-CSU-v1.2.nc\n",
      "Done\n",
      "Next in: /Users/davidnyberg/Downloads/Team_GISProg-master_4/data/wget/NSIDC-0630-EASE2_N3.125km-F19_SSMIS-2015024-37H-M-SIR-CSU-v1.2.nc\n",
      "Next out: /Users/davidnyberg/Downloads/Team_GISProg-master_4/data/Subsetted_37H/NSIDC-0630-EASE2_N3.125km-F19_SSMIS-2015024-37H-M-SIR-CSU-v1.2.nc\n",
      "Done\n",
      "Next in: /Users/davidnyberg/Downloads/Team_GISProg-master_4/data/wget/NSIDC-0630-EASE2_N3.125km-F19_SSMIS-2015025-37H-M-SIR-CSU-v1.2.nc\n",
      "Next out: /Users/davidnyberg/Downloads/Team_GISProg-master_4/data/Subsetted_37H/NSIDC-0630-EASE2_N3.125km-F19_SSMIS-2015025-37H-M-SIR-CSU-v1.2.nc\n",
      "Done\n",
      "Next in: /Users/davidnyberg/Downloads/Team_GISProg-master_4/data/wget/NSIDC-0630-EASE2_N3.125km-F19_SSMIS-2015026-37H-M-SIR-CSU-v1.2.nc\n",
      "Next out: /Users/davidnyberg/Downloads/Team_GISProg-master_4/data/Subsetted_37H/NSIDC-0630-EASE2_N3.125km-F19_SSMIS-2015026-37H-M-SIR-CSU-v1.2.nc\n",
      "Done\n",
      "Next in: /Users/davidnyberg/Downloads/Team_GISProg-master_4/data/wget/NSIDC-0630-EASE2_N3.125km-F19_SSMIS-2015027-37H-M-SIR-CSU-v1.2.nc\n",
      "Next out: /Users/davidnyberg/Downloads/Team_GISProg-master_4/data/Subsetted_37H/NSIDC-0630-EASE2_N3.125km-F19_SSMIS-2015027-37H-M-SIR-CSU-v1.2.nc\n",
      "Done\n",
      "Next in: /Users/davidnyberg/Downloads/Team_GISProg-master_4/data/wget/NSIDC-0630-EASE2_N3.125km-F19_SSMIS-2015028-37H-M-SIR-CSU-v1.2.nc\n",
      "Next out: /Users/davidnyberg/Downloads/Team_GISProg-master_4/data/Subsetted_37H/NSIDC-0630-EASE2_N3.125km-F19_SSMIS-2015028-37H-M-SIR-CSU-v1.2.nc\n",
      "Done\n",
      "Next in: /Users/davidnyberg/Downloads/Team_GISProg-master_4/data/wget/NSIDC-0630-EASE2_N3.125km-F19_SSMIS-2015029-37H-M-SIR-CSU-v1.2.nc\n",
      "Next out: /Users/davidnyberg/Downloads/Team_GISProg-master_4/data/Subsetted_37H/NSIDC-0630-EASE2_N3.125km-F19_SSMIS-2015029-37H-M-SIR-CSU-v1.2.nc\n",
      "Done\n",
      "Next in: /Users/davidnyberg/Downloads/Team_GISProg-master_4/data/wget/NSIDC-0630-EASE2_N3.125km-F19_SSMIS-2015030-37H-M-SIR-CSU-v1.2.nc\n",
      "Next out: /Users/davidnyberg/Downloads/Team_GISProg-master_4/data/Subsetted_37H/NSIDC-0630-EASE2_N3.125km-F19_SSMIS-2015030-37H-M-SIR-CSU-v1.2.nc\n",
      "Done\n"
     ]
    },
    {
     "name": "stdout",
     "output_type": "stream",
     "text": [
      "Next in: /Users/davidnyberg/Downloads/Team_GISProg-master_4/data/wget/NSIDC-0630-EASE2_N3.125km-F19_SSMIS-2015031-37H-M-SIR-CSU-v1.2.nc\n",
      "Next out: /Users/davidnyberg/Downloads/Team_GISProg-master_4/data/Subsetted_37H/NSIDC-0630-EASE2_N3.125km-F19_SSMIS-2015031-37H-M-SIR-CSU-v1.2.nc\n",
      "Done\n",
      "Next in: /Users/davidnyberg/Downloads/Team_GISProg-master_4/data/wget/NSIDC-0630-EASE2_N3.125km-F19_SSMIS-2015032-37H-M-SIR-CSU-v1.2.nc\n",
      "Next out: /Users/davidnyberg/Downloads/Team_GISProg-master_4/data/Subsetted_37H/NSIDC-0630-EASE2_N3.125km-F19_SSMIS-2015032-37H-M-SIR-CSU-v1.2.nc\n",
      "Done\n",
      "Next in: /Users/davidnyberg/Downloads/Team_GISProg-master_4/data/wget/NSIDC-0630-EASE2_N3.125km-F19_SSMIS-2015033-37H-M-SIR-CSU-v1.2.nc\n",
      "Next out: /Users/davidnyberg/Downloads/Team_GISProg-master_4/data/Subsetted_37H/NSIDC-0630-EASE2_N3.125km-F19_SSMIS-2015033-37H-M-SIR-CSU-v1.2.nc\n",
      "Done\n",
      "Next in: /Users/davidnyberg/Downloads/Team_GISProg-master_4/data/wget/NSIDC-0630-EASE2_N3.125km-F19_SSMIS-2015034-37H-M-SIR-CSU-v1.2.nc\n",
      "Next out: /Users/davidnyberg/Downloads/Team_GISProg-master_4/data/Subsetted_37H/NSIDC-0630-EASE2_N3.125km-F19_SSMIS-2015034-37H-M-SIR-CSU-v1.2.nc\n",
      "Done\n",
      "Next in: /Users/davidnyberg/Downloads/Team_GISProg-master_4/data/wget/NSIDC-0630-EASE2_N3.125km-F19_SSMIS-2015035-37H-M-SIR-CSU-v1.2.nc\n",
      "Next out: /Users/davidnyberg/Downloads/Team_GISProg-master_4/data/Subsetted_37H/NSIDC-0630-EASE2_N3.125km-F19_SSMIS-2015035-37H-M-SIR-CSU-v1.2.nc\n",
      "Done\n",
      "Next in: /Users/davidnyberg/Downloads/Team_GISProg-master_4/data/wget/NSIDC-0630-EASE2_N3.125km-F19_SSMIS-2015036-37H-M-SIR-CSU-v1.2.nc\n",
      "Next out: /Users/davidnyberg/Downloads/Team_GISProg-master_4/data/Subsetted_37H/NSIDC-0630-EASE2_N3.125km-F19_SSMIS-2015036-37H-M-SIR-CSU-v1.2.nc\n",
      "Done\n",
      "Next in: /Users/davidnyberg/Downloads/Team_GISProg-master_4/data/wget/NSIDC-0630-EASE2_N3.125km-F19_SSMIS-2015037-37H-M-SIR-CSU-v1.2.nc\n",
      "Next out: /Users/davidnyberg/Downloads/Team_GISProg-master_4/data/Subsetted_37H/NSIDC-0630-EASE2_N3.125km-F19_SSMIS-2015037-37H-M-SIR-CSU-v1.2.nc\n",
      "Done\n",
      "Next in: /Users/davidnyberg/Downloads/Team_GISProg-master_4/data/wget/NSIDC-0630-EASE2_N3.125km-F19_SSMIS-2015038-37H-M-SIR-CSU-v1.2.nc\n",
      "Next out: /Users/davidnyberg/Downloads/Team_GISProg-master_4/data/Subsetted_37H/NSIDC-0630-EASE2_N3.125km-F19_SSMIS-2015038-37H-M-SIR-CSU-v1.2.nc\n",
      "Done\n",
      "Next in: /Users/davidnyberg/Downloads/Team_GISProg-master_4/data/wget/NSIDC-0630-EASE2_N3.125km-F19_SSMIS-2015039-37H-M-SIR-CSU-v1.2.nc\n",
      "Next out: /Users/davidnyberg/Downloads/Team_GISProg-master_4/data/Subsetted_37H/NSIDC-0630-EASE2_N3.125km-F19_SSMIS-2015039-37H-M-SIR-CSU-v1.2.nc\n",
      "Done\n",
      "Next in: /Users/davidnyberg/Downloads/Team_GISProg-master_4/data/wget/NSIDC-0630-EASE2_N3.125km-F19_SSMIS-2015040-37H-M-SIR-CSU-v1.2.nc\n",
      "Next out: /Users/davidnyberg/Downloads/Team_GISProg-master_4/data/Subsetted_37H/NSIDC-0630-EASE2_N3.125km-F19_SSMIS-2015040-37H-M-SIR-CSU-v1.2.nc\n",
      "Done\n",
      "Next in: /Users/davidnyberg/Downloads/Team_GISProg-master_4/data/wget/NSIDC-0630-EASE2_N3.125km-F19_SSMIS-2015041-37H-M-SIR-CSU-v1.2.nc\n",
      "Next out: /Users/davidnyberg/Downloads/Team_GISProg-master_4/data/Subsetted_37H/NSIDC-0630-EASE2_N3.125km-F19_SSMIS-2015041-37H-M-SIR-CSU-v1.2.nc\n",
      "Done\n",
      "Next in: /Users/davidnyberg/Downloads/Team_GISProg-master_4/data/wget/NSIDC-0630-EASE2_N3.125km-F19_SSMIS-2015042-37H-M-SIR-CSU-v1.2.nc\n",
      "Next out: /Users/davidnyberg/Downloads/Team_GISProg-master_4/data/Subsetted_37H/NSIDC-0630-EASE2_N3.125km-F19_SSMIS-2015042-37H-M-SIR-CSU-v1.2.nc\n",
      "Done\n",
      "Next in: /Users/davidnyberg/Downloads/Team_GISProg-master_4/data/wget/NSIDC-0630-EASE2_N3.125km-F19_SSMIS-2015043-37H-M-SIR-CSU-v1.2.nc\n",
      "Next out: /Users/davidnyberg/Downloads/Team_GISProg-master_4/data/Subsetted_37H/NSIDC-0630-EASE2_N3.125km-F19_SSMIS-2015043-37H-M-SIR-CSU-v1.2.nc\n",
      "Done\n",
      "Next in: /Users/davidnyberg/Downloads/Team_GISProg-master_4/data/wget/NSIDC-0630-EASE2_N3.125km-F19_SSMIS-2015044-37H-M-SIR-CSU-v1.2.nc\n",
      "Next out: /Users/davidnyberg/Downloads/Team_GISProg-master_4/data/Subsetted_37H/NSIDC-0630-EASE2_N3.125km-F19_SSMIS-2015044-37H-M-SIR-CSU-v1.2.nc\n",
      "Done\n",
      "Next in: /Users/davidnyberg/Downloads/Team_GISProg-master_4/data/wget/NSIDC-0630-EASE2_N3.125km-F19_SSMIS-2015045-37H-M-SIR-CSU-v1.2.nc\n",
      "Next out: /Users/davidnyberg/Downloads/Team_GISProg-master_4/data/Subsetted_37H/NSIDC-0630-EASE2_N3.125km-F19_SSMIS-2015045-37H-M-SIR-CSU-v1.2.nc\n",
      "Done\n",
      "Next in: /Users/davidnyberg/Downloads/Team_GISProg-master_4/data/wget/NSIDC-0630-EASE2_N3.125km-F19_SSMIS-2015046-37H-M-SIR-CSU-v1.2.nc\n",
      "Next out: /Users/davidnyberg/Downloads/Team_GISProg-master_4/data/Subsetted_37H/NSIDC-0630-EASE2_N3.125km-F19_SSMIS-2015046-37H-M-SIR-CSU-v1.2.nc\n",
      "Done\n",
      "Next in: /Users/davidnyberg/Downloads/Team_GISProg-master_4/data/wget/NSIDC-0630-EASE2_N3.125km-F19_SSMIS-2015047-37H-M-SIR-CSU-v1.2.nc\n",
      "Next out: /Users/davidnyberg/Downloads/Team_GISProg-master_4/data/Subsetted_37H/NSIDC-0630-EASE2_N3.125km-F19_SSMIS-2015047-37H-M-SIR-CSU-v1.2.nc\n",
      "Done\n",
      "Next in: /Users/davidnyberg/Downloads/Team_GISProg-master_4/data/wget/NSIDC-0630-EASE2_N3.125km-F19_SSMIS-2015048-37H-M-SIR-CSU-v1.2.nc\n",
      "Next out: /Users/davidnyberg/Downloads/Team_GISProg-master_4/data/Subsetted_37H/NSIDC-0630-EASE2_N3.125km-F19_SSMIS-2015048-37H-M-SIR-CSU-v1.2.nc\n",
      "Done\n",
      "Next in: /Users/davidnyberg/Downloads/Team_GISProg-master_4/data/wget/NSIDC-0630-EASE2_N3.125km-F19_SSMIS-2015049-37H-M-SIR-CSU-v1.2.nc\n",
      "Next out: /Users/davidnyberg/Downloads/Team_GISProg-master_4/data/Subsetted_37H/NSIDC-0630-EASE2_N3.125km-F19_SSMIS-2015049-37H-M-SIR-CSU-v1.2.nc\n",
      "Done\n",
      "Next in: /Users/davidnyberg/Downloads/Team_GISProg-master_4/data/wget/NSIDC-0630-EASE2_N3.125km-F19_SSMIS-2015050-37H-M-SIR-CSU-v1.2.nc\n",
      "Next out: /Users/davidnyberg/Downloads/Team_GISProg-master_4/data/Subsetted_37H/NSIDC-0630-EASE2_N3.125km-F19_SSMIS-2015050-37H-M-SIR-CSU-v1.2.nc\n",
      "Done\n",
      "Next in: /Users/davidnyberg/Downloads/Team_GISProg-master_4/data/wget/NSIDC-0630-EASE2_N3.125km-F19_SSMIS-2015051-37H-M-SIR-CSU-v1.2.nc\n",
      "Next out: /Users/davidnyberg/Downloads/Team_GISProg-master_4/data/Subsetted_37H/NSIDC-0630-EASE2_N3.125km-F19_SSMIS-2015051-37H-M-SIR-CSU-v1.2.nc\n",
      "Done\n",
      "Next in: /Users/davidnyberg/Downloads/Team_GISProg-master_4/data/wget/NSIDC-0630-EASE2_N3.125km-F19_SSMIS-2015052-37H-M-SIR-CSU-v1.2.nc\n",
      "Next out: /Users/davidnyberg/Downloads/Team_GISProg-master_4/data/Subsetted_37H/NSIDC-0630-EASE2_N3.125km-F19_SSMIS-2015052-37H-M-SIR-CSU-v1.2.nc\n",
      "Done\n",
      "Next in: /Users/davidnyberg/Downloads/Team_GISProg-master_4/data/wget/NSIDC-0630-EASE2_N3.125km-F19_SSMIS-2015053-37H-M-SIR-CSU-v1.2.nc\n",
      "Next out: /Users/davidnyberg/Downloads/Team_GISProg-master_4/data/Subsetted_37H/NSIDC-0630-EASE2_N3.125km-F19_SSMIS-2015053-37H-M-SIR-CSU-v1.2.nc\n",
      "Done\n",
      "Next in: /Users/davidnyberg/Downloads/Team_GISProg-master_4/data/wget/NSIDC-0630-EASE2_N3.125km-F19_SSMIS-2015054-37H-M-SIR-CSU-v1.2.nc\n",
      "Next out: /Users/davidnyberg/Downloads/Team_GISProg-master_4/data/Subsetted_37H/NSIDC-0630-EASE2_N3.125km-F19_SSMIS-2015054-37H-M-SIR-CSU-v1.2.nc\n",
      "Done\n",
      "Next in: /Users/davidnyberg/Downloads/Team_GISProg-master_4/data/wget/NSIDC-0630-EASE2_N3.125km-F19_SSMIS-2015055-37H-M-SIR-CSU-v1.2.nc\n",
      "Next out: /Users/davidnyberg/Downloads/Team_GISProg-master_4/data/Subsetted_37H/NSIDC-0630-EASE2_N3.125km-F19_SSMIS-2015055-37H-M-SIR-CSU-v1.2.nc\n",
      "Done\n",
      "Next in: /Users/davidnyberg/Downloads/Team_GISProg-master_4/data/wget/NSIDC-0630-EASE2_N3.125km-F19_SSMIS-2015056-37H-M-SIR-CSU-v1.2.nc\n",
      "Next out: /Users/davidnyberg/Downloads/Team_GISProg-master_4/data/Subsetted_37H/NSIDC-0630-EASE2_N3.125km-F19_SSMIS-2015056-37H-M-SIR-CSU-v1.2.nc\n",
      "Done\n",
      "Next in: /Users/davidnyberg/Downloads/Team_GISProg-master_4/data/wget/NSIDC-0630-EASE2_N3.125km-F19_SSMIS-2015057-37H-M-SIR-CSU-v1.2.nc\n",
      "Next out: /Users/davidnyberg/Downloads/Team_GISProg-master_4/data/Subsetted_37H/NSIDC-0630-EASE2_N3.125km-F19_SSMIS-2015057-37H-M-SIR-CSU-v1.2.nc\n",
      "Done\n",
      "Next in: /Users/davidnyberg/Downloads/Team_GISProg-master_4/data/wget/NSIDC-0630-EASE2_N3.125km-F19_SSMIS-2015058-37H-M-SIR-CSU-v1.2.nc\n",
      "Next out: /Users/davidnyberg/Downloads/Team_GISProg-master_4/data/Subsetted_37H/NSIDC-0630-EASE2_N3.125km-F19_SSMIS-2015058-37H-M-SIR-CSU-v1.2.nc\n",
      "Done\n",
      "Next in: /Users/davidnyberg/Downloads/Team_GISProg-master_4/data/wget/NSIDC-0630-EASE2_N3.125km-F19_SSMIS-2015059-37H-M-SIR-CSU-v1.2.nc\n",
      "Next out: /Users/davidnyberg/Downloads/Team_GISProg-master_4/data/Subsetted_37H/NSIDC-0630-EASE2_N3.125km-F19_SSMIS-2015059-37H-M-SIR-CSU-v1.2.nc\n",
      "Done\n"
     ]
    },
    {
     "name": "stdout",
     "output_type": "stream",
     "text": [
      "Next in: /Users/davidnyberg/Downloads/Team_GISProg-master_4/data/wget/NSIDC-0630-EASE2_N3.125km-F19_SSMIS-2015060-37H-M-SIR-CSU-v1.2.nc\n",
      "Next out: /Users/davidnyberg/Downloads/Team_GISProg-master_4/data/Subsetted_37H/NSIDC-0630-EASE2_N3.125km-F19_SSMIS-2015060-37H-M-SIR-CSU-v1.2.nc\n",
      "Done\n",
      "Next in: /Users/davidnyberg/Downloads/Team_GISProg-master_4/data/wget/NSIDC-0630-EASE2_N3.125km-F19_SSMIS-2015061-37H-M-SIR-CSU-v1.2.nc\n",
      "Next out: /Users/davidnyberg/Downloads/Team_GISProg-master_4/data/Subsetted_37H/NSIDC-0630-EASE2_N3.125km-F19_SSMIS-2015061-37H-M-SIR-CSU-v1.2.nc\n",
      "Done\n",
      "Next in: /Users/davidnyberg/Downloads/Team_GISProg-master_4/data/wget/NSIDC-0630-EASE2_N3.125km-F19_SSMIS-2015062-37H-M-SIR-CSU-v1.2.nc\n",
      "Next out: /Users/davidnyberg/Downloads/Team_GISProg-master_4/data/Subsetted_37H/NSIDC-0630-EASE2_N3.125km-F19_SSMIS-2015062-37H-M-SIR-CSU-v1.2.nc\n",
      "Done\n",
      "Next in: /Users/davidnyberg/Downloads/Team_GISProg-master_4/data/wget/NSIDC-0630-EASE2_N3.125km-F19_SSMIS-2015063-37H-M-SIR-CSU-v1.2.nc\n",
      "Next out: /Users/davidnyberg/Downloads/Team_GISProg-master_4/data/Subsetted_37H/NSIDC-0630-EASE2_N3.125km-F19_SSMIS-2015063-37H-M-SIR-CSU-v1.2.nc\n",
      "Done\n",
      "Next in: /Users/davidnyberg/Downloads/Team_GISProg-master_4/data/wget/NSIDC-0630-EASE2_N3.125km-F19_SSMIS-2015064-37H-M-SIR-CSU-v1.2.nc\n",
      "Next out: /Users/davidnyberg/Downloads/Team_GISProg-master_4/data/Subsetted_37H/NSIDC-0630-EASE2_N3.125km-F19_SSMIS-2015064-37H-M-SIR-CSU-v1.2.nc\n",
      "Done\n",
      "Next in: /Users/davidnyberg/Downloads/Team_GISProg-master_4/data/wget/NSIDC-0630-EASE2_N3.125km-F19_SSMIS-2015065-37H-M-SIR-CSU-v1.2.nc\n",
      "Next out: /Users/davidnyberg/Downloads/Team_GISProg-master_4/data/Subsetted_37H/NSIDC-0630-EASE2_N3.125km-F19_SSMIS-2015065-37H-M-SIR-CSU-v1.2.nc\n",
      "Done\n",
      "Next in: /Users/davidnyberg/Downloads/Team_GISProg-master_4/data/wget/NSIDC-0630-EASE2_N3.125km-F19_SSMIS-2015066-37H-M-SIR-CSU-v1.2.nc\n",
      "Next out: /Users/davidnyberg/Downloads/Team_GISProg-master_4/data/Subsetted_37H/NSIDC-0630-EASE2_N3.125km-F19_SSMIS-2015066-37H-M-SIR-CSU-v1.2.nc\n",
      "Done\n",
      "Next in: /Users/davidnyberg/Downloads/Team_GISProg-master_4/data/wget/NSIDC-0630-EASE2_N3.125km-F19_SSMIS-2015067-37H-M-SIR-CSU-v1.2.nc\n",
      "Next out: /Users/davidnyberg/Downloads/Team_GISProg-master_4/data/Subsetted_37H/NSIDC-0630-EASE2_N3.125km-F19_SSMIS-2015067-37H-M-SIR-CSU-v1.2.nc\n",
      "Done\n",
      "Next in: /Users/davidnyberg/Downloads/Team_GISProg-master_4/data/wget/NSIDC-0630-EASE2_N3.125km-F19_SSMIS-2015068-37H-M-SIR-CSU-v1.2.nc\n",
      "Next out: /Users/davidnyberg/Downloads/Team_GISProg-master_4/data/Subsetted_37H/NSIDC-0630-EASE2_N3.125km-F19_SSMIS-2015068-37H-M-SIR-CSU-v1.2.nc\n",
      "Done\n",
      "Next in: /Users/davidnyberg/Downloads/Team_GISProg-master_4/data/wget/NSIDC-0630-EASE2_N3.125km-F19_SSMIS-2015069-37H-M-SIR-CSU-v1.2.nc\n",
      "Next out: /Users/davidnyberg/Downloads/Team_GISProg-master_4/data/Subsetted_37H/NSIDC-0630-EASE2_N3.125km-F19_SSMIS-2015069-37H-M-SIR-CSU-v1.2.nc\n",
      "Done\n",
      "Next in: /Users/davidnyberg/Downloads/Team_GISProg-master_4/data/wget/NSIDC-0630-EASE2_N3.125km-F19_SSMIS-2015070-37H-M-SIR-CSU-v1.2.nc\n",
      "Next out: /Users/davidnyberg/Downloads/Team_GISProg-master_4/data/Subsetted_37H/NSIDC-0630-EASE2_N3.125km-F19_SSMIS-2015070-37H-M-SIR-CSU-v1.2.nc\n",
      "Done\n",
      "Next in: /Users/davidnyberg/Downloads/Team_GISProg-master_4/data/wget/NSIDC-0630-EASE2_N3.125km-F19_SSMIS-2015071-37H-M-SIR-CSU-v1.2.nc\n",
      "Next out: /Users/davidnyberg/Downloads/Team_GISProg-master_4/data/Subsetted_37H/NSIDC-0630-EASE2_N3.125km-F19_SSMIS-2015071-37H-M-SIR-CSU-v1.2.nc\n",
      "Done\n",
      "Next in: /Users/davidnyberg/Downloads/Team_GISProg-master_4/data/wget/NSIDC-0630-EASE2_N3.125km-F19_SSMIS-2015072-37H-M-SIR-CSU-v1.2.nc\n",
      "Next out: /Users/davidnyberg/Downloads/Team_GISProg-master_4/data/Subsetted_37H/NSIDC-0630-EASE2_N3.125km-F19_SSMIS-2015072-37H-M-SIR-CSU-v1.2.nc\n",
      "Done\n",
      "Next in: /Users/davidnyberg/Downloads/Team_GISProg-master_4/data/wget/NSIDC-0630-EASE2_N3.125km-F19_SSMIS-2015073-37H-M-SIR-CSU-v1.2.nc\n",
      "Next out: /Users/davidnyberg/Downloads/Team_GISProg-master_4/data/Subsetted_37H/NSIDC-0630-EASE2_N3.125km-F19_SSMIS-2015073-37H-M-SIR-CSU-v1.2.nc\n",
      "Done\n",
      "Next in: /Users/davidnyberg/Downloads/Team_GISProg-master_4/data/wget/NSIDC-0630-EASE2_N3.125km-F19_SSMIS-2015074-37H-M-SIR-CSU-v1.2.nc\n",
      "Next out: /Users/davidnyberg/Downloads/Team_GISProg-master_4/data/Subsetted_37H/NSIDC-0630-EASE2_N3.125km-F19_SSMIS-2015074-37H-M-SIR-CSU-v1.2.nc\n",
      "Done\n"
     ]
    }
   ],
   "source": [
    "subset(list19, list37, list_3, list_6, path19, path37, wget)"
   ]
  },
  {
   "cell_type": "code",
   "execution_count": 34,
   "metadata": {
    "collapsed": true
   },
   "outputs": [],
   "source": [
    "outfile_19 = 'all_days_19H.nc'\n",
    "outfile_37 = 'all_days_37H.nc'"
   ]
  },
  {
   "cell_type": "code",
   "execution_count": 42,
   "metadata": {
    "collapsed": true
   },
   "outputs": [],
   "source": [
    "os.chdir(path)\n",
    "os.chdir(path + '/data' + '/Subsetted_19H')\n",
    "\n",
    "# Concatenate 19GHz files:\n",
    "cmd = env_path+'/ncrcat NSIDC*nc -O '+ outfile_19\n",
    "#subprocess.call(schlex.split(cmd), shell = False)\n",
    "#!/anaconda3/envs/python2/bin/ncrcat NSIDC*nc -O all_days_2015_19H_F19.nc\n",
    "\n",
    "os.chdir(path + '/data' + '/Subsetted_37H')\n",
    "\n",
    "# Concatenate 37GHz files: \n",
    "cmd = env_path+'/ncrcat NSIDC*nc -O '+ outfile_37\n",
    "#subprocess.call(schlex.spplit)\n",
    "#!/anaconda3/envs/python2/bin/ncrcat NSIDC*nc -O all_days_2015_37H_F19.nc"
   ]
  },
  {
   "cell_type": "code",
   "execution_count": 8,
   "metadata": {
    "collapsed": true
   },
   "outputs": [],
   "source": [
    "def subset(list19, list37, list3, list6, path19, path37, wget):\n",
    "    # for loop to take each file in the list and subset it's location \n",
    "    for file in list19:\n",
    "        outfile = path19 + file\n",
    "        infile = wget + file\n",
    "        opt = [\n",
    "            \"-d x,%f,%f\" % (list6[0],list6[2]),\n",
    "            \"-d y,%f,%f\" % (list6[3],list6[1]),\n",
    "            \"-v TB\"\n",
    "        ]\n",
    "        nco.ncks(input=infile, output=outfile, options=opt)\n",
    "        \n",
    "        print(\"Next in : %s\" % file)\n",
    "        print(\"Next out: %s\" % outfile)\n",
    "        # print(\"next unl out: %s\" % unlfile)\n",
    "        #subprocess.call(shlex.split(cmd), shell = False)\n",
    "        os.remove(infile)\n",
    "        print(\"Done\")\n",
    "\n",
    "\n",
    "    for file in list37: \n",
    "        outfile = path37 + file \n",
    "        infile = wget + file\n",
    "        opt = [\n",
    "            \"-d x,%f,%f\" % (list6[0],list6[2]),\n",
    "            \"-d y,%f,%f\" % (list6[3],list6[1]),\n",
    "            \"-v TB\"\n",
    "        ]\n",
    "        nco.ncks(input=infile, output=outfile, options=opt)\n",
    "        \n",
    "        print(\"Next in: %s\" % infile)\n",
    "        print(\"Next out: %s\" % outfile)\n",
    "        os.remove(infile)\n",
    "        print(\"Done\")   "
   ]
  },
  {
   "cell_type": "code",
   "execution_count": null,
   "metadata": {
    "collapsed": true
   },
   "outputs": [],
   "source": []
  }
 ],
 "metadata": {
  "kernelspec": {
   "display_name": "Python (gis)",
   "language": "python",
   "name": "myenv"
  },
  "language_info": {
   "codemirror_mode": {
    "name": "ipython",
    "version": 3
   },
   "file_extension": ".py",
   "mimetype": "text/x-python",
   "name": "python",
   "nbconvert_exporter": "python",
   "pygments_lexer": "ipython3",
   "version": "3.6.4"
  }
 },
 "nbformat": 4,
 "nbformat_minor": 2
}
